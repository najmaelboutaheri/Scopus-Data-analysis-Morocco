{
  "cells": [
    {
      "cell_type": "markdown",
      "source": [
        "# Buisness Inteligence Project on Moroccan universities\n",
        "This project aims to exctract insights from Scopus global data about moroccan universities\n",
        "then visulize the results on **Power Bi**\n",
        "### Task1 outlines:\n",
        "- Understand the meaning of each column\n",
        "- Identify the objectives\n",
        "- Discover paterns within data\n",
        "- Data cleaning\n",
        "- Data modeling\n",
        "\n",
        "### Task2 outlines:\n",
        "- Identify tools to store the data\n",
        "- Connect the **Power BI** to the storage\n",
        "- Ensure the atoumatic update\n",
        "- Create and develop with dashboards"
      ],
      "metadata": {
        "id": "0PArQ1OinT7w"
      }
    },
    {
      "cell_type": "markdown",
      "source": [
        "Install required packages"
      ],
      "metadata": {
        "id": "P-Nj6N9Qnhoj"
      }
    },
    {
      "cell_type": "markdown",
      "source": [
        "## DATA UNDERSTANDING"
      ],
      "metadata": {
        "id": "IiOB6mFkerw0"
      }
    },
    {
      "cell_type": "code",
      "execution_count": null,
      "metadata": {
        "id": "NPpz9TrP8Aqp"
      },
      "outputs": [],
      "source": [
        "import pandas as pd"
      ]
    },
    {
      "cell_type": "code",
      "source": [
        "pd.set_option('display.max_columns', None)"
      ],
      "metadata": {
        "id": "QBHKtzKf8-n1"
      },
      "execution_count": null,
      "outputs": []
    },
    {
      "cell_type": "code",
      "source": [
        "from google.colab import drive\n",
        "drive.mount('/content/drive')"
      ],
      "metadata": {
        "colab": {
          "base_uri": "https://localhost:8080/"
        },
        "id": "aDNngkphgJhz",
        "outputId": "38401477-bd59-4b9f-d8c4-704f753bf815"
      },
      "execution_count": null,
      "outputs": [
        {
          "output_type": "stream",
          "name": "stdout",
          "text": [
            "Drive already mounted at /content/drive; to attempt to forcibly remount, call drive.mount(\"/content/drive\", force_remount=True).\n"
          ]
        }
      ]
    },
    {
      "cell_type": "code",
      "execution_count": null,
      "metadata": {
        "id": "jKv4ocJc7zZC"
      },
      "outputs": [],
      "source": [
        "dataset=pd.read_csv(\"/content/drive/MyDrive/Data-Scopus/DataSample/combined_sampled_data.csv\",low_memory=False)"
      ]
    },
    {
      "cell_type": "markdown",
      "source": [
        "Get close to data"
      ],
      "metadata": {
        "id": "SW2nd8einlMk"
      }
    },
    {
      "cell_type": "code",
      "execution_count": null,
      "metadata": {
        "colab": {
          "base_uri": "https://localhost:8080/",
          "height": 1000
        },
        "id": "Czz2K5Zt8gDu",
        "outputId": "c7102f92-434c-4326-aff6-5c82bffa6a43"
      },
      "outputs": [
        {
          "output_type": "execute_result",
          "data": {
            "text/plain": [
              "                                                Authors  \\\n",
              "0     Ouassou M.; Mukhaimar M.; El Amrani A.; Kroyma...   \n",
              "1          Ouadoud M.; Chafiq T.; Rida N.; Chkouri M.Y.   \n",
              "2                     Naja A.; Boulmalf M.; Essaaidi M.   \n",
              "3                                Arhrib A.; Maniatis M.   \n",
              "4                             Abumsimir B.; Ennaji M.M.   \n",
              "...                                                 ...   \n",
              "6301  Akenoun B.; Dahbi S.; Tahiri N.; El Bounagui O...   \n",
              "6302  Hamdani A.; Bouda S.; Adiba A.; Boutagayout A....   \n",
              "6303  Mahfoud H.; Etber A.; Errmili K.; Khairoun S.;...   \n",
              "6304  Derraz Y.; Korchiyne R.; Laraqui A.; Benassila...   \n",
              "6305                                        Miskaoui M.   \n",
              "\n",
              "                                      Author full names  \\\n",
              "0     Ouassou, Malika (55982817300); Mukhaimar, Mais...   \n",
              "1     Ouadoud, Mohammed (57118204100); Chafiq, Tarik...   \n",
              "2     Naja, Assia (56925051700); Boulmalf, Mohammed ...   \n",
              "3     Arhrib, A. (6701409798); Maniatis, M. (1512707...   \n",
              "4     Abumsimir, Berjas (57210635732); Ennaji, Moula...   \n",
              "...                                                 ...   \n",
              "6301  Akenoun, Boutaina (57701966500); Dahbi, Smahan...   \n",
              "6302  Hamdani, Anas (57218364520); Bouda, Said (2443...   \n",
              "6303  Mahfoud, Hounaida (57766182400); Etber, Amina ...   \n",
              "6304  Derraz, Yasmin (59261322800); Korchiyne, Redou...   \n",
              "6305                         Miskaoui, M. (56919627300)   \n",
              "\n",
              "                                           Author(s) ID  \\\n",
              "0     55982817300; 57192164768; 36843980600; 8614731...   \n",
              "1     57118204100; 57035452200; 57205408147; 3671155...   \n",
              "2                 56925051700; 16238181200; 55924155500   \n",
              "3                               6701409798; 15127075500   \n",
              "4                              57210635732; 55407248700   \n",
              "...                                                 ...   \n",
              "6301  57701966500; 57203187804; 26639905000; 3536832...   \n",
              "6302  57218364520; 24437562900; 57218364797; 5721894...   \n",
              "6303  57766182400; 57220042881; 58912559300; 5891353...   \n",
              "6304  59261322800; 55496365400; 56647979600; 5933257...   \n",
              "6305                                        56919627300   \n",
              "\n",
              "                                                  Title  Year  \\\n",
              "0     Biosynthesis of indole glucosinolates and ecol...  2019   \n",
              "1     Generate a meta-model content for collaboratio...  2019   \n",
              "2     A game theoretical based rebroadcasting protoc...  2019   \n",
              "3                The two-real-singlet Dark Matter model  2019   \n",
              "4     Suggested parameters to setup y chromosome mic...  2019   \n",
              "...                                                 ...   ...   \n",
              "6301  Engineering the optoelectronic and thermoelect...  2024   \n",
              "6302  Linking carbohydrate and amino acid reserves i...  2024   \n",
              "6303  Ovarian vein and inferior vena cava thrombosis...  2024   \n",
              "6304  Machine Learning in Breast Cancer Diagnosis: A...  2024   \n",
              "6305  Neutrino model with broken μ -τ symmetry and u...  2024   \n",
              "\n",
              "                                           Source title Volume Issue Art. No.  \\\n",
              "0                            Comptes Rendus - Biologies    342   3-4      NaN   \n",
              "1     International Journal of Interactive Mobile Te...     13     1      NaN   \n",
              "2     2019 15th International Wireless Communication...    NaN   NaN  8766594   \n",
              "3     Physics Letters, Section B: Nuclear, Elementar...    796   NaN      NaN   \n",
              "4                                       Future Oncology     15    24      NaN   \n",
              "...                                                 ...    ...   ...      ...   \n",
              "6301         Journal of Physics and Chemistry of Solids    194   NaN   112229   \n",
              "6302                                            Vegetos    NaN   NaN      NaN   \n",
              "6303                     Case Reports in Women's Health     41   NaN   e00592   \n",
              "6304  Proceedings - 11th International Conference on...    NaN   NaN      NaN   \n",
              "6305                       Physics of the Dark Universe     45   NaN   101507   \n",
              "\n",
              "     Page start Page end  Page count  Cited by  \\\n",
              "0            58       80        22.0         5   \n",
              "1            37       52        15.0         1   \n",
              "2           591      596         5.0         3   \n",
              "3            15       19         4.0         6   \n",
              "4          2791     2794         3.0         0   \n",
              "...         ...      ...         ...       ...   \n",
              "6301        NaN      NaN         NaN         2   \n",
              "6302        NaN      NaN         NaN         0   \n",
              "6303        NaN      NaN         NaN         0   \n",
              "6304        NaN      NaN         NaN         0   \n",
              "6305        NaN      NaN         NaN         0   \n",
              "\n",
              "                                    DOI  \\\n",
              "0            10.1016/j.crvi.2019.03.005   \n",
              "1              10.3991/ijim.v13i01.9440   \n",
              "2            10.1109/IWCMC.2019.8766594   \n",
              "3        10.1016/j.physletb.2019.07.023   \n",
              "4                 10.2217/fon-2019-0197   \n",
              "...                                 ...   \n",
              "6301         10.1016/j.jpcs.2024.112229   \n",
              "6302         10.1007/s42535-024-01009-9   \n",
              "6303         10.1016/j.crwh.2024.e00592   \n",
              "6304  10.1109/WINCOM62286.2024.10657943   \n",
              "6305         10.1016/j.dark.2024.101507   \n",
              "\n",
              "                                                   Link  \\\n",
              "0     https://www.scopus.com/inward/record.uri?eid=2...   \n",
              "1     https://www.scopus.com/inward/record.uri?eid=2...   \n",
              "2     https://www.scopus.com/inward/record.uri?eid=2...   \n",
              "3     https://www.scopus.com/inward/record.uri?eid=2...   \n",
              "4     https://www.scopus.com/inward/record.uri?eid=2...   \n",
              "...                                                 ...   \n",
              "6301  https://www.scopus.com/inward/record.uri?eid=2...   \n",
              "6302  https://www.scopus.com/inward/record.uri?eid=2...   \n",
              "6303  https://www.scopus.com/inward/record.uri?eid=2...   \n",
              "6304  https://www.scopus.com/inward/record.uri?eid=2...   \n",
              "6305  https://www.scopus.com/inward/record.uri?eid=2...   \n",
              "\n",
              "                                           Affiliations  \\\n",
              "0     Unité « Écologie, systématique et évolution »,...   \n",
              "1     Laboratory of Informatics, Research Operationa...   \n",
              "2     Mohammed v University in Rabat, Morocco; Inter...   \n",
              "3     Abdelmalek Essaadi University, Faculty of Scie...   \n",
              "4     Team of Virology Oncology and Medical Biotechn...   \n",
              "...                                                 ...   \n",
              "6301  Laboratoire de Matière Condensée et Sciences I...   \n",
              "6302  National Institute of Agricultural Research (I...   \n",
              "6303  Gynaecology-Obstetrics and Endoscopy Departmen...   \n",
              "6304  Ibn Tofail University, Faculty of Sciences, Ke...   \n",
              "6305  Faculty of Science, Mohammed V University, Rab...   \n",
              "\n",
              "                              Authors with affiliations  \\\n",
              "0     Ouassou M., Unité « Écologie, systématique et ...   \n",
              "1     Ouadoud M., Laboratory of Informatics, Researc...   \n",
              "2     Naja A., Mohammed v University in Rabat, Moroc...   \n",
              "3     Arhrib A., Abdelmalek Essaadi University, Facu...   \n",
              "4     Abumsimir B., Team of Virology Oncology and Me...   \n",
              "...                                                 ...   \n",
              "6301  Akenoun B., Laboratoire de Matière Condensée e...   \n",
              "6302  Hamdani A., National Institute of Agricultural...   \n",
              "6303  Mahfoud H., Gynaecology-Obstetrics and Endosco...   \n",
              "6304  Derraz Y., Ibn Tofail University, Faculty of S...   \n",
              "6305  Miskaoui M., Faculty of Science, Mohammed V Un...   \n",
              "\n",
              "                                               Abstract  \\\n",
              "0     Indole glucosinolates are plant secondary meta...   \n",
              "1     The context of this work is that of designing ...   \n",
              "2     Vehicular Ad-hoc Networks (VANETs) are a categ...   \n",
              "3     We revisit a Dark Matter model with an extensi...   \n",
              "4                               [No abstract available]   \n",
              "...                                                 ...   \n",
              "6301  First-principles calculations are used to stud...   \n",
              "6302  This study assessed the effect of climatic con...   \n",
              "6303  Ovarian vein thrombosis (OVT) is a rare but se...   \n",
              "6304  Breast cancer remains a significant global hea...   \n",
              "6305  We propose a new neutrino flavor model based o...   \n",
              "\n",
              "                                        Author Keywords  \\\n",
              "0     Brassicales; Phytoalexin; Phytoanticipin; Spec...   \n",
              "1     Collaboration space; Designing an IMS-LD meta-...   \n",
              "2     Broadcast storm problem; Broadcasting protocol...   \n",
              "3                                                   NaN   \n",
              "4     genetic risk; microsatellites; prostate cancer...   \n",
              "...                                                 ...   \n",
              "6301  Cs<sub>2</sub>BiAgY<sub>6</sub> (Y= Br or Cl) ...   \n",
              "6302  Climate; Phenology; Production; Prunus domesti...   \n",
              "6303  Anticoagulant treatment; Fever; Inferior vena ...   \n",
              "6304  Breast Cancer Diagnosis; Clinical Outcomes; He...   \n",
              "6305  Flavor symmetries; Leptogenesis; MSSM; Neutrin...   \n",
              "\n",
              "                                         Index Keywords  \\\n",
              "0     Brassicaceae; Ecology; Glucosinolates; Indoles...   \n",
              "1                                                   NaN   \n",
              "2     Accidents; Computation theory; Game theory; Mo...   \n",
              "3                                                   NaN   \n",
              "4     Chromosomes, Human, Y; Genetic Predisposition ...   \n",
              "...                                                 ...   \n",
              "6301  Atoms; Bromine compounds; Cell engineering; Ch...   \n",
              "6302                                                NaN   \n",
              "6303  amoxicillin plus clavulanic acid; antibiotic a...   \n",
              "6304  Contrastive Learning; Electronic health record...   \n",
              "6305                                                NaN   \n",
              "\n",
              "      Molecular Sequence Numbers  \\\n",
              "0                            NaN   \n",
              "1                            NaN   \n",
              "2                            NaN   \n",
              "3                            NaN   \n",
              "4                            NaN   \n",
              "...                          ...   \n",
              "6301                         NaN   \n",
              "6302                         NaN   \n",
              "6303                         NaN   \n",
              "6304                         NaN   \n",
              "6305                         NaN   \n",
              "\n",
              "                                          Chemicals/CAS Tradenames  \\\n",
              "0                           Glucosinolates, ; Indoles,         NaN   \n",
              "1                                                   NaN        NaN   \n",
              "2                                                   NaN        NaN   \n",
              "3                                                   NaN        NaN   \n",
              "4                                                   NaN        NaN   \n",
              "...                                                 ...        ...   \n",
              "6301                                                NaN        NaN   \n",
              "6302                                                NaN        NaN   \n",
              "6303  amoxicillin plus clavulanic acid, 74469-00-4, ...        NaN   \n",
              "6304                                                NaN        NaN   \n",
              "6305                                                NaN        NaN   \n",
              "\n",
              "     Manufacturers                                    Funding Details  \\\n",
              "0              NaN                                                NaN   \n",
              "1              NaN                                                NaN   \n",
              "2              NaN  International university of Rabat; Universitas...   \n",
              "3              NaN  UBB Grant Cosmología y Partículas Elementales,...   \n",
              "4              NaN                                                NaN   \n",
              "...            ...                                                ...   \n",
              "6301           NaN                                                NaN   \n",
              "6302           NaN  Icelandic Ministry of Fisheries and Agricultur...   \n",
              "6303           NaN                                                NaN   \n",
              "6304           NaN                         Université Ibn Tofail, UIT   \n",
              "6305           NaN                                                NaN   \n",
              "\n",
              "                                          Funding Texts  \\\n",
              "0                                                   NaN   \n",
              "1                                                   NaN   \n",
              "2     We would like to thank and express our gratitu...   \n",
              "3     A.A. acknowledges the Alexander von Humboldt F...   \n",
              "4                                                   NaN   \n",
              "...                                                 ...   \n",
              "6301                                                NaN   \n",
              "6302  This work was financed by the Ministry of Agri...   \n",
              "6303                                                NaN   \n",
              "6304  The authors would like to express their gratit...   \n",
              "6305                                                NaN   \n",
              "\n",
              "                                             References  \\\n",
              "0     Zhao N., Wang G., Norris A., Chen X., Chen F.,...   \n",
              "1     Ouadoud M., Chkouri M.Y., Nejjari A., Kadiri K...   \n",
              "2     Karagiannis G., Altintas O., Ekici E., Heijenk...   \n",
              "3     Silveira V., Zee A., Scalar phantoms, Phys. Le...   \n",
              "4     Pernar C.H., Ebot E.M., Wilson K.M., Mucci L.A...   \n",
              "...                                                 ...   \n",
              "6301  Bilal M., Jalali-Asadabadi S., Ahmad R., Ahmad...   \n",
              "6302  Abbott D.L., The effect of four controlled win...   \n",
              "6303  Basili G., Romano N., Bimbi M., Lorenzetti L.,...   \n",
              "6304  Sung H., Ferlay J., Siegel R.L., Laversanne M....   \n",
              "6305  Blum A., Hagedorn C., Lindner M., Fermion mass...   \n",
              "\n",
              "                                 Correspondence Address  \\\n",
              "0     O. Chauveau; Unité « Écologie, systématique et...   \n",
              "1     M. Ouadoud; Laboratory of Informatics, Researc...   \n",
              "2                                                   NaN   \n",
              "3     M. Maniatis; Departamento de Ciencias Básicas,...   \n",
              "4     M.M. Ennaji; Team of Virology Oncology and Med...   \n",
              "...                                                 ...   \n",
              "6301  N. Tahiri; Laboratoire de Matière Condensée et...   \n",
              "6302  R. Razouk; National Institute of Agricultural ...   \n",
              "6303  H. Mahfoud; Gynaecology-Obstetrics and Endosco...   \n",
              "6304                                                NaN   \n",
              "6305                                                NaN   \n",
              "\n",
              "                                                Editors  \\\n",
              "0                                                   NaN   \n",
              "1                                                   NaN   \n",
              "2                                                   NaN   \n",
              "3                                                   NaN   \n",
              "4                                                   NaN   \n",
              "...                                                 ...   \n",
              "6301                                                NaN   \n",
              "6302                                                NaN   \n",
              "6303                                                NaN   \n",
              "6304  Zaidi S.A.R.; Ibrahimi K.; El Kamili M.; Kobba...   \n",
              "6305                                                NaN   \n",
              "\n",
              "                                              Publisher Sponsors  \\\n",
              "0                                   Elsevier Masson SAS      NaN   \n",
              "1       International Association of Online Engineering      NaN   \n",
              "2     Institute of Electrical and Electronics Engine...      NaN   \n",
              "3                                         Elsevier B.V.      NaN   \n",
              "4                                  Future Medicine Ltd.      NaN   \n",
              "...                                                 ...      ...   \n",
              "6301                                       Elsevier Ltd      NaN   \n",
              "6302                                           Springer      NaN   \n",
              "6303                                      Elsevier B.V.      NaN   \n",
              "6304  Institute of Electrical and Electronics Engine...      NaN   \n",
              "6305                                      Elsevier B.V.      NaN   \n",
              "\n",
              "                                        Conference name  \\\n",
              "0                                                   NaN   \n",
              "1                                                   NaN   \n",
              "2     15th IEEE International Wireless Communication...   \n",
              "3                                                   NaN   \n",
              "4                                                   NaN   \n",
              "...                                                 ...   \n",
              "6301                                                NaN   \n",
              "6302                                                NaN   \n",
              "6303                                                NaN   \n",
              "6304  11th International Conference on Wireless Netw...   \n",
              "6305                                                NaN   \n",
              "\n",
              "                        Conference date Conference location  Conference code  \\\n",
              "0                                   NaN                 NaN              NaN   \n",
              "1                                   NaN                 NaN              NaN   \n",
              "2     24 June 2019 through 28 June 2019             Tangier         149875.0   \n",
              "3                                   NaN                 NaN              NaN   \n",
              "4                                   NaN                 NaN              NaN   \n",
              "...                                 ...                 ...              ...   \n",
              "6301                                NaN                 NaN              NaN   \n",
              "6302                                NaN                 NaN              NaN   \n",
              "6303                                NaN                 NaN              NaN   \n",
              "6304  23 July 2024 through 25 July 2024               Leeds         202430.0   \n",
              "6305                                NaN                 NaN              NaN   \n",
              "\n",
              "          ISSN             ISBN  CODEN   PubMed ID  \\\n",
              "0     16310691              NaN  CRBOC  31088733.0   \n",
              "1     18657923              NaN    NaN         NaN   \n",
              "2          NaN  978-153867747-6    NaN         NaN   \n",
              "3     03702693              NaN  PYLBA         NaN   \n",
              "4     14796694              NaN    NaN  31429608.0   \n",
              "...        ...              ...    ...         ...   \n",
              "6301  00223697              NaN  JPCSA         NaN   \n",
              "6302  09704078              NaN    NaN         NaN   \n",
              "6303  22149112              NaN    NaN         NaN   \n",
              "6304       NaN  979-835037786-6    NaN         NaN   \n",
              "6305  22126864              NaN    NaN         NaN   \n",
              "\n",
              "     Language of Original Document  \\\n",
              "0                          English   \n",
              "1                          English   \n",
              "2                          English   \n",
              "3                          English   \n",
              "4                          English   \n",
              "...                            ...   \n",
              "6301                       English   \n",
              "6302                       English   \n",
              "6303                       English   \n",
              "6304                       English   \n",
              "6305                       English   \n",
              "\n",
              "                               Abbreviated Source Title     Document Type  \\\n",
              "0                                           C. R. Biol.      Short survey   \n",
              "1                       Int. J. Interact. Mob. Technol.           Article   \n",
              "2         Int. Wirel. Commun. Mob. Comput. Conf., IWCMC  Conference paper   \n",
              "3      Phys Lett Sect B Nucl Elem Part High-Energy Phys           Article   \n",
              "4                                         Future Oncol.            Review   \n",
              "...                                                 ...               ...   \n",
              "6301                                 J Phys Chem Solids           Article   \n",
              "6302                                            Vegetos           Article   \n",
              "6303                           Case Rep. Women's Health           Article   \n",
              "6304  Proc. - Int. Conf. Wirel. Networks Mob. Commun...  Conference paper   \n",
              "6305                                Phys. Dark Universe           Article   \n",
              "\n",
              "     Publication Stage                                        Open Access  \\\n",
              "0                Final  All Open Access; Green Open Access; Hybrid Gol...   \n",
              "1                Final                  All Open Access; Gold Open Access   \n",
              "2                Final                                                NaN   \n",
              "3                Final  All Open Access; Gold Open Access; Green Open ...   \n",
              "4                Final                All Open Access; Bronze Open Access   \n",
              "...                ...                                                ...   \n",
              "6301             Final                                                NaN   \n",
              "6302  Article in press                                                NaN   \n",
              "6303             Final                  All Open Access; Gold Open Access   \n",
              "6304             Final                                                NaN   \n",
              "6305             Final                                                NaN   \n",
              "\n",
              "      Source                 EID  \n",
              "0     Scopus  2-s2.0-85065333878  \n",
              "1     Scopus  2-s2.0-85063323958  \n",
              "2     Scopus  2-s2.0-85073890950  \n",
              "3     Scopus  2-s2.0-85069575227  \n",
              "4     Scopus  2-s2.0-85071155949  \n",
              "...      ...                 ...  \n",
              "6301  Scopus  2-s2.0-85200215906  \n",
              "6302  Scopus  2-s2.0-85201631380  \n",
              "6303  Scopus  2-s2.0-85186341526  \n",
              "6304  Scopus  2-s2.0-85204287359  \n",
              "6305  Scopus  2-s2.0-85191438548  \n",
              "\n",
              "[6306 rows x 46 columns]"
            ],
            "text/html": [
              "\n",
              "  <div id=\"df-bf15dd7b-e568-4b32-83de-984cb4793524\" class=\"colab-df-container\">\n",
              "    <div>\n",
              "<style scoped>\n",
              "    .dataframe tbody tr th:only-of-type {\n",
              "        vertical-align: middle;\n",
              "    }\n",
              "\n",
              "    .dataframe tbody tr th {\n",
              "        vertical-align: top;\n",
              "    }\n",
              "\n",
              "    .dataframe thead th {\n",
              "        text-align: right;\n",
              "    }\n",
              "</style>\n",
              "<table border=\"1\" class=\"dataframe\">\n",
              "  <thead>\n",
              "    <tr style=\"text-align: right;\">\n",
              "      <th></th>\n",
              "      <th>Authors</th>\n",
              "      <th>Author full names</th>\n",
              "      <th>Author(s) ID</th>\n",
              "      <th>Title</th>\n",
              "      <th>Year</th>\n",
              "      <th>Source title</th>\n",
              "      <th>Volume</th>\n",
              "      <th>Issue</th>\n",
              "      <th>Art. No.</th>\n",
              "      <th>Page start</th>\n",
              "      <th>Page end</th>\n",
              "      <th>Page count</th>\n",
              "      <th>Cited by</th>\n",
              "      <th>DOI</th>\n",
              "      <th>Link</th>\n",
              "      <th>Affiliations</th>\n",
              "      <th>Authors with affiliations</th>\n",
              "      <th>Abstract</th>\n",
              "      <th>Author Keywords</th>\n",
              "      <th>Index Keywords</th>\n",
              "      <th>Molecular Sequence Numbers</th>\n",
              "      <th>Chemicals/CAS</th>\n",
              "      <th>Tradenames</th>\n",
              "      <th>Manufacturers</th>\n",
              "      <th>Funding Details</th>\n",
              "      <th>Funding Texts</th>\n",
              "      <th>References</th>\n",
              "      <th>Correspondence Address</th>\n",
              "      <th>Editors</th>\n",
              "      <th>Publisher</th>\n",
              "      <th>Sponsors</th>\n",
              "      <th>Conference name</th>\n",
              "      <th>Conference date</th>\n",
              "      <th>Conference location</th>\n",
              "      <th>Conference code</th>\n",
              "      <th>ISSN</th>\n",
              "      <th>ISBN</th>\n",
              "      <th>CODEN</th>\n",
              "      <th>PubMed ID</th>\n",
              "      <th>Language of Original Document</th>\n",
              "      <th>Abbreviated Source Title</th>\n",
              "      <th>Document Type</th>\n",
              "      <th>Publication Stage</th>\n",
              "      <th>Open Access</th>\n",
              "      <th>Source</th>\n",
              "      <th>EID</th>\n",
              "    </tr>\n",
              "  </thead>\n",
              "  <tbody>\n",
              "    <tr>\n",
              "      <th>0</th>\n",
              "      <td>Ouassou M.; Mukhaimar M.; El Amrani A.; Kroyma...</td>\n",
              "      <td>Ouassou, Malika (55982817300); Mukhaimar, Mais...</td>\n",
              "      <td>55982817300; 57192164768; 36843980600; 8614731...</td>\n",
              "      <td>Biosynthesis of indole glucosinolates and ecol...</td>\n",
              "      <td>2019</td>\n",
              "      <td>Comptes Rendus - Biologies</td>\n",
              "      <td>342</td>\n",
              "      <td>3-4</td>\n",
              "      <td>NaN</td>\n",
              "      <td>58</td>\n",
              "      <td>80</td>\n",
              "      <td>22.0</td>\n",
              "      <td>5</td>\n",
              "      <td>10.1016/j.crvi.2019.03.005</td>\n",
              "      <td>https://www.scopus.com/inward/record.uri?eid=2...</td>\n",
              "      <td>Unité « Écologie, systématique et évolution »,...</td>\n",
              "      <td>Ouassou M., Unité « Écologie, systématique et ...</td>\n",
              "      <td>Indole glucosinolates are plant secondary meta...</td>\n",
              "      <td>Brassicales; Phytoalexin; Phytoanticipin; Spec...</td>\n",
              "      <td>Brassicaceae; Ecology; Glucosinolates; Indoles...</td>\n",
              "      <td>NaN</td>\n",
              "      <td>Glucosinolates, ; Indoles,</td>\n",
              "      <td>NaN</td>\n",
              "      <td>NaN</td>\n",
              "      <td>NaN</td>\n",
              "      <td>NaN</td>\n",
              "      <td>Zhao N., Wang G., Norris A., Chen X., Chen F.,...</td>\n",
              "      <td>O. Chauveau; Unité « Écologie, systématique et...</td>\n",
              "      <td>NaN</td>\n",
              "      <td>Elsevier Masson SAS</td>\n",
              "      <td>NaN</td>\n",
              "      <td>NaN</td>\n",
              "      <td>NaN</td>\n",
              "      <td>NaN</td>\n",
              "      <td>NaN</td>\n",
              "      <td>16310691</td>\n",
              "      <td>NaN</td>\n",
              "      <td>CRBOC</td>\n",
              "      <td>31088733.0</td>\n",
              "      <td>English</td>\n",
              "      <td>C. R. Biol.</td>\n",
              "      <td>Short survey</td>\n",
              "      <td>Final</td>\n",
              "      <td>All Open Access; Green Open Access; Hybrid Gol...</td>\n",
              "      <td>Scopus</td>\n",
              "      <td>2-s2.0-85065333878</td>\n",
              "    </tr>\n",
              "    <tr>\n",
              "      <th>1</th>\n",
              "      <td>Ouadoud M.; Chafiq T.; Rida N.; Chkouri M.Y.</td>\n",
              "      <td>Ouadoud, Mohammed (57118204100); Chafiq, Tarik...</td>\n",
              "      <td>57118204100; 57035452200; 57205408147; 3671155...</td>\n",
              "      <td>Generate a meta-model content for collaboratio...</td>\n",
              "      <td>2019</td>\n",
              "      <td>International Journal of Interactive Mobile Te...</td>\n",
              "      <td>13</td>\n",
              "      <td>1</td>\n",
              "      <td>NaN</td>\n",
              "      <td>37</td>\n",
              "      <td>52</td>\n",
              "      <td>15.0</td>\n",
              "      <td>1</td>\n",
              "      <td>10.3991/ijim.v13i01.9440</td>\n",
              "      <td>https://www.scopus.com/inward/record.uri?eid=2...</td>\n",
              "      <td>Laboratory of Informatics, Research Operationa...</td>\n",
              "      <td>Ouadoud M., Laboratory of Informatics, Researc...</td>\n",
              "      <td>The context of this work is that of designing ...</td>\n",
              "      <td>Collaboration space; Designing an IMS-LD meta-...</td>\n",
              "      <td>NaN</td>\n",
              "      <td>NaN</td>\n",
              "      <td>NaN</td>\n",
              "      <td>NaN</td>\n",
              "      <td>NaN</td>\n",
              "      <td>NaN</td>\n",
              "      <td>NaN</td>\n",
              "      <td>Ouadoud M., Chkouri M.Y., Nejjari A., Kadiri K...</td>\n",
              "      <td>M. Ouadoud; Laboratory of Informatics, Researc...</td>\n",
              "      <td>NaN</td>\n",
              "      <td>International Association of Online Engineering</td>\n",
              "      <td>NaN</td>\n",
              "      <td>NaN</td>\n",
              "      <td>NaN</td>\n",
              "      <td>NaN</td>\n",
              "      <td>NaN</td>\n",
              "      <td>18657923</td>\n",
              "      <td>NaN</td>\n",
              "      <td>NaN</td>\n",
              "      <td>NaN</td>\n",
              "      <td>English</td>\n",
              "      <td>Int. J. Interact. Mob. Technol.</td>\n",
              "      <td>Article</td>\n",
              "      <td>Final</td>\n",
              "      <td>All Open Access; Gold Open Access</td>\n",
              "      <td>Scopus</td>\n",
              "      <td>2-s2.0-85063323958</td>\n",
              "    </tr>\n",
              "    <tr>\n",
              "      <th>2</th>\n",
              "      <td>Naja A.; Boulmalf M.; Essaaidi M.</td>\n",
              "      <td>Naja, Assia (56925051700); Boulmalf, Mohammed ...</td>\n",
              "      <td>56925051700; 16238181200; 55924155500</td>\n",
              "      <td>A game theoretical based rebroadcasting protoc...</td>\n",
              "      <td>2019</td>\n",
              "      <td>2019 15th International Wireless Communication...</td>\n",
              "      <td>NaN</td>\n",
              "      <td>NaN</td>\n",
              "      <td>8766594</td>\n",
              "      <td>591</td>\n",
              "      <td>596</td>\n",
              "      <td>5.0</td>\n",
              "      <td>3</td>\n",
              "      <td>10.1109/IWCMC.2019.8766594</td>\n",
              "      <td>https://www.scopus.com/inward/record.uri?eid=2...</td>\n",
              "      <td>Mohammed v University in Rabat, Morocco; Inter...</td>\n",
              "      <td>Naja A., Mohammed v University in Rabat, Moroc...</td>\n",
              "      <td>Vehicular Ad-hoc Networks (VANETs) are a categ...</td>\n",
              "      <td>Broadcast storm problem; Broadcasting protocol...</td>\n",
              "      <td>Accidents; Computation theory; Game theory; Mo...</td>\n",
              "      <td>NaN</td>\n",
              "      <td>NaN</td>\n",
              "      <td>NaN</td>\n",
              "      <td>NaN</td>\n",
              "      <td>International university of Rabat; Universitas...</td>\n",
              "      <td>We would like to thank and express our gratitu...</td>\n",
              "      <td>Karagiannis G., Altintas O., Ekici E., Heijenk...</td>\n",
              "      <td>NaN</td>\n",
              "      <td>NaN</td>\n",
              "      <td>Institute of Electrical and Electronics Engine...</td>\n",
              "      <td>NaN</td>\n",
              "      <td>15th IEEE International Wireless Communication...</td>\n",
              "      <td>24 June 2019 through 28 June 2019</td>\n",
              "      <td>Tangier</td>\n",
              "      <td>149875.0</td>\n",
              "      <td>NaN</td>\n",
              "      <td>978-153867747-6</td>\n",
              "      <td>NaN</td>\n",
              "      <td>NaN</td>\n",
              "      <td>English</td>\n",
              "      <td>Int. Wirel. Commun. Mob. Comput. Conf., IWCMC</td>\n",
              "      <td>Conference paper</td>\n",
              "      <td>Final</td>\n",
              "      <td>NaN</td>\n",
              "      <td>Scopus</td>\n",
              "      <td>2-s2.0-85073890950</td>\n",
              "    </tr>\n",
              "    <tr>\n",
              "      <th>3</th>\n",
              "      <td>Arhrib A.; Maniatis M.</td>\n",
              "      <td>Arhrib, A. (6701409798); Maniatis, M. (1512707...</td>\n",
              "      <td>6701409798; 15127075500</td>\n",
              "      <td>The two-real-singlet Dark Matter model</td>\n",
              "      <td>2019</td>\n",
              "      <td>Physics Letters, Section B: Nuclear, Elementar...</td>\n",
              "      <td>796</td>\n",
              "      <td>NaN</td>\n",
              "      <td>NaN</td>\n",
              "      <td>15</td>\n",
              "      <td>19</td>\n",
              "      <td>4.0</td>\n",
              "      <td>6</td>\n",
              "      <td>10.1016/j.physletb.2019.07.023</td>\n",
              "      <td>https://www.scopus.com/inward/record.uri?eid=2...</td>\n",
              "      <td>Abdelmalek Essaadi University, Faculty of Scie...</td>\n",
              "      <td>Arhrib A., Abdelmalek Essaadi University, Facu...</td>\n",
              "      <td>We revisit a Dark Matter model with an extensi...</td>\n",
              "      <td>NaN</td>\n",
              "      <td>NaN</td>\n",
              "      <td>NaN</td>\n",
              "      <td>NaN</td>\n",
              "      <td>NaN</td>\n",
              "      <td>NaN</td>\n",
              "      <td>UBB Grant Cosmología y Partículas Elementales,...</td>\n",
              "      <td>A.A. acknowledges the Alexander von Humboldt F...</td>\n",
              "      <td>Silveira V., Zee A., Scalar phantoms, Phys. Le...</td>\n",
              "      <td>M. Maniatis; Departamento de Ciencias Básicas,...</td>\n",
              "      <td>NaN</td>\n",
              "      <td>Elsevier B.V.</td>\n",
              "      <td>NaN</td>\n",
              "      <td>NaN</td>\n",
              "      <td>NaN</td>\n",
              "      <td>NaN</td>\n",
              "      <td>NaN</td>\n",
              "      <td>03702693</td>\n",
              "      <td>NaN</td>\n",
              "      <td>PYLBA</td>\n",
              "      <td>NaN</td>\n",
              "      <td>English</td>\n",
              "      <td>Phys Lett Sect B Nucl Elem Part High-Energy Phys</td>\n",
              "      <td>Article</td>\n",
              "      <td>Final</td>\n",
              "      <td>All Open Access; Gold Open Access; Green Open ...</td>\n",
              "      <td>Scopus</td>\n",
              "      <td>2-s2.0-85069575227</td>\n",
              "    </tr>\n",
              "    <tr>\n",
              "      <th>4</th>\n",
              "      <td>Abumsimir B.; Ennaji M.M.</td>\n",
              "      <td>Abumsimir, Berjas (57210635732); Ennaji, Moula...</td>\n",
              "      <td>57210635732; 55407248700</td>\n",
              "      <td>Suggested parameters to setup y chromosome mic...</td>\n",
              "      <td>2019</td>\n",
              "      <td>Future Oncology</td>\n",
              "      <td>15</td>\n",
              "      <td>24</td>\n",
              "      <td>NaN</td>\n",
              "      <td>2791</td>\n",
              "      <td>2794</td>\n",
              "      <td>3.0</td>\n",
              "      <td>0</td>\n",
              "      <td>10.2217/fon-2019-0197</td>\n",
              "      <td>https://www.scopus.com/inward/record.uri?eid=2...</td>\n",
              "      <td>Team of Virology Oncology and Medical Biotechn...</td>\n",
              "      <td>Abumsimir B., Team of Virology Oncology and Me...</td>\n",
              "      <td>[No abstract available]</td>\n",
              "      <td>genetic risk; microsatellites; prostate cancer...</td>\n",
              "      <td>Chromosomes, Human, Y; Genetic Predisposition ...</td>\n",
              "      <td>NaN</td>\n",
              "      <td>NaN</td>\n",
              "      <td>NaN</td>\n",
              "      <td>NaN</td>\n",
              "      <td>NaN</td>\n",
              "      <td>NaN</td>\n",
              "      <td>Pernar C.H., Ebot E.M., Wilson K.M., Mucci L.A...</td>\n",
              "      <td>M.M. Ennaji; Team of Virology Oncology and Med...</td>\n",
              "      <td>NaN</td>\n",
              "      <td>Future Medicine Ltd.</td>\n",
              "      <td>NaN</td>\n",
              "      <td>NaN</td>\n",
              "      <td>NaN</td>\n",
              "      <td>NaN</td>\n",
              "      <td>NaN</td>\n",
              "      <td>14796694</td>\n",
              "      <td>NaN</td>\n",
              "      <td>NaN</td>\n",
              "      <td>31429608.0</td>\n",
              "      <td>English</td>\n",
              "      <td>Future Oncol.</td>\n",
              "      <td>Review</td>\n",
              "      <td>Final</td>\n",
              "      <td>All Open Access; Bronze Open Access</td>\n",
              "      <td>Scopus</td>\n",
              "      <td>2-s2.0-85071155949</td>\n",
              "    </tr>\n",
              "    <tr>\n",
              "      <th>...</th>\n",
              "      <td>...</td>\n",
              "      <td>...</td>\n",
              "      <td>...</td>\n",
              "      <td>...</td>\n",
              "      <td>...</td>\n",
              "      <td>...</td>\n",
              "      <td>...</td>\n",
              "      <td>...</td>\n",
              "      <td>...</td>\n",
              "      <td>...</td>\n",
              "      <td>...</td>\n",
              "      <td>...</td>\n",
              "      <td>...</td>\n",
              "      <td>...</td>\n",
              "      <td>...</td>\n",
              "      <td>...</td>\n",
              "      <td>...</td>\n",
              "      <td>...</td>\n",
              "      <td>...</td>\n",
              "      <td>...</td>\n",
              "      <td>...</td>\n",
              "      <td>...</td>\n",
              "      <td>...</td>\n",
              "      <td>...</td>\n",
              "      <td>...</td>\n",
              "      <td>...</td>\n",
              "      <td>...</td>\n",
              "      <td>...</td>\n",
              "      <td>...</td>\n",
              "      <td>...</td>\n",
              "      <td>...</td>\n",
              "      <td>...</td>\n",
              "      <td>...</td>\n",
              "      <td>...</td>\n",
              "      <td>...</td>\n",
              "      <td>...</td>\n",
              "      <td>...</td>\n",
              "      <td>...</td>\n",
              "      <td>...</td>\n",
              "      <td>...</td>\n",
              "      <td>...</td>\n",
              "      <td>...</td>\n",
              "      <td>...</td>\n",
              "      <td>...</td>\n",
              "      <td>...</td>\n",
              "      <td>...</td>\n",
              "    </tr>\n",
              "    <tr>\n",
              "      <th>6301</th>\n",
              "      <td>Akenoun B.; Dahbi S.; Tahiri N.; El Bounagui O...</td>\n",
              "      <td>Akenoun, Boutaina (57701966500); Dahbi, Smahan...</td>\n",
              "      <td>57701966500; 57203187804; 26639905000; 3536832...</td>\n",
              "      <td>Engineering the optoelectronic and thermoelect...</td>\n",
              "      <td>2024</td>\n",
              "      <td>Journal of Physics and Chemistry of Solids</td>\n",
              "      <td>194</td>\n",
              "      <td>NaN</td>\n",
              "      <td>112229</td>\n",
              "      <td>NaN</td>\n",
              "      <td>NaN</td>\n",
              "      <td>NaN</td>\n",
              "      <td>2</td>\n",
              "      <td>10.1016/j.jpcs.2024.112229</td>\n",
              "      <td>https://www.scopus.com/inward/record.uri?eid=2...</td>\n",
              "      <td>Laboratoire de Matière Condensée et Sciences I...</td>\n",
              "      <td>Akenoun B., Laboratoire de Matière Condensée e...</td>\n",
              "      <td>First-principles calculations are used to stud...</td>\n",
              "      <td>Cs&lt;sub&gt;2&lt;/sub&gt;BiAgY&lt;sub&gt;6&lt;/sub&gt; (Y= Br or Cl) ...</td>\n",
              "      <td>Atoms; Bromine compounds; Cell engineering; Ch...</td>\n",
              "      <td>NaN</td>\n",
              "      <td>NaN</td>\n",
              "      <td>NaN</td>\n",
              "      <td>NaN</td>\n",
              "      <td>NaN</td>\n",
              "      <td>NaN</td>\n",
              "      <td>Bilal M., Jalali-Asadabadi S., Ahmad R., Ahmad...</td>\n",
              "      <td>N. Tahiri; Laboratoire de Matière Condensée et...</td>\n",
              "      <td>NaN</td>\n",
              "      <td>Elsevier Ltd</td>\n",
              "      <td>NaN</td>\n",
              "      <td>NaN</td>\n",
              "      <td>NaN</td>\n",
              "      <td>NaN</td>\n",
              "      <td>NaN</td>\n",
              "      <td>00223697</td>\n",
              "      <td>NaN</td>\n",
              "      <td>JPCSA</td>\n",
              "      <td>NaN</td>\n",
              "      <td>English</td>\n",
              "      <td>J Phys Chem Solids</td>\n",
              "      <td>Article</td>\n",
              "      <td>Final</td>\n",
              "      <td>NaN</td>\n",
              "      <td>Scopus</td>\n",
              "      <td>2-s2.0-85200215906</td>\n",
              "    </tr>\n",
              "    <tr>\n",
              "      <th>6302</th>\n",
              "      <td>Hamdani A.; Bouda S.; Adiba A.; Boutagayout A....</td>\n",
              "      <td>Hamdani, Anas (57218364520); Bouda, Said (2443...</td>\n",
              "      <td>57218364520; 24437562900; 57218364797; 5721894...</td>\n",
              "      <td>Linking carbohydrate and amino acid reserves i...</td>\n",
              "      <td>2024</td>\n",
              "      <td>Vegetos</td>\n",
              "      <td>NaN</td>\n",
              "      <td>NaN</td>\n",
              "      <td>NaN</td>\n",
              "      <td>NaN</td>\n",
              "      <td>NaN</td>\n",
              "      <td>NaN</td>\n",
              "      <td>0</td>\n",
              "      <td>10.1007/s42535-024-01009-9</td>\n",
              "      <td>https://www.scopus.com/inward/record.uri?eid=2...</td>\n",
              "      <td>National Institute of Agricultural Research (I...</td>\n",
              "      <td>Hamdani A., National Institute of Agricultural...</td>\n",
              "      <td>This study assessed the effect of climatic con...</td>\n",
              "      <td>Climate; Phenology; Production; Prunus domesti...</td>\n",
              "      <td>NaN</td>\n",
              "      <td>NaN</td>\n",
              "      <td>NaN</td>\n",
              "      <td>NaN</td>\n",
              "      <td>NaN</td>\n",
              "      <td>Icelandic Ministry of Fisheries and Agricultur...</td>\n",
              "      <td>This work was financed by the Ministry of Agri...</td>\n",
              "      <td>Abbott D.L., The effect of four controlled win...</td>\n",
              "      <td>R. Razouk; National Institute of Agricultural ...</td>\n",
              "      <td>NaN</td>\n",
              "      <td>Springer</td>\n",
              "      <td>NaN</td>\n",
              "      <td>NaN</td>\n",
              "      <td>NaN</td>\n",
              "      <td>NaN</td>\n",
              "      <td>NaN</td>\n",
              "      <td>09704078</td>\n",
              "      <td>NaN</td>\n",
              "      <td>NaN</td>\n",
              "      <td>NaN</td>\n",
              "      <td>English</td>\n",
              "      <td>Vegetos</td>\n",
              "      <td>Article</td>\n",
              "      <td>Article in press</td>\n",
              "      <td>NaN</td>\n",
              "      <td>Scopus</td>\n",
              "      <td>2-s2.0-85201631380</td>\n",
              "    </tr>\n",
              "    <tr>\n",
              "      <th>6303</th>\n",
              "      <td>Mahfoud H.; Etber A.; Errmili K.; Khairoun S.;...</td>\n",
              "      <td>Mahfoud, Hounaida (57766182400); Etber, Amina ...</td>\n",
              "      <td>57766182400; 57220042881; 58912559300; 5891353...</td>\n",
              "      <td>Ovarian vein and inferior vena cava thrombosis...</td>\n",
              "      <td>2024</td>\n",
              "      <td>Case Reports in Women's Health</td>\n",
              "      <td>41</td>\n",
              "      <td>NaN</td>\n",
              "      <td>e00592</td>\n",
              "      <td>NaN</td>\n",
              "      <td>NaN</td>\n",
              "      <td>NaN</td>\n",
              "      <td>0</td>\n",
              "      <td>10.1016/j.crwh.2024.e00592</td>\n",
              "      <td>https://www.scopus.com/inward/record.uri?eid=2...</td>\n",
              "      <td>Gynaecology-Obstetrics and Endoscopy Departmen...</td>\n",
              "      <td>Mahfoud H., Gynaecology-Obstetrics and Endosco...</td>\n",
              "      <td>Ovarian vein thrombosis (OVT) is a rare but se...</td>\n",
              "      <td>Anticoagulant treatment; Fever; Inferior vena ...</td>\n",
              "      <td>amoxicillin plus clavulanic acid; antibiotic a...</td>\n",
              "      <td>NaN</td>\n",
              "      <td>amoxicillin plus clavulanic acid, 74469-00-4, ...</td>\n",
              "      <td>NaN</td>\n",
              "      <td>NaN</td>\n",
              "      <td>NaN</td>\n",
              "      <td>NaN</td>\n",
              "      <td>Basili G., Romano N., Bimbi M., Lorenzetti L.,...</td>\n",
              "      <td>H. Mahfoud; Gynaecology-Obstetrics and Endosco...</td>\n",
              "      <td>NaN</td>\n",
              "      <td>Elsevier B.V.</td>\n",
              "      <td>NaN</td>\n",
              "      <td>NaN</td>\n",
              "      <td>NaN</td>\n",
              "      <td>NaN</td>\n",
              "      <td>NaN</td>\n",
              "      <td>22149112</td>\n",
              "      <td>NaN</td>\n",
              "      <td>NaN</td>\n",
              "      <td>NaN</td>\n",
              "      <td>English</td>\n",
              "      <td>Case Rep. Women's Health</td>\n",
              "      <td>Article</td>\n",
              "      <td>Final</td>\n",
              "      <td>All Open Access; Gold Open Access</td>\n",
              "      <td>Scopus</td>\n",
              "      <td>2-s2.0-85186341526</td>\n",
              "    </tr>\n",
              "    <tr>\n",
              "      <th>6304</th>\n",
              "      <td>Derraz Y.; Korchiyne R.; Laraqui A.; Benassila...</td>\n",
              "      <td>Derraz, Yasmin (59261322800); Korchiyne, Redou...</td>\n",
              "      <td>59261322800; 55496365400; 56647979600; 5933257...</td>\n",
              "      <td>Machine Learning in Breast Cancer Diagnosis: A...</td>\n",
              "      <td>2024</td>\n",
              "      <td>Proceedings - 11th International Conference on...</td>\n",
              "      <td>NaN</td>\n",
              "      <td>NaN</td>\n",
              "      <td>NaN</td>\n",
              "      <td>NaN</td>\n",
              "      <td>NaN</td>\n",
              "      <td>NaN</td>\n",
              "      <td>0</td>\n",
              "      <td>10.1109/WINCOM62286.2024.10657943</td>\n",
              "      <td>https://www.scopus.com/inward/record.uri?eid=2...</td>\n",
              "      <td>Ibn Tofail University, Faculty of Sciences, Ke...</td>\n",
              "      <td>Derraz Y., Ibn Tofail University, Faculty of S...</td>\n",
              "      <td>Breast cancer remains a significant global hea...</td>\n",
              "      <td>Breast Cancer Diagnosis; Clinical Outcomes; He...</td>\n",
              "      <td>Contrastive Learning; Electronic health record...</td>\n",
              "      <td>NaN</td>\n",
              "      <td>NaN</td>\n",
              "      <td>NaN</td>\n",
              "      <td>NaN</td>\n",
              "      <td>Université Ibn Tofail, UIT</td>\n",
              "      <td>The authors would like to express their gratit...</td>\n",
              "      <td>Sung H., Ferlay J., Siegel R.L., Laversanne M....</td>\n",
              "      <td>NaN</td>\n",
              "      <td>Zaidi S.A.R.; Ibrahimi K.; El Kamili M.; Kobba...</td>\n",
              "      <td>Institute of Electrical and Electronics Engine...</td>\n",
              "      <td>NaN</td>\n",
              "      <td>11th International Conference on Wireless Netw...</td>\n",
              "      <td>23 July 2024 through 25 July 2024</td>\n",
              "      <td>Leeds</td>\n",
              "      <td>202430.0</td>\n",
              "      <td>NaN</td>\n",
              "      <td>979-835037786-6</td>\n",
              "      <td>NaN</td>\n",
              "      <td>NaN</td>\n",
              "      <td>English</td>\n",
              "      <td>Proc. - Int. Conf. Wirel. Networks Mob. Commun...</td>\n",
              "      <td>Conference paper</td>\n",
              "      <td>Final</td>\n",
              "      <td>NaN</td>\n",
              "      <td>Scopus</td>\n",
              "      <td>2-s2.0-85204287359</td>\n",
              "    </tr>\n",
              "    <tr>\n",
              "      <th>6305</th>\n",
              "      <td>Miskaoui M.</td>\n",
              "      <td>Miskaoui, M. (56919627300)</td>\n",
              "      <td>56919627300</td>\n",
              "      <td>Neutrino model with broken μ -τ symmetry and u...</td>\n",
              "      <td>2024</td>\n",
              "      <td>Physics of the Dark Universe</td>\n",
              "      <td>45</td>\n",
              "      <td>NaN</td>\n",
              "      <td>101507</td>\n",
              "      <td>NaN</td>\n",
              "      <td>NaN</td>\n",
              "      <td>NaN</td>\n",
              "      <td>0</td>\n",
              "      <td>10.1016/j.dark.2024.101507</td>\n",
              "      <td>https://www.scopus.com/inward/record.uri?eid=2...</td>\n",
              "      <td>Faculty of Science, Mohammed V University, Rab...</td>\n",
              "      <td>Miskaoui M., Faculty of Science, Mohammed V Un...</td>\n",
              "      <td>We propose a new neutrino flavor model based o...</td>\n",
              "      <td>Flavor symmetries; Leptogenesis; MSSM; Neutrin...</td>\n",
              "      <td>NaN</td>\n",
              "      <td>NaN</td>\n",
              "      <td>NaN</td>\n",
              "      <td>NaN</td>\n",
              "      <td>NaN</td>\n",
              "      <td>NaN</td>\n",
              "      <td>NaN</td>\n",
              "      <td>Blum A., Hagedorn C., Lindner M., Fermion mass...</td>\n",
              "      <td>NaN</td>\n",
              "      <td>NaN</td>\n",
              "      <td>Elsevier B.V.</td>\n",
              "      <td>NaN</td>\n",
              "      <td>NaN</td>\n",
              "      <td>NaN</td>\n",
              "      <td>NaN</td>\n",
              "      <td>NaN</td>\n",
              "      <td>22126864</td>\n",
              "      <td>NaN</td>\n",
              "      <td>NaN</td>\n",
              "      <td>NaN</td>\n",
              "      <td>English</td>\n",
              "      <td>Phys. Dark Universe</td>\n",
              "      <td>Article</td>\n",
              "      <td>Final</td>\n",
              "      <td>NaN</td>\n",
              "      <td>Scopus</td>\n",
              "      <td>2-s2.0-85191438548</td>\n",
              "    </tr>\n",
              "  </tbody>\n",
              "</table>\n",
              "<p>6306 rows × 46 columns</p>\n",
              "</div>\n",
              "    <div class=\"colab-df-buttons\">\n",
              "\n",
              "  <div class=\"colab-df-container\">\n",
              "    <button class=\"colab-df-convert\" onclick=\"convertToInteractive('df-bf15dd7b-e568-4b32-83de-984cb4793524')\"\n",
              "            title=\"Convert this dataframe to an interactive table.\"\n",
              "            style=\"display:none;\">\n",
              "\n",
              "  <svg xmlns=\"http://www.w3.org/2000/svg\" height=\"24px\" viewBox=\"0 -960 960 960\">\n",
              "    <path d=\"M120-120v-720h720v720H120Zm60-500h600v-160H180v160Zm220 220h160v-160H400v160Zm0 220h160v-160H400v160ZM180-400h160v-160H180v160Zm440 0h160v-160H620v160ZM180-180h160v-160H180v160Zm440 0h160v-160H620v160Z\"/>\n",
              "  </svg>\n",
              "    </button>\n",
              "\n",
              "  <style>\n",
              "    .colab-df-container {\n",
              "      display:flex;\n",
              "      gap: 12px;\n",
              "    }\n",
              "\n",
              "    .colab-df-convert {\n",
              "      background-color: #E8F0FE;\n",
              "      border: none;\n",
              "      border-radius: 50%;\n",
              "      cursor: pointer;\n",
              "      display: none;\n",
              "      fill: #1967D2;\n",
              "      height: 32px;\n",
              "      padding: 0 0 0 0;\n",
              "      width: 32px;\n",
              "    }\n",
              "\n",
              "    .colab-df-convert:hover {\n",
              "      background-color: #E2EBFA;\n",
              "      box-shadow: 0px 1px 2px rgba(60, 64, 67, 0.3), 0px 1px 3px 1px rgba(60, 64, 67, 0.15);\n",
              "      fill: #174EA6;\n",
              "    }\n",
              "\n",
              "    .colab-df-buttons div {\n",
              "      margin-bottom: 4px;\n",
              "    }\n",
              "\n",
              "    [theme=dark] .colab-df-convert {\n",
              "      background-color: #3B4455;\n",
              "      fill: #D2E3FC;\n",
              "    }\n",
              "\n",
              "    [theme=dark] .colab-df-convert:hover {\n",
              "      background-color: #434B5C;\n",
              "      box-shadow: 0px 1px 3px 1px rgba(0, 0, 0, 0.15);\n",
              "      filter: drop-shadow(0px 1px 2px rgba(0, 0, 0, 0.3));\n",
              "      fill: #FFFFFF;\n",
              "    }\n",
              "  </style>\n",
              "\n",
              "    <script>\n",
              "      const buttonEl =\n",
              "        document.querySelector('#df-bf15dd7b-e568-4b32-83de-984cb4793524 button.colab-df-convert');\n",
              "      buttonEl.style.display =\n",
              "        google.colab.kernel.accessAllowed ? 'block' : 'none';\n",
              "\n",
              "      async function convertToInteractive(key) {\n",
              "        const element = document.querySelector('#df-bf15dd7b-e568-4b32-83de-984cb4793524');\n",
              "        const dataTable =\n",
              "          await google.colab.kernel.invokeFunction('convertToInteractive',\n",
              "                                                    [key], {});\n",
              "        if (!dataTable) return;\n",
              "\n",
              "        const docLinkHtml = 'Like what you see? Visit the ' +\n",
              "          '<a target=\"_blank\" href=https://colab.research.google.com/notebooks/data_table.ipynb>data table notebook</a>'\n",
              "          + ' to learn more about interactive tables.';\n",
              "        element.innerHTML = '';\n",
              "        dataTable['output_type'] = 'display_data';\n",
              "        await google.colab.output.renderOutput(dataTable, element);\n",
              "        const docLink = document.createElement('div');\n",
              "        docLink.innerHTML = docLinkHtml;\n",
              "        element.appendChild(docLink);\n",
              "      }\n",
              "    </script>\n",
              "  </div>\n",
              "\n",
              "\n",
              "<div id=\"df-ae0dd871-ef22-4853-9bc6-80b1fd2a3b0b\">\n",
              "  <button class=\"colab-df-quickchart\" onclick=\"quickchart('df-ae0dd871-ef22-4853-9bc6-80b1fd2a3b0b')\"\n",
              "            title=\"Suggest charts\"\n",
              "            style=\"display:none;\">\n",
              "\n",
              "<svg xmlns=\"http://www.w3.org/2000/svg\" height=\"24px\"viewBox=\"0 0 24 24\"\n",
              "     width=\"24px\">\n",
              "    <g>\n",
              "        <path d=\"M19 3H5c-1.1 0-2 .9-2 2v14c0 1.1.9 2 2 2h14c1.1 0 2-.9 2-2V5c0-1.1-.9-2-2-2zM9 17H7v-7h2v7zm4 0h-2V7h2v10zm4 0h-2v-4h2v4z\"/>\n",
              "    </g>\n",
              "</svg>\n",
              "  </button>\n",
              "\n",
              "<style>\n",
              "  .colab-df-quickchart {\n",
              "      --bg-color: #E8F0FE;\n",
              "      --fill-color: #1967D2;\n",
              "      --hover-bg-color: #E2EBFA;\n",
              "      --hover-fill-color: #174EA6;\n",
              "      --disabled-fill-color: #AAA;\n",
              "      --disabled-bg-color: #DDD;\n",
              "  }\n",
              "\n",
              "  [theme=dark] .colab-df-quickchart {\n",
              "      --bg-color: #3B4455;\n",
              "      --fill-color: #D2E3FC;\n",
              "      --hover-bg-color: #434B5C;\n",
              "      --hover-fill-color: #FFFFFF;\n",
              "      --disabled-bg-color: #3B4455;\n",
              "      --disabled-fill-color: #666;\n",
              "  }\n",
              "\n",
              "  .colab-df-quickchart {\n",
              "    background-color: var(--bg-color);\n",
              "    border: none;\n",
              "    border-radius: 50%;\n",
              "    cursor: pointer;\n",
              "    display: none;\n",
              "    fill: var(--fill-color);\n",
              "    height: 32px;\n",
              "    padding: 0;\n",
              "    width: 32px;\n",
              "  }\n",
              "\n",
              "  .colab-df-quickchart:hover {\n",
              "    background-color: var(--hover-bg-color);\n",
              "    box-shadow: 0 1px 2px rgba(60, 64, 67, 0.3), 0 1px 3px 1px rgba(60, 64, 67, 0.15);\n",
              "    fill: var(--button-hover-fill-color);\n",
              "  }\n",
              "\n",
              "  .colab-df-quickchart-complete:disabled,\n",
              "  .colab-df-quickchart-complete:disabled:hover {\n",
              "    background-color: var(--disabled-bg-color);\n",
              "    fill: var(--disabled-fill-color);\n",
              "    box-shadow: none;\n",
              "  }\n",
              "\n",
              "  .colab-df-spinner {\n",
              "    border: 2px solid var(--fill-color);\n",
              "    border-color: transparent;\n",
              "    border-bottom-color: var(--fill-color);\n",
              "    animation:\n",
              "      spin 1s steps(1) infinite;\n",
              "  }\n",
              "\n",
              "  @keyframes spin {\n",
              "    0% {\n",
              "      border-color: transparent;\n",
              "      border-bottom-color: var(--fill-color);\n",
              "      border-left-color: var(--fill-color);\n",
              "    }\n",
              "    20% {\n",
              "      border-color: transparent;\n",
              "      border-left-color: var(--fill-color);\n",
              "      border-top-color: var(--fill-color);\n",
              "    }\n",
              "    30% {\n",
              "      border-color: transparent;\n",
              "      border-left-color: var(--fill-color);\n",
              "      border-top-color: var(--fill-color);\n",
              "      border-right-color: var(--fill-color);\n",
              "    }\n",
              "    40% {\n",
              "      border-color: transparent;\n",
              "      border-right-color: var(--fill-color);\n",
              "      border-top-color: var(--fill-color);\n",
              "    }\n",
              "    60% {\n",
              "      border-color: transparent;\n",
              "      border-right-color: var(--fill-color);\n",
              "    }\n",
              "    80% {\n",
              "      border-color: transparent;\n",
              "      border-right-color: var(--fill-color);\n",
              "      border-bottom-color: var(--fill-color);\n",
              "    }\n",
              "    90% {\n",
              "      border-color: transparent;\n",
              "      border-bottom-color: var(--fill-color);\n",
              "    }\n",
              "  }\n",
              "</style>\n",
              "\n",
              "  <script>\n",
              "    async function quickchart(key) {\n",
              "      const quickchartButtonEl =\n",
              "        document.querySelector('#' + key + ' button');\n",
              "      quickchartButtonEl.disabled = true;  // To prevent multiple clicks.\n",
              "      quickchartButtonEl.classList.add('colab-df-spinner');\n",
              "      try {\n",
              "        const charts = await google.colab.kernel.invokeFunction(\n",
              "            'suggestCharts', [key], {});\n",
              "      } catch (error) {\n",
              "        console.error('Error during call to suggestCharts:', error);\n",
              "      }\n",
              "      quickchartButtonEl.classList.remove('colab-df-spinner');\n",
              "      quickchartButtonEl.classList.add('colab-df-quickchart-complete');\n",
              "    }\n",
              "    (() => {\n",
              "      let quickchartButtonEl =\n",
              "        document.querySelector('#df-ae0dd871-ef22-4853-9bc6-80b1fd2a3b0b button');\n",
              "      quickchartButtonEl.style.display =\n",
              "        google.colab.kernel.accessAllowed ? 'block' : 'none';\n",
              "    })();\n",
              "  </script>\n",
              "</div>\n",
              "\n",
              "  <div id=\"id_e97c13df-7f2d-42a6-b775-ce69bb366f91\">\n",
              "    <style>\n",
              "      .colab-df-generate {\n",
              "        background-color: #E8F0FE;\n",
              "        border: none;\n",
              "        border-radius: 50%;\n",
              "        cursor: pointer;\n",
              "        display: none;\n",
              "        fill: #1967D2;\n",
              "        height: 32px;\n",
              "        padding: 0 0 0 0;\n",
              "        width: 32px;\n",
              "      }\n",
              "\n",
              "      .colab-df-generate:hover {\n",
              "        background-color: #E2EBFA;\n",
              "        box-shadow: 0px 1px 2px rgba(60, 64, 67, 0.3), 0px 1px 3px 1px rgba(60, 64, 67, 0.15);\n",
              "        fill: #174EA6;\n",
              "      }\n",
              "\n",
              "      [theme=dark] .colab-df-generate {\n",
              "        background-color: #3B4455;\n",
              "        fill: #D2E3FC;\n",
              "      }\n",
              "\n",
              "      [theme=dark] .colab-df-generate:hover {\n",
              "        background-color: #434B5C;\n",
              "        box-shadow: 0px 1px 3px 1px rgba(0, 0, 0, 0.15);\n",
              "        filter: drop-shadow(0px 1px 2px rgba(0, 0, 0, 0.3));\n",
              "        fill: #FFFFFF;\n",
              "      }\n",
              "    </style>\n",
              "    <button class=\"colab-df-generate\" onclick=\"generateWithVariable('dataset')\"\n",
              "            title=\"Generate code using this dataframe.\"\n",
              "            style=\"display:none;\">\n",
              "\n",
              "  <svg xmlns=\"http://www.w3.org/2000/svg\" height=\"24px\"viewBox=\"0 0 24 24\"\n",
              "       width=\"24px\">\n",
              "    <path d=\"M7,19H8.4L18.45,9,17,7.55,7,17.6ZM5,21V16.75L18.45,3.32a2,2,0,0,1,2.83,0l1.4,1.43a1.91,1.91,0,0,1,.58,1.4,1.91,1.91,0,0,1-.58,1.4L9.25,21ZM18.45,9,17,7.55Zm-12,3A5.31,5.31,0,0,0,4.9,8.1,5.31,5.31,0,0,0,1,6.5,5.31,5.31,0,0,0,4.9,4.9,5.31,5.31,0,0,0,6.5,1,5.31,5.31,0,0,0,8.1,4.9,5.31,5.31,0,0,0,12,6.5,5.46,5.46,0,0,0,6.5,12Z\"/>\n",
              "  </svg>\n",
              "    </button>\n",
              "    <script>\n",
              "      (() => {\n",
              "      const buttonEl =\n",
              "        document.querySelector('#id_e97c13df-7f2d-42a6-b775-ce69bb366f91 button.colab-df-generate');\n",
              "      buttonEl.style.display =\n",
              "        google.colab.kernel.accessAllowed ? 'block' : 'none';\n",
              "\n",
              "      buttonEl.onclick = () => {\n",
              "        google.colab.notebook.generateWithVariable('dataset');\n",
              "      }\n",
              "      })();\n",
              "    </script>\n",
              "  </div>\n",
              "\n",
              "    </div>\n",
              "  </div>\n"
            ],
            "application/vnd.google.colaboratory.intrinsic+json": {
              "type": "dataframe",
              "variable_name": "dataset"
            }
          },
          "metadata": {},
          "execution_count": 12
        }
      ],
      "source": [
        "dataset"
      ]
    },
    {
      "cell_type": "code",
      "execution_count": null,
      "metadata": {
        "colab": {
          "base_uri": "https://localhost:8080/"
        },
        "id": "29Td35fG8g9G",
        "outputId": "54c689dc-c9c8-49b2-c22e-a9e220ee8c2c"
      },
      "outputs": [
        {
          "output_type": "stream",
          "name": "stdout",
          "text": [
            "<class 'pandas.core.frame.DataFrame'>\n",
            "RangeIndex: 6306 entries, 0 to 6305\n",
            "Data columns (total 46 columns):\n",
            " #   Column                         Non-Null Count  Dtype  \n",
            "---  ------                         --------------  -----  \n",
            " 0   Authors                        6306 non-null   object \n",
            " 1   Author full names              6306 non-null   object \n",
            " 2   Author(s) ID                   6306 non-null   object \n",
            " 3   Title                          6305 non-null   object \n",
            " 4   Year                           6306 non-null   int64  \n",
            " 5   Source title                   6306 non-null   object \n",
            " 6   Volume                         5359 non-null   object \n",
            " 7   Issue                          3276 non-null   object \n",
            " 8   Art. No.                       2334 non-null   object \n",
            " 9   Page start                     3572 non-null   object \n",
            " 10  Page end                       3538 non-null   object \n",
            " 11  Page count                     3524 non-null   float64\n",
            " 12  Cited by                       6306 non-null   int64  \n",
            " 13  DOI                            6026 non-null   object \n",
            " 14  Link                           6306 non-null   object \n",
            " 15  Affiliations                   6306 non-null   object \n",
            " 16  Authors with affiliations      6306 non-null   object \n",
            " 17  Abstract                       6306 non-null   object \n",
            " 18  Author Keywords                5599 non-null   object \n",
            " 19  Index Keywords                 3694 non-null   object \n",
            " 20  Molecular Sequence Numbers     0 non-null      float64\n",
            " 21  Chemicals/CAS                  356 non-null    object \n",
            " 22  Tradenames                     55 non-null     object \n",
            " 23  Manufacturers                  36 non-null     object \n",
            " 24  Funding Details                1624 non-null   object \n",
            " 25  Funding Texts                  1608 non-null   object \n",
            " 26  References                     3768 non-null   object \n",
            " 27  Correspondence Address         5125 non-null   object \n",
            " 28  Editors                        924 non-null    object \n",
            " 29  Publisher                      6298 non-null   object \n",
            " 30  Sponsors                       102 non-null    object \n",
            " 31  Conference name                778 non-null    object \n",
            " 32  Conference date                778 non-null    object \n",
            " 33  Conference location            778 non-null    object \n",
            " 34  Conference code                778 non-null    float64\n",
            " 35  ISSN                           5630 non-null   object \n",
            " 36  ISBN                           1154 non-null   object \n",
            " 37  CODEN                          1348 non-null   object \n",
            " 38  PubMed ID                      691 non-null    float64\n",
            " 39  Language of Original Document  6306 non-null   object \n",
            " 40  Abbreviated Source Title       6303 non-null   object \n",
            " 41  Document Type                  6306 non-null   object \n",
            " 42  Publication Stage              6306 non-null   object \n",
            " 43  Open Access                    2620 non-null   object \n",
            " 44  Source                         6306 non-null   object \n",
            " 45  EID                            6306 non-null   object \n",
            "dtypes: float64(4), int64(2), object(40)\n",
            "memory usage: 2.2+ MB\n"
          ]
        }
      ],
      "source": [
        "dataset.info()"
      ]
    },
    {
      "cell_type": "markdown",
      "source": [
        "identify the unique columns"
      ],
      "metadata": {
        "id": "ulqGbxWAnwnP"
      }
    },
    {
      "cell_type": "code",
      "source": [
        "if dataset.duplicated().any():\n",
        "    print('yes')\n",
        "else:\n",
        "    print('no')\n"
      ],
      "metadata": {
        "colab": {
          "base_uri": "https://localhost:8080/"
        },
        "id": "20h1lXwdn1fZ",
        "outputId": "473021e5-4f2d-4186-d53e-172e3178003e"
      },
      "execution_count": null,
      "outputs": [
        {
          "output_type": "stream",
          "name": "stdout",
          "text": [
            "no\n"
          ]
        }
      ]
    },
    {
      "cell_type": "code",
      "source": [
        "dataset['EID'].duplicated().any()"
      ],
      "metadata": {
        "colab": {
          "base_uri": "https://localhost:8080/"
        },
        "id": "9056sKLurMFV",
        "outputId": "91f1c3ba-f361-434a-cc8a-83b3512e04ac"
      },
      "execution_count": null,
      "outputs": [
        {
          "output_type": "execute_result",
          "data": {
            "text/plain": [
              "False"
            ]
          },
          "metadata": {},
          "execution_count": 15
        }
      ]
    },
    {
      "cell_type": "code",
      "source": [
        "dataset['DOI'].duplicated().any()"
      ],
      "metadata": {
        "id": "38h9QIZMrsd9",
        "colab": {
          "base_uri": "https://localhost:8080/"
        },
        "outputId": "a1d76693-5a2f-430d-d9e9-548583c4cfcd"
      },
      "execution_count": null,
      "outputs": [
        {
          "output_type": "execute_result",
          "data": {
            "text/plain": [
              "True"
            ]
          },
          "metadata": {},
          "execution_count": 16
        }
      ]
    },
    {
      "cell_type": "code",
      "source": [
        "dataset['Author(s) ID'].duplicated().any()"
      ],
      "metadata": {
        "colab": {
          "base_uri": "https://localhost:8080/"
        },
        "id": "3rd9DDUrrxe4",
        "outputId": "c84c2e5c-afea-4316-c873-94b377119d96"
      },
      "execution_count": null,
      "outputs": [
        {
          "output_type": "execute_result",
          "data": {
            "text/plain": [
              "True"
            ]
          },
          "metadata": {},
          "execution_count": 17
        }
      ]
    },
    {
      "cell_type": "markdown",
      "source": [
        "Check null values"
      ],
      "metadata": {
        "id": "n--MkBvcr8di"
      }
    },
    {
      "cell_type": "code",
      "source": [
        "dataset.isna().sum()"
      ],
      "metadata": {
        "colab": {
          "base_uri": "https://localhost:8080/",
          "height": 1000
        },
        "id": "ltJSdxc6r1d8",
        "outputId": "213940bf-5f5b-4352-e3cb-1aa948e8f5bb"
      },
      "execution_count": null,
      "outputs": [
        {
          "output_type": "execute_result",
          "data": {
            "text/plain": [
              "Authors                             0\n",
              "Author full names                   0\n",
              "Author(s) ID                        0\n",
              "Title                               1\n",
              "Year                                0\n",
              "Source title                        0\n",
              "Volume                            947\n",
              "Issue                            3030\n",
              "Art. No.                         3972\n",
              "Page start                       2734\n",
              "Page end                         2768\n",
              "Page count                       2782\n",
              "Cited by                            0\n",
              "DOI                               280\n",
              "Link                                0\n",
              "Affiliations                        0\n",
              "Authors with affiliations           0\n",
              "Abstract                            0\n",
              "Author Keywords                   707\n",
              "Index Keywords                   2612\n",
              "Molecular Sequence Numbers       6306\n",
              "Chemicals/CAS                    5950\n",
              "Tradenames                       6251\n",
              "Manufacturers                    6270\n",
              "Funding Details                  4682\n",
              "Funding Texts                    4698\n",
              "References                       2538\n",
              "Correspondence Address           1181\n",
              "Editors                          5382\n",
              "Publisher                           8\n",
              "Sponsors                         6204\n",
              "Conference name                  5528\n",
              "Conference date                  5528\n",
              "Conference location              5528\n",
              "Conference code                  5528\n",
              "ISSN                              676\n",
              "ISBN                             5152\n",
              "CODEN                            4958\n",
              "PubMed ID                        5615\n",
              "Language of Original Document       0\n",
              "Abbreviated Source Title            3\n",
              "Document Type                       0\n",
              "Publication Stage                   0\n",
              "Open Access                      3686\n",
              "Source                              0\n",
              "EID                                 0\n",
              "dtype: int64"
            ],
            "text/html": [
              "<div>\n",
              "<style scoped>\n",
              "    .dataframe tbody tr th:only-of-type {\n",
              "        vertical-align: middle;\n",
              "    }\n",
              "\n",
              "    .dataframe tbody tr th {\n",
              "        vertical-align: top;\n",
              "    }\n",
              "\n",
              "    .dataframe thead th {\n",
              "        text-align: right;\n",
              "    }\n",
              "</style>\n",
              "<table border=\"1\" class=\"dataframe\">\n",
              "  <thead>\n",
              "    <tr style=\"text-align: right;\">\n",
              "      <th></th>\n",
              "      <th>0</th>\n",
              "    </tr>\n",
              "  </thead>\n",
              "  <tbody>\n",
              "    <tr>\n",
              "      <th>Authors</th>\n",
              "      <td>0</td>\n",
              "    </tr>\n",
              "    <tr>\n",
              "      <th>Author full names</th>\n",
              "      <td>0</td>\n",
              "    </tr>\n",
              "    <tr>\n",
              "      <th>Author(s) ID</th>\n",
              "      <td>0</td>\n",
              "    </tr>\n",
              "    <tr>\n",
              "      <th>Title</th>\n",
              "      <td>1</td>\n",
              "    </tr>\n",
              "    <tr>\n",
              "      <th>Year</th>\n",
              "      <td>0</td>\n",
              "    </tr>\n",
              "    <tr>\n",
              "      <th>Source title</th>\n",
              "      <td>0</td>\n",
              "    </tr>\n",
              "    <tr>\n",
              "      <th>Volume</th>\n",
              "      <td>947</td>\n",
              "    </tr>\n",
              "    <tr>\n",
              "      <th>Issue</th>\n",
              "      <td>3030</td>\n",
              "    </tr>\n",
              "    <tr>\n",
              "      <th>Art. No.</th>\n",
              "      <td>3972</td>\n",
              "    </tr>\n",
              "    <tr>\n",
              "      <th>Page start</th>\n",
              "      <td>2734</td>\n",
              "    </tr>\n",
              "    <tr>\n",
              "      <th>Page end</th>\n",
              "      <td>2768</td>\n",
              "    </tr>\n",
              "    <tr>\n",
              "      <th>Page count</th>\n",
              "      <td>2782</td>\n",
              "    </tr>\n",
              "    <tr>\n",
              "      <th>Cited by</th>\n",
              "      <td>0</td>\n",
              "    </tr>\n",
              "    <tr>\n",
              "      <th>DOI</th>\n",
              "      <td>280</td>\n",
              "    </tr>\n",
              "    <tr>\n",
              "      <th>Link</th>\n",
              "      <td>0</td>\n",
              "    </tr>\n",
              "    <tr>\n",
              "      <th>Affiliations</th>\n",
              "      <td>0</td>\n",
              "    </tr>\n",
              "    <tr>\n",
              "      <th>Authors with affiliations</th>\n",
              "      <td>0</td>\n",
              "    </tr>\n",
              "    <tr>\n",
              "      <th>Abstract</th>\n",
              "      <td>0</td>\n",
              "    </tr>\n",
              "    <tr>\n",
              "      <th>Author Keywords</th>\n",
              "      <td>707</td>\n",
              "    </tr>\n",
              "    <tr>\n",
              "      <th>Index Keywords</th>\n",
              "      <td>2612</td>\n",
              "    </tr>\n",
              "    <tr>\n",
              "      <th>Molecular Sequence Numbers</th>\n",
              "      <td>6306</td>\n",
              "    </tr>\n",
              "    <tr>\n",
              "      <th>Chemicals/CAS</th>\n",
              "      <td>5950</td>\n",
              "    </tr>\n",
              "    <tr>\n",
              "      <th>Tradenames</th>\n",
              "      <td>6251</td>\n",
              "    </tr>\n",
              "    <tr>\n",
              "      <th>Manufacturers</th>\n",
              "      <td>6270</td>\n",
              "    </tr>\n",
              "    <tr>\n",
              "      <th>Funding Details</th>\n",
              "      <td>4682</td>\n",
              "    </tr>\n",
              "    <tr>\n",
              "      <th>Funding Texts</th>\n",
              "      <td>4698</td>\n",
              "    </tr>\n",
              "    <tr>\n",
              "      <th>References</th>\n",
              "      <td>2538</td>\n",
              "    </tr>\n",
              "    <tr>\n",
              "      <th>Correspondence Address</th>\n",
              "      <td>1181</td>\n",
              "    </tr>\n",
              "    <tr>\n",
              "      <th>Editors</th>\n",
              "      <td>5382</td>\n",
              "    </tr>\n",
              "    <tr>\n",
              "      <th>Publisher</th>\n",
              "      <td>8</td>\n",
              "    </tr>\n",
              "    <tr>\n",
              "      <th>Sponsors</th>\n",
              "      <td>6204</td>\n",
              "    </tr>\n",
              "    <tr>\n",
              "      <th>Conference name</th>\n",
              "      <td>5528</td>\n",
              "    </tr>\n",
              "    <tr>\n",
              "      <th>Conference date</th>\n",
              "      <td>5528</td>\n",
              "    </tr>\n",
              "    <tr>\n",
              "      <th>Conference location</th>\n",
              "      <td>5528</td>\n",
              "    </tr>\n",
              "    <tr>\n",
              "      <th>Conference code</th>\n",
              "      <td>5528</td>\n",
              "    </tr>\n",
              "    <tr>\n",
              "      <th>ISSN</th>\n",
              "      <td>676</td>\n",
              "    </tr>\n",
              "    <tr>\n",
              "      <th>ISBN</th>\n",
              "      <td>5152</td>\n",
              "    </tr>\n",
              "    <tr>\n",
              "      <th>CODEN</th>\n",
              "      <td>4958</td>\n",
              "    </tr>\n",
              "    <tr>\n",
              "      <th>PubMed ID</th>\n",
              "      <td>5615</td>\n",
              "    </tr>\n",
              "    <tr>\n",
              "      <th>Language of Original Document</th>\n",
              "      <td>0</td>\n",
              "    </tr>\n",
              "    <tr>\n",
              "      <th>Abbreviated Source Title</th>\n",
              "      <td>3</td>\n",
              "    </tr>\n",
              "    <tr>\n",
              "      <th>Document Type</th>\n",
              "      <td>0</td>\n",
              "    </tr>\n",
              "    <tr>\n",
              "      <th>Publication Stage</th>\n",
              "      <td>0</td>\n",
              "    </tr>\n",
              "    <tr>\n",
              "      <th>Open Access</th>\n",
              "      <td>3686</td>\n",
              "    </tr>\n",
              "    <tr>\n",
              "      <th>Source</th>\n",
              "      <td>0</td>\n",
              "    </tr>\n",
              "    <tr>\n",
              "      <th>EID</th>\n",
              "      <td>0</td>\n",
              "    </tr>\n",
              "  </tbody>\n",
              "</table>\n",
              "</div><br><label><b>dtype:</b> int64</label>"
            ]
          },
          "metadata": {},
          "execution_count": 18
        }
      ]
    },
    {
      "cell_type": "code",
      "source": [
        "dataset.columns"
      ],
      "metadata": {
        "colab": {
          "base_uri": "https://localhost:8080/"
        },
        "id": "IKDc-StqejER",
        "outputId": "94a1ce1b-4496-477a-fe80-d06cdd467f5c"
      },
      "execution_count": null,
      "outputs": [
        {
          "output_type": "execute_result",
          "data": {
            "text/plain": [
              "Index(['Authors', 'Author full names', 'Author(s) ID', 'Title', 'Year',\n",
              "       'Source title', 'Volume', 'Issue', 'Art. No.', 'Page start', 'Page end',\n",
              "       'Page count', 'Cited by', 'DOI', 'Link', 'Affiliations',\n",
              "       'Authors with affiliations', 'Abstract', 'Author Keywords',\n",
              "       'Index Keywords', 'Molecular Sequence Numbers', 'Chemicals/CAS',\n",
              "       'Tradenames', 'Manufacturers', 'Funding Details', 'Funding Texts',\n",
              "       'References', 'Correspondence Address', 'Editors', 'Publisher',\n",
              "       'Sponsors', 'Conference name', 'Conference date', 'Conference location',\n",
              "       'Conference code', 'ISSN', 'ISBN', 'CODEN', 'PubMed ID',\n",
              "       'Language of Original Document', 'Abbreviated Source Title',\n",
              "       'Document Type', 'Publication Stage', 'Open Access', 'Source', 'EID'],\n",
              "      dtype='object')"
            ]
          },
          "metadata": {},
          "execution_count": 19
        }
      ]
    },
    {
      "cell_type": "markdown",
      "source": [
        "## **DATA MODELING**"
      ],
      "metadata": {
        "id": "79--WnSkejnM"
      }
    },
    {
      "cell_type": "markdown",
      "source": [
        "#### 1. **Exctract data to create dimension table 'publication'**\n",
        "\n",
        "\n"
      ],
      "metadata": {
        "id": "e9yOfGxEeSxW"
      }
    },
    {
      "cell_type": "code",
      "source": [
        "# Select the columns for the Publication table\n",
        "publication_df = dataset[['EID', 'Title', 'Year', 'Volume', 'Issue', 'Art. No.',\n",
        "                          'Page start', 'Page end', 'Page count', 'Cited by', 'DOI', 'Link',\n",
        "                          'Abstract', 'Index Keywords', 'Molecular Sequence Numbers', 'Chemicals/CAS',\n",
        "                          'Tradenames', 'Manufacturers', 'Funding Details', 'Funding Texts',\n",
        "                          'References', 'Correspondence Address', 'Editors', 'Sponsors',\n",
        "                          'Conference name', 'Conference date', 'Conference location', 'Conference code',\n",
        "                          'ISBN', 'CODEN', 'PubMed ID', 'Language of Original Document',\n",
        "                          'Abbreviated Source Title', 'Document Type', 'Publication Stage',\n",
        "                          'Open Access', 'Source']]\n",
        "\n",
        "# Rename columns to follow consistent naming conventions\n",
        "publication_df.columns = ['publication_id', 'title', 'year', 'volume', 'issue', 'art_no',\n",
        "                          'page_start', 'page_end', 'page_count', 'cited_by', 'doi', 'link',\n",
        "                          'abstract', 'index_keywords', 'molecular_sequence_numbers', 'chemicals_cas',\n",
        "                          'tradenames', 'manufacturers', 'funding_details', 'funding_texts',\n",
        "                          'references', 'correspondence_address', 'editors', 'sponsors',\n",
        "                          'conference_name', 'conference_date', 'conference_location', 'conference_code',\n",
        "                          'isbn', 'coden', 'pubmed_id', 'language_of_original_document',\n",
        "                          'abbreviated_source_title', 'document_type', 'publication_stage',\n",
        "                          'open_access', 'source']\n",
        "\n",
        "# Save the publication table to a CSV file\n",
        "publication_df.to_csv('/content/drive/MyDrive/publication_table.csv', index=False)\n"
      ],
      "metadata": {
        "id": "z_w5mSPRr_yY"
      },
      "execution_count": null,
      "outputs": []
    },
    {
      "cell_type": "markdown",
      "source": [
        "#### **2**. **Exctract data to create dimension table 'source'**"
      ],
      "metadata": {
        "id": "WEQYs1fjkePJ"
      }
    },
    {
      "cell_type": "markdown",
      "source": [
        "Identify the different sources"
      ],
      "metadata": {
        "id": "rHdChm1AlJXy"
      }
    },
    {
      "cell_type": "code",
      "source": [
        "# Get unique source titles\n",
        "unique_source_titles = dataset['Source title'].unique()\n",
        "\n",
        "# Display the unique source titles\n",
        "print(unique_source_titles)\n",
        "print(len(unique_source_titles))"
      ],
      "metadata": {
        "colab": {
          "base_uri": "https://localhost:8080/"
        },
        "id": "WylzllGJlPhF",
        "outputId": "df6ec9ff-5efb-45ea-c785-1cbee413d3ac"
      },
      "execution_count": null,
      "outputs": [
        {
          "output_type": "stream",
          "name": "stdout",
          "text": [
            "['Frontiers in Microbiology' 'International Journal of Climatology'\n",
            " 'Solid State Communications' ... 'Laser and Photonics Reviews'\n",
            " 'European Journal of Soil Biology' 'Laterality']\n",
            "6695\n"
          ]
        }
      ]
    },
    {
      "cell_type": "code",
      "source": [
        "# Count occurrences of each unique source title\n",
        "source_title_counts = dataset['Source title'].value_counts()\n",
        "\n",
        "# Display the counts\n",
        "print(source_title_counts)\n"
      ],
      "metadata": {
        "colab": {
          "base_uri": "https://localhost:8080/"
        },
        "id": "Szdws8Relskc",
        "outputId": "1f99e029-445a-44b1-fb02-39cb235ec966"
      },
      "execution_count": null,
      "outputs": [
        {
          "output_type": "stream",
          "name": "stdout",
          "text": [
            "Source title\n",
            "Pan African Medical Journal                                                                1421\n",
            "Journal of Materials and Environmental Science                                              723\n",
            "Lecture Notes in Networks and Systems                                                       357\n",
            "Lecture Notes in Electrical Engineering                                                     270\n",
            "Journal of Theoretical and Applied Information Technology                                   259\n",
            "                                                                                           ... \n",
            "Advances in Experimental Medicine and Biology                                                 1\n",
            "Synthese Library                                                                              1\n",
            "2022 9th International Conference on Electrical and Electronics Engineering, ICEEE 2022       1\n",
            "IEEE Transactions on Instrumentation and Measurement                                          1\n",
            "Laterality                                                                                    1\n",
            "Name: count, Length: 6695, dtype: int64\n"
          ]
        }
      ]
    },
    {
      "cell_type": "code",
      "source": [
        "# Get unique ISSN\n",
        "unique_source_titles = dataset['ISSN'].unique()\n",
        "\n",
        "# Display the unique ISSN\n",
        "print(unique_source_titles)\n",
        "print(len(unique_source_titles))"
      ],
      "metadata": {
        "colab": {
          "base_uri": "https://localhost:8080/"
        },
        "id": "KRcff18_mEXV",
        "outputId": "cd491b30-c926-48b0-a3b5-166b3c3275ee"
      },
      "execution_count": null,
      "outputs": [
        {
          "output_type": "stream",
          "name": "stdout",
          "text": [
            "['1664302X' '08998418' '00381098' ... '15730530' '10970142' '13841076']\n",
            "4066\n"
          ]
        }
      ]
    },
    {
      "cell_type": "code",
      "source": [
        "# Get unique Publisher\n",
        "unique_source_titles = dataset['Publisher'].unique()\n",
        "\n",
        "# Display the unique Publisher\n",
        "print(unique_source_titles)\n",
        "print(len(unique_source_titles))"
      ],
      "metadata": {
        "colab": {
          "base_uri": "https://localhost:8080/"
        },
        "id": "IT_1vykVmPNq",
        "outputId": "60bf2145-5888-4c7a-8fb4-abbe51f7e812"
      },
      "execution_count": null,
      "outputs": [
        {
          "output_type": "stream",
          "name": "stdout",
          "text": [
            "['Frontiers Media S.A.' 'John Wiley and Sons Ltd' 'Elsevier Ltd' ...\n",
            " 'Springer Wien' 'Churchill Livingstone Inc.'\n",
            " 'Botanical Society of America Inc.']\n",
            "1088\n"
          ]
        }
      ]
    },
    {
      "cell_type": "code",
      "source": [
        "# Extract Source columns\n",
        "source_df = dataset[['Source title', 'Publisher', 'ISSN']].drop_duplicates().reset_index(drop=True)\n",
        "\n",
        "# Assign a unique ID to each source\n",
        "source_df['source_id'] = range(1, len(source_df) + 1)\n",
        "\n",
        "# Rename columns for consistency\n",
        "source_df.columns = ['source_title', 'publisher', 'issn', 'source_id']\n",
        "\n",
        "# Save the source table to a CSV file\n",
        "source_df.to_csv('/content/drive/MyDrive/source_table.csv', index=False)\n"
      ],
      "metadata": {
        "id": "zuBvt9VnklEP"
      },
      "execution_count": null,
      "outputs": []
    },
    {
      "cell_type": "markdown",
      "source": [
        "#### 3. **Exctract data to create dimension table 'author'**\n"
      ],
      "metadata": {
        "id": "qFeeJ9Vbrict"
      }
    },
    {
      "cell_type": "markdown",
      "source": [
        "Examine the **Author full names** column"
      ],
      "metadata": {
        "id": "RgOzJ_S-yXVJ"
      }
    },
    {
      "cell_type": "code",
      "source": [
        "dataset['Author full names'][0]"
      ],
      "metadata": {
        "colab": {
          "base_uri": "https://localhost:8080/",
          "height": 52
        },
        "id": "t5SWdmgLrji3",
        "outputId": "3b87f1b4-378d-4a0b-cd9d-8b2aba3c5151"
      },
      "execution_count": null,
      "outputs": [
        {
          "output_type": "execute_result",
          "data": {
            "text/plain": [
              "'Mghazli, Najoua (57194021105); Bruneel, Odile (6506229203); Zouagui, Rahma (57226548652); Hakkou, Rachid (24329115800); Sbabou, Laila (35744137500)'"
            ],
            "application/vnd.google.colaboratory.intrinsic+json": {
              "type": "string"
            }
          },
          "metadata": {},
          "execution_count": 11
        }
      ]
    },
    {
      "cell_type": "code",
      "source": [
        "dataset['Author full names'][1]"
      ],
      "metadata": {
        "colab": {
          "base_uri": "https://localhost:8080/",
          "height": 52
        },
        "id": "PrUje15_w9IE",
        "outputId": "64044f06-0129-4915-b677-7086f158377f"
      },
      "execution_count": null,
      "outputs": [
        {
          "output_type": "execute_result",
          "data": {
            "text/plain": [
              "'Khouakhi, Abdou (25959184500); Driouech, Fatima (24464321700); Slater, Louise (14030760900); Waine, Toby (6506621501); Chafki, Omar (57226872744); Chehbouni, Abdelghani (7006296776); Raji, Otmane (55023725100)'"
            ],
            "application/vnd.google.colaboratory.intrinsic+json": {
              "type": "string"
            }
          },
          "metadata": {},
          "execution_count": 12
        }
      ]
    },
    {
      "cell_type": "markdown",
      "source": [
        "We need to extract the author names along with their IDs from the Author full names column and populate the author dimension table\n",
        "for that we need exctracting information from 'Author full names' as author name and author ID."
      ],
      "metadata": {
        "id": "yS3fKjtKx9c3"
      }
    },
    {
      "cell_type": "code",
      "source": [
        "# Create an empty list to hold author data\n",
        "author_data = []\n",
        "\n",
        "# Iterate through each row in the dataset to extract authors\n",
        "for index, row in dataset.iterrows():\n",
        "    authors_string = row['Author full names']\n",
        "\n",
        "    # Split the authors by '; ' to get individual author entries\n",
        "    authors = authors_string.split('; ')\n",
        "\n",
        "    for author in authors:\n",
        "        # Split the author name and ID\n",
        "        if '(' in author and ')' in author:\n",
        "            name_id = author.split(' (')\n",
        "            name = name_id[0].strip()  # Get the author's name\n",
        "            author_id = name_id[1].replace(')', '').strip()  # Get the author's ID\n",
        "\n",
        "            # Append to the author data list\n",
        "            author_data.append({\n",
        "                'full_name': name,\n",
        "                'author_id_system': author_id\n",
        "            })\n",
        "\n",
        "# Create a DataFrame from the author data\n",
        "author_df = pd.DataFrame(author_data)\n",
        "\n",
        "# Drop duplicates to ensure each author is unique\n",
        "author_df = author_df.drop_duplicates(subset=['full_name', 'author_id_system']).reset_index(drop=True)\n",
        "\n",
        "# Add a unique author_id as a primary key\n",
        "author_df['author_id'] = author_df.index + 1  # Start IDs from 1\n",
        "\n",
        "# Save the author dimension table to a CSV file\n",
        "author_df.to_csv('/content/drive/MyDrive/author_table.csv', index=False)\n",
        "\n",
        "print(\"Author table created and saved as author_table.csv.\")\n"
      ],
      "metadata": {
        "colab": {
          "base_uri": "https://localhost:8080/"
        },
        "id": "zHQ_SXTvyN7A",
        "outputId": "3aaf50cc-70be-48e1-fd32-a96ac37c6510"
      },
      "execution_count": null,
      "outputs": [
        {
          "output_type": "stream",
          "name": "stdout",
          "text": [
            "Author table created and saved as author_table.csv.\n"
          ]
        }
      ]
    },
    {
      "cell_type": "markdown",
      "source": [
        "This the results"
      ],
      "metadata": {
        "id": "jeXe5LmYzRjx"
      }
    },
    {
      "cell_type": "code",
      "source": [
        "author_df"
      ],
      "metadata": {
        "colab": {
          "base_uri": "https://localhost:8080/",
          "height": 423
        },
        "id": "8PXuZcvfzGgZ",
        "outputId": "70d48f15-5ed0-4107-edbf-f98d47608e3b"
      },
      "execution_count": null,
      "outputs": [
        {
          "output_type": "execute_result",
          "data": {
            "text/plain": [
              "                       full_name author_id_system  author_id\n",
              "0                Mghazli, Najoua      57194021105          1\n",
              "1                 Bruneel, Odile       6506229203          2\n",
              "2                 Zouagui, Rahma      57226548652          3\n",
              "3                 Hakkou, Rachid      24329115800          4\n",
              "4                  Sbabou, Laila      35744137500          5\n",
              "...                          ...              ...        ...\n",
              "102706             Kabanda, M.M.      15834833000     102707\n",
              "102707          Picard, Delphine      55749293600     102708\n",
              "102708       Zarhbouch, Benaissa      35281362700     102709\n",
              "102709          Lamrini, Bouchra      12038918500     102710\n",
              "102710  Le Lann, Marie Véronique       6701598270     102711\n",
              "\n",
              "[102711 rows x 3 columns]"
            ],
            "text/html": [
              "\n",
              "  <div id=\"df-ca1e3b1d-5bd9-4998-8083-37a7cbc9b0e9\" class=\"colab-df-container\">\n",
              "    <div>\n",
              "<style scoped>\n",
              "    .dataframe tbody tr th:only-of-type {\n",
              "        vertical-align: middle;\n",
              "    }\n",
              "\n",
              "    .dataframe tbody tr th {\n",
              "        vertical-align: top;\n",
              "    }\n",
              "\n",
              "    .dataframe thead th {\n",
              "        text-align: right;\n",
              "    }\n",
              "</style>\n",
              "<table border=\"1\" class=\"dataframe\">\n",
              "  <thead>\n",
              "    <tr style=\"text-align: right;\">\n",
              "      <th></th>\n",
              "      <th>full_name</th>\n",
              "      <th>author_id_system</th>\n",
              "      <th>author_id</th>\n",
              "    </tr>\n",
              "  </thead>\n",
              "  <tbody>\n",
              "    <tr>\n",
              "      <th>0</th>\n",
              "      <td>Mghazli, Najoua</td>\n",
              "      <td>57194021105</td>\n",
              "      <td>1</td>\n",
              "    </tr>\n",
              "    <tr>\n",
              "      <th>1</th>\n",
              "      <td>Bruneel, Odile</td>\n",
              "      <td>6506229203</td>\n",
              "      <td>2</td>\n",
              "    </tr>\n",
              "    <tr>\n",
              "      <th>2</th>\n",
              "      <td>Zouagui, Rahma</td>\n",
              "      <td>57226548652</td>\n",
              "      <td>3</td>\n",
              "    </tr>\n",
              "    <tr>\n",
              "      <th>3</th>\n",
              "      <td>Hakkou, Rachid</td>\n",
              "      <td>24329115800</td>\n",
              "      <td>4</td>\n",
              "    </tr>\n",
              "    <tr>\n",
              "      <th>4</th>\n",
              "      <td>Sbabou, Laila</td>\n",
              "      <td>35744137500</td>\n",
              "      <td>5</td>\n",
              "    </tr>\n",
              "    <tr>\n",
              "      <th>...</th>\n",
              "      <td>...</td>\n",
              "      <td>...</td>\n",
              "      <td>...</td>\n",
              "    </tr>\n",
              "    <tr>\n",
              "      <th>102706</th>\n",
              "      <td>Kabanda, M.M.</td>\n",
              "      <td>15834833000</td>\n",
              "      <td>102707</td>\n",
              "    </tr>\n",
              "    <tr>\n",
              "      <th>102707</th>\n",
              "      <td>Picard, Delphine</td>\n",
              "      <td>55749293600</td>\n",
              "      <td>102708</td>\n",
              "    </tr>\n",
              "    <tr>\n",
              "      <th>102708</th>\n",
              "      <td>Zarhbouch, Benaissa</td>\n",
              "      <td>35281362700</td>\n",
              "      <td>102709</td>\n",
              "    </tr>\n",
              "    <tr>\n",
              "      <th>102709</th>\n",
              "      <td>Lamrini, Bouchra</td>\n",
              "      <td>12038918500</td>\n",
              "      <td>102710</td>\n",
              "    </tr>\n",
              "    <tr>\n",
              "      <th>102710</th>\n",
              "      <td>Le Lann, Marie Véronique</td>\n",
              "      <td>6701598270</td>\n",
              "      <td>102711</td>\n",
              "    </tr>\n",
              "  </tbody>\n",
              "</table>\n",
              "<p>102711 rows × 3 columns</p>\n",
              "</div>\n",
              "    <div class=\"colab-df-buttons\">\n",
              "\n",
              "  <div class=\"colab-df-container\">\n",
              "    <button class=\"colab-df-convert\" onclick=\"convertToInteractive('df-ca1e3b1d-5bd9-4998-8083-37a7cbc9b0e9')\"\n",
              "            title=\"Convert this dataframe to an interactive table.\"\n",
              "            style=\"display:none;\">\n",
              "\n",
              "  <svg xmlns=\"http://www.w3.org/2000/svg\" height=\"24px\" viewBox=\"0 -960 960 960\">\n",
              "    <path d=\"M120-120v-720h720v720H120Zm60-500h600v-160H180v160Zm220 220h160v-160H400v160Zm0 220h160v-160H400v160ZM180-400h160v-160H180v160Zm440 0h160v-160H620v160ZM180-180h160v-160H180v160Zm440 0h160v-160H620v160Z\"/>\n",
              "  </svg>\n",
              "    </button>\n",
              "\n",
              "  <style>\n",
              "    .colab-df-container {\n",
              "      display:flex;\n",
              "      gap: 12px;\n",
              "    }\n",
              "\n",
              "    .colab-df-convert {\n",
              "      background-color: #E8F0FE;\n",
              "      border: none;\n",
              "      border-radius: 50%;\n",
              "      cursor: pointer;\n",
              "      display: none;\n",
              "      fill: #1967D2;\n",
              "      height: 32px;\n",
              "      padding: 0 0 0 0;\n",
              "      width: 32px;\n",
              "    }\n",
              "\n",
              "    .colab-df-convert:hover {\n",
              "      background-color: #E2EBFA;\n",
              "      box-shadow: 0px 1px 2px rgba(60, 64, 67, 0.3), 0px 1px 3px 1px rgba(60, 64, 67, 0.15);\n",
              "      fill: #174EA6;\n",
              "    }\n",
              "\n",
              "    .colab-df-buttons div {\n",
              "      margin-bottom: 4px;\n",
              "    }\n",
              "\n",
              "    [theme=dark] .colab-df-convert {\n",
              "      background-color: #3B4455;\n",
              "      fill: #D2E3FC;\n",
              "    }\n",
              "\n",
              "    [theme=dark] .colab-df-convert:hover {\n",
              "      background-color: #434B5C;\n",
              "      box-shadow: 0px 1px 3px 1px rgba(0, 0, 0, 0.15);\n",
              "      filter: drop-shadow(0px 1px 2px rgba(0, 0, 0, 0.3));\n",
              "      fill: #FFFFFF;\n",
              "    }\n",
              "  </style>\n",
              "\n",
              "    <script>\n",
              "      const buttonEl =\n",
              "        document.querySelector('#df-ca1e3b1d-5bd9-4998-8083-37a7cbc9b0e9 button.colab-df-convert');\n",
              "      buttonEl.style.display =\n",
              "        google.colab.kernel.accessAllowed ? 'block' : 'none';\n",
              "\n",
              "      async function convertToInteractive(key) {\n",
              "        const element = document.querySelector('#df-ca1e3b1d-5bd9-4998-8083-37a7cbc9b0e9');\n",
              "        const dataTable =\n",
              "          await google.colab.kernel.invokeFunction('convertToInteractive',\n",
              "                                                    [key], {});\n",
              "        if (!dataTable) return;\n",
              "\n",
              "        const docLinkHtml = 'Like what you see? Visit the ' +\n",
              "          '<a target=\"_blank\" href=https://colab.research.google.com/notebooks/data_table.ipynb>data table notebook</a>'\n",
              "          + ' to learn more about interactive tables.';\n",
              "        element.innerHTML = '';\n",
              "        dataTable['output_type'] = 'display_data';\n",
              "        await google.colab.output.renderOutput(dataTable, element);\n",
              "        const docLink = document.createElement('div');\n",
              "        docLink.innerHTML = docLinkHtml;\n",
              "        element.appendChild(docLink);\n",
              "      }\n",
              "    </script>\n",
              "  </div>\n",
              "\n",
              "\n",
              "<div id=\"df-495958dd-fe32-4156-9cb8-7531adb395a0\">\n",
              "  <button class=\"colab-df-quickchart\" onclick=\"quickchart('df-495958dd-fe32-4156-9cb8-7531adb395a0')\"\n",
              "            title=\"Suggest charts\"\n",
              "            style=\"display:none;\">\n",
              "\n",
              "<svg xmlns=\"http://www.w3.org/2000/svg\" height=\"24px\"viewBox=\"0 0 24 24\"\n",
              "     width=\"24px\">\n",
              "    <g>\n",
              "        <path d=\"M19 3H5c-1.1 0-2 .9-2 2v14c0 1.1.9 2 2 2h14c1.1 0 2-.9 2-2V5c0-1.1-.9-2-2-2zM9 17H7v-7h2v7zm4 0h-2V7h2v10zm4 0h-2v-4h2v4z\"/>\n",
              "    </g>\n",
              "</svg>\n",
              "  </button>\n",
              "\n",
              "<style>\n",
              "  .colab-df-quickchart {\n",
              "      --bg-color: #E8F0FE;\n",
              "      --fill-color: #1967D2;\n",
              "      --hover-bg-color: #E2EBFA;\n",
              "      --hover-fill-color: #174EA6;\n",
              "      --disabled-fill-color: #AAA;\n",
              "      --disabled-bg-color: #DDD;\n",
              "  }\n",
              "\n",
              "  [theme=dark] .colab-df-quickchart {\n",
              "      --bg-color: #3B4455;\n",
              "      --fill-color: #D2E3FC;\n",
              "      --hover-bg-color: #434B5C;\n",
              "      --hover-fill-color: #FFFFFF;\n",
              "      --disabled-bg-color: #3B4455;\n",
              "      --disabled-fill-color: #666;\n",
              "  }\n",
              "\n",
              "  .colab-df-quickchart {\n",
              "    background-color: var(--bg-color);\n",
              "    border: none;\n",
              "    border-radius: 50%;\n",
              "    cursor: pointer;\n",
              "    display: none;\n",
              "    fill: var(--fill-color);\n",
              "    height: 32px;\n",
              "    padding: 0;\n",
              "    width: 32px;\n",
              "  }\n",
              "\n",
              "  .colab-df-quickchart:hover {\n",
              "    background-color: var(--hover-bg-color);\n",
              "    box-shadow: 0 1px 2px rgba(60, 64, 67, 0.3), 0 1px 3px 1px rgba(60, 64, 67, 0.15);\n",
              "    fill: var(--button-hover-fill-color);\n",
              "  }\n",
              "\n",
              "  .colab-df-quickchart-complete:disabled,\n",
              "  .colab-df-quickchart-complete:disabled:hover {\n",
              "    background-color: var(--disabled-bg-color);\n",
              "    fill: var(--disabled-fill-color);\n",
              "    box-shadow: none;\n",
              "  }\n",
              "\n",
              "  .colab-df-spinner {\n",
              "    border: 2px solid var(--fill-color);\n",
              "    border-color: transparent;\n",
              "    border-bottom-color: var(--fill-color);\n",
              "    animation:\n",
              "      spin 1s steps(1) infinite;\n",
              "  }\n",
              "\n",
              "  @keyframes spin {\n",
              "    0% {\n",
              "      border-color: transparent;\n",
              "      border-bottom-color: var(--fill-color);\n",
              "      border-left-color: var(--fill-color);\n",
              "    }\n",
              "    20% {\n",
              "      border-color: transparent;\n",
              "      border-left-color: var(--fill-color);\n",
              "      border-top-color: var(--fill-color);\n",
              "    }\n",
              "    30% {\n",
              "      border-color: transparent;\n",
              "      border-left-color: var(--fill-color);\n",
              "      border-top-color: var(--fill-color);\n",
              "      border-right-color: var(--fill-color);\n",
              "    }\n",
              "    40% {\n",
              "      border-color: transparent;\n",
              "      border-right-color: var(--fill-color);\n",
              "      border-top-color: var(--fill-color);\n",
              "    }\n",
              "    60% {\n",
              "      border-color: transparent;\n",
              "      border-right-color: var(--fill-color);\n",
              "    }\n",
              "    80% {\n",
              "      border-color: transparent;\n",
              "      border-right-color: var(--fill-color);\n",
              "      border-bottom-color: var(--fill-color);\n",
              "    }\n",
              "    90% {\n",
              "      border-color: transparent;\n",
              "      border-bottom-color: var(--fill-color);\n",
              "    }\n",
              "  }\n",
              "</style>\n",
              "\n",
              "  <script>\n",
              "    async function quickchart(key) {\n",
              "      const quickchartButtonEl =\n",
              "        document.querySelector('#' + key + ' button');\n",
              "      quickchartButtonEl.disabled = true;  // To prevent multiple clicks.\n",
              "      quickchartButtonEl.classList.add('colab-df-spinner');\n",
              "      try {\n",
              "        const charts = await google.colab.kernel.invokeFunction(\n",
              "            'suggestCharts', [key], {});\n",
              "      } catch (error) {\n",
              "        console.error('Error during call to suggestCharts:', error);\n",
              "      }\n",
              "      quickchartButtonEl.classList.remove('colab-df-spinner');\n",
              "      quickchartButtonEl.classList.add('colab-df-quickchart-complete');\n",
              "    }\n",
              "    (() => {\n",
              "      let quickchartButtonEl =\n",
              "        document.querySelector('#df-495958dd-fe32-4156-9cb8-7531adb395a0 button');\n",
              "      quickchartButtonEl.style.display =\n",
              "        google.colab.kernel.accessAllowed ? 'block' : 'none';\n",
              "    })();\n",
              "  </script>\n",
              "</div>\n",
              "\n",
              "  <div id=\"id_212ed0a4-b4e2-460b-854c-8e2ebbdc48d8\">\n",
              "    <style>\n",
              "      .colab-df-generate {\n",
              "        background-color: #E8F0FE;\n",
              "        border: none;\n",
              "        border-radius: 50%;\n",
              "        cursor: pointer;\n",
              "        display: none;\n",
              "        fill: #1967D2;\n",
              "        height: 32px;\n",
              "        padding: 0 0 0 0;\n",
              "        width: 32px;\n",
              "      }\n",
              "\n",
              "      .colab-df-generate:hover {\n",
              "        background-color: #E2EBFA;\n",
              "        box-shadow: 0px 1px 2px rgba(60, 64, 67, 0.3), 0px 1px 3px 1px rgba(60, 64, 67, 0.15);\n",
              "        fill: #174EA6;\n",
              "      }\n",
              "\n",
              "      [theme=dark] .colab-df-generate {\n",
              "        background-color: #3B4455;\n",
              "        fill: #D2E3FC;\n",
              "      }\n",
              "\n",
              "      [theme=dark] .colab-df-generate:hover {\n",
              "        background-color: #434B5C;\n",
              "        box-shadow: 0px 1px 3px 1px rgba(0, 0, 0, 0.15);\n",
              "        filter: drop-shadow(0px 1px 2px rgba(0, 0, 0, 0.3));\n",
              "        fill: #FFFFFF;\n",
              "      }\n",
              "    </style>\n",
              "    <button class=\"colab-df-generate\" onclick=\"generateWithVariable('author_df')\"\n",
              "            title=\"Generate code using this dataframe.\"\n",
              "            style=\"display:none;\">\n",
              "\n",
              "  <svg xmlns=\"http://www.w3.org/2000/svg\" height=\"24px\"viewBox=\"0 0 24 24\"\n",
              "       width=\"24px\">\n",
              "    <path d=\"M7,19H8.4L18.45,9,17,7.55,7,17.6ZM5,21V16.75L18.45,3.32a2,2,0,0,1,2.83,0l1.4,1.43a1.91,1.91,0,0,1,.58,1.4,1.91,1.91,0,0,1-.58,1.4L9.25,21ZM18.45,9,17,7.55Zm-12,3A5.31,5.31,0,0,0,4.9,8.1,5.31,5.31,0,0,0,1,6.5,5.31,5.31,0,0,0,4.9,4.9,5.31,5.31,0,0,0,6.5,1,5.31,5.31,0,0,0,8.1,4.9,5.31,5.31,0,0,0,12,6.5,5.46,5.46,0,0,0,6.5,12Z\"/>\n",
              "  </svg>\n",
              "    </button>\n",
              "    <script>\n",
              "      (() => {\n",
              "      const buttonEl =\n",
              "        document.querySelector('#id_212ed0a4-b4e2-460b-854c-8e2ebbdc48d8 button.colab-df-generate');\n",
              "      buttonEl.style.display =\n",
              "        google.colab.kernel.accessAllowed ? 'block' : 'none';\n",
              "\n",
              "      buttonEl.onclick = () => {\n",
              "        google.colab.notebook.generateWithVariable('author_df');\n",
              "      }\n",
              "      })();\n",
              "    </script>\n",
              "  </div>\n",
              "\n",
              "    </div>\n",
              "  </div>\n"
            ],
            "application/vnd.google.colaboratory.intrinsic+json": {
              "type": "dataframe",
              "variable_name": "author_df"
            }
          },
          "metadata": {},
          "execution_count": 94
        }
      ]
    },
    {
      "cell_type": "code",
      "source": [
        "author_df.isna().sum()"
      ],
      "metadata": {
        "colab": {
          "base_uri": "https://localhost:8080/",
          "height": 178
        },
        "id": "0jvtpdaN4Vfi",
        "outputId": "fa273fcf-2ff1-437c-b2e5-d7406b417165"
      },
      "execution_count": null,
      "outputs": [
        {
          "output_type": "execute_result",
          "data": {
            "text/plain": [
              "full_name           0\n",
              "author_id_system    0\n",
              "author_id           0\n",
              "dtype: int64"
            ],
            "text/html": [
              "<div>\n",
              "<style scoped>\n",
              "    .dataframe tbody tr th:only-of-type {\n",
              "        vertical-align: middle;\n",
              "    }\n",
              "\n",
              "    .dataframe tbody tr th {\n",
              "        vertical-align: top;\n",
              "    }\n",
              "\n",
              "    .dataframe thead th {\n",
              "        text-align: right;\n",
              "    }\n",
              "</style>\n",
              "<table border=\"1\" class=\"dataframe\">\n",
              "  <thead>\n",
              "    <tr style=\"text-align: right;\">\n",
              "      <th></th>\n",
              "      <th>0</th>\n",
              "    </tr>\n",
              "  </thead>\n",
              "  <tbody>\n",
              "    <tr>\n",
              "      <th>full_name</th>\n",
              "      <td>0</td>\n",
              "    </tr>\n",
              "    <tr>\n",
              "      <th>author_id_system</th>\n",
              "      <td>0</td>\n",
              "    </tr>\n",
              "    <tr>\n",
              "      <th>author_id</th>\n",
              "      <td>0</td>\n",
              "    </tr>\n",
              "  </tbody>\n",
              "</table>\n",
              "</div><br><label><b>dtype:</b> int64</label>"
            ]
          },
          "metadata": {},
          "execution_count": 95
        }
      ]
    },
    {
      "cell_type": "markdown",
      "source": [
        "we need know if the author id is unique or not"
      ],
      "metadata": {
        "id": "TQmC-V7jzUav"
      }
    },
    {
      "cell_type": "code",
      "source": [
        "author_df['author_id_system'].duplicated().any()"
      ],
      "metadata": {
        "colab": {
          "base_uri": "https://localhost:8080/"
        },
        "id": "hNzT5G3FzQax",
        "outputId": "7366199a-d09d-4ae6-a139-0eaaa4a0cd4f"
      },
      "execution_count": null,
      "outputs": [
        {
          "output_type": "execute_result",
          "data": {
            "text/plain": [
              "True"
            ]
          },
          "metadata": {},
          "execution_count": 96
        }
      ]
    },
    {
      "cell_type": "code",
      "source": [
        "author_df['full_name'].duplicated().any()"
      ],
      "metadata": {
        "colab": {
          "base_uri": "https://localhost:8080/"
        },
        "id": "25yJgxQFz32F",
        "outputId": "a6343040-8b15-4fc1-c5a9-093b3a2f7380"
      },
      "execution_count": null,
      "outputs": [
        {
          "output_type": "execute_result",
          "data": {
            "text/plain": [
              "True"
            ]
          },
          "metadata": {},
          "execution_count": 97
        }
      ]
    },
    {
      "cell_type": "markdown",
      "source": [
        "We can clearly see that the both columns contain duplicate values"
      ],
      "metadata": {
        "id": "231EznUZ3yT7"
      }
    },
    {
      "cell_type": "code",
      "source": [
        "# Create a function to get duplicates for each column\n",
        "def get_duplicates(df):\n",
        "    duplicates_dict = {}\n",
        "    for column in df.columns:\n",
        "        # Find duplicated values in the column\n",
        "        duplicated_values = df[df[column].duplicated()][column].unique()\n",
        "        if len(duplicated_values) > 0:\n",
        "            duplicates_dict[column] = duplicated_values.tolist()\n",
        "    return duplicates_dict\n",
        "\n",
        "# Get duplicates in the author_df DataFrame\n",
        "duplicates = get_duplicates(author_df)\n",
        "\n",
        "# Convert the duplicates dictionary to a DataFrame for easier visualization\n",
        "duplicates_df = pd.DataFrame(dict([(k, pd.Series(v)) for k, v in duplicates.items()]))\n",
        "print(duplicates_df)\n"
      ],
      "metadata": {
        "id": "aWEX0M8A0Cwi",
        "colab": {
          "base_uri": "https://localhost:8080/"
        },
        "outputId": "eb658510-f6ee-4b22-ca26-a17b1e9c94c7"
      },
      "execution_count": null,
      "outputs": [
        {
          "output_type": "stream",
          "name": "stdout",
          "text": [
            "            full_name author_id_system\n",
            "0       Kumar, Naveen       8230280600\n",
            "1         Naamane, S.       7003544702\n",
            "2          Mounir, H.      55867997200\n",
            "3           Taibi, M.       6602649274\n",
            "4      Zarrouk, Tarik      56275916700\n",
            "...               ...              ...\n",
            "13930             NaN      35073500200\n",
            "13931             NaN      57193916806\n",
            "13932             NaN      55622126400\n",
            "13933             NaN      55174411100\n",
            "13934             NaN      55935912100\n",
            "\n",
            "[13935 rows x 2 columns]\n"
          ]
        }
      ]
    },
    {
      "cell_type": "code",
      "source": [
        "duplicates_df.isna().sum()"
      ],
      "metadata": {
        "colab": {
          "base_uri": "https://localhost:8080/",
          "height": 146
        },
        "id": "Yhps1rR98vgY",
        "outputId": "d6443735-8e2f-4ca6-b0a9-febd9c1c2366"
      },
      "execution_count": null,
      "outputs": [
        {
          "output_type": "execute_result",
          "data": {
            "text/plain": [
              "full_name           11956\n",
              "author_id_system        0\n",
              "dtype: int64"
            ],
            "text/html": [
              "<div>\n",
              "<style scoped>\n",
              "    .dataframe tbody tr th:only-of-type {\n",
              "        vertical-align: middle;\n",
              "    }\n",
              "\n",
              "    .dataframe tbody tr th {\n",
              "        vertical-align: top;\n",
              "    }\n",
              "\n",
              "    .dataframe thead th {\n",
              "        text-align: right;\n",
              "    }\n",
              "</style>\n",
              "<table border=\"1\" class=\"dataframe\">\n",
              "  <thead>\n",
              "    <tr style=\"text-align: right;\">\n",
              "      <th></th>\n",
              "      <th>0</th>\n",
              "    </tr>\n",
              "  </thead>\n",
              "  <tbody>\n",
              "    <tr>\n",
              "      <th>full_name</th>\n",
              "      <td>11956</td>\n",
              "    </tr>\n",
              "    <tr>\n",
              "      <th>author_id_system</th>\n",
              "      <td>0</td>\n",
              "    </tr>\n",
              "  </tbody>\n",
              "</table>\n",
              "</div><br><label><b>dtype:</b> int64</label>"
            ]
          },
          "metadata": {},
          "execution_count": 99
        }
      ]
    },
    {
      "cell_type": "markdown",
      "source": [
        " The presence of duplicate values in the columns author dimension table  may produce beacuse  there are multiple **Authors per Publication**,\n",
        "means each publication can have multiple authors.\n",
        "\n",
        "If the same author contributes to different publications or is listed multiple times for the same publication, their names will appear as duplicates in the author table.\n",
        "\n",
        "Or for example some authors have multiple IDs because they belong to diffrent universities or department"
      ],
      "metadata": {
        "id": "hh5WWGyf-Qnd"
      }
    },
    {
      "cell_type": "markdown",
      "source": [
        "#### 4. **Exctract data to create dimension table 'Affiliation'**\n"
      ],
      "metadata": {
        "id": "dcx3LmxSAPvz"
      }
    },
    {
      "cell_type": "markdown",
      "source": [
        "At this stage we want to exctract information about affiliations and create the affiliation dimention table"
      ],
      "metadata": {
        "id": "JNTSMGmuA8jz"
      }
    },
    {
      "cell_type": "code",
      "source": [
        "dataset[['Affiliations',\t'Authors with affiliations'\t]].isna().sum()"
      ],
      "metadata": {
        "colab": {
          "base_uri": "https://localhost:8080/",
          "height": 147
        },
        "id": "_9FoTOItBc6B",
        "outputId": "753c8605-5393-4922-8ac9-6a4d52b1a650"
      },
      "execution_count": null,
      "outputs": [
        {
          "output_type": "execute_result",
          "data": {
            "text/plain": [
              "Affiliations                 0\n",
              "Authors with affiliations    0\n",
              "dtype: int64"
            ],
            "text/html": [
              "<div>\n",
              "<style scoped>\n",
              "    .dataframe tbody tr th:only-of-type {\n",
              "        vertical-align: middle;\n",
              "    }\n",
              "\n",
              "    .dataframe tbody tr th {\n",
              "        vertical-align: top;\n",
              "    }\n",
              "\n",
              "    .dataframe thead th {\n",
              "        text-align: right;\n",
              "    }\n",
              "</style>\n",
              "<table border=\"1\" class=\"dataframe\">\n",
              "  <thead>\n",
              "    <tr style=\"text-align: right;\">\n",
              "      <th></th>\n",
              "      <th>0</th>\n",
              "    </tr>\n",
              "  </thead>\n",
              "  <tbody>\n",
              "    <tr>\n",
              "      <th>Affiliations</th>\n",
              "      <td>0</td>\n",
              "    </tr>\n",
              "    <tr>\n",
              "      <th>Authors with affiliations</th>\n",
              "      <td>0</td>\n",
              "    </tr>\n",
              "  </tbody>\n",
              "</table>\n",
              "</div><br><label><b>dtype:</b> int64</label>"
            ]
          },
          "metadata": {},
          "execution_count": 7
        }
      ]
    },
    {
      "cell_type": "code",
      "source": [
        "16303/len(dataset)*100\n"
      ],
      "metadata": {
        "colab": {
          "base_uri": "https://localhost:8080/"
        },
        "id": "RQRqIuqd3tbZ",
        "outputId": "dd35a78c-08f8-4e13-b1bf-f665cf9be025"
      },
      "execution_count": null,
      "outputs": [
        {
          "output_type": "execute_result",
          "data": {
            "text/plain": [
              "52.42796501157705"
            ]
          },
          "metadata": {},
          "execution_count": 104
        }
      ]
    },
    {
      "cell_type": "code",
      "source": [
        "dataset['Affiliations'][0]"
      ],
      "metadata": {
        "colab": {
          "base_uri": "https://localhost:8080/",
          "height": 104
        },
        "id": "qaPcJ5mo8492",
        "outputId": "b8d20c49-9076-485b-9bd2-2d250e9ce890"
      },
      "execution_count": null,
      "outputs": [
        {
          "output_type": "execute_result",
          "data": {
            "text/plain": [
              "'Center of Research Plants and Microbial Biotechnologies, Biodiversity and Environment, Team of Microbiology and Molecular Biology, Faculty of Sciences, Mohammed V University in Rabat, Rabat, Morocco; HSM, University of Montpellier, CNRS, IRD, Montpellier, France; Laboratoire des Matériaux Innovants, Energie et Développement Durable (IMED)_Laboratory, Faculty of Science and Technology, Cadi Ayyad University, Marrakesh, Morocco; Geology & Sustainable Mining Institute (GSMI), Mohammed VI Polytechnic University (UM6P), Ben Guerir, Morocco'"
            ],
            "application/vnd.google.colaboratory.intrinsic+json": {
              "type": "string"
            }
          },
          "metadata": {},
          "execution_count": 105
        }
      ]
    },
    {
      "cell_type": "code",
      "source": [
        "dataset['Affiliations'][1]"
      ],
      "metadata": {
        "colab": {
          "base_uri": "https://localhost:8080/",
          "height": 87
        },
        "id": "HOKPoLPgCCRX",
        "outputId": "b8d66de6-c004-4951-98f1-a51d181acb98"
      },
      "execution_count": null,
      "outputs": [
        {
          "output_type": "execute_result",
          "data": {
            "text/plain": [
              "'School of Water, Energy and Environment, Centre for Environmental and Agricultural Informatics, Cranfield University, Cranfield, United Kingdom; Mohammed VI Polytechnic University, Benguerir, Morocco; School of Geography and the Environment, University of Oxford, Oxford, United Kingdom; Direction Générale de la Météorologie, Casablanca, Morocco'"
            ],
            "application/vnd.google.colaboratory.intrinsic+json": {
              "type": "string"
            }
          },
          "metadata": {},
          "execution_count": 106
        }
      ]
    },
    {
      "cell_type": "code",
      "source": [
        "dataset['Affiliations'][3]"
      ],
      "metadata": {
        "colab": {
          "base_uri": "https://localhost:8080/",
          "height": 87
        },
        "id": "-aKgeYnuCHyS",
        "outputId": "8cb3d204-278e-4311-fe83-c3236d613c18"
      },
      "execution_count": null,
      "outputs": [
        {
          "output_type": "execute_result",
          "data": {
            "text/plain": [
              "'LPNAMME, Laser Physics Group, Department of Physics, Faculty of Sciences, Chouaïb Doukkali University, El Jadida, P. B 20, 24000, Morocco; Hassan First University of Settat, École Nationale des Sciences Appliquées, LISA, Berrechid, 26100, Morocco; Department of General Requirements, University of Technology and Applied Sciences, Sur, 411, Oman'"
            ],
            "application/vnd.google.colaboratory.intrinsic+json": {
              "type": "string"
            }
          },
          "metadata": {},
          "execution_count": 107
        }
      ]
    },
    {
      "cell_type": "code",
      "source": [
        "dataset['Affiliations'][5]"
      ],
      "metadata": {
        "colab": {
          "base_uri": "https://localhost:8080/",
          "height": 139
        },
        "id": "jl4IRLRgCJ3R",
        "outputId": "b7cc7cde-9f96-44a9-9e6f-8bdff1929dca"
      },
      "execution_count": null,
      "outputs": [
        {
          "output_type": "execute_result",
          "data": {
            "text/plain": [
              "\"University of Ghana School of Public Health, Ghana; University of Sheffield, United Kingdom; Department of Family and Consumer Sciences, University of Ghana, Ghana; West African Health Organisation, Burkina Faso; African Population and Health Research Center, Kenya; Centre for Food Policy, United Kingdom; Faculty of Science and Technology, Cheikh Anta Diop University of Dakar (UCAD), Senegal; University of Montreal, Canada; International Agency for Research on Cancer (IARC), France; Mohammed VI University of Health Sciences', Faculty of Medicine, Casablanca, Morocco; Montpellier Interdisciplinary centre on Sustainable Agri-food systems, French National Institute of Research for Sustainable Development (IRD), Montpellier, France\""
            ],
            "application/vnd.google.colaboratory.intrinsic+json": {
              "type": "string"
            }
          },
          "metadata": {},
          "execution_count": 115
        }
      ]
    },
    {
      "cell_type": "code",
      "source": [],
      "metadata": {
        "id": "LGCCEHjN6l6Q"
      },
      "execution_count": null,
      "outputs": []
    },
    {
      "cell_type": "code",
      "source": [
        "dataset['Affiliations'][5000]"
      ],
      "metadata": {
        "colab": {
          "base_uri": "https://localhost:8080/",
          "height": 52
        },
        "id": "roRhQsvaCNk-",
        "outputId": "705dd023-c50c-4a2c-f523-5f50d3b0b88e"
      },
      "execution_count": null,
      "outputs": [
        {
          "output_type": "execute_result",
          "data": {
            "text/plain": [
              "'Service de Gynécologie-Obstetrique, Hôpital Militaire d’Instruction Mohammed V, Rabat, Morocco; Faculté de Médecine et de Pharmacie, Rabat, Morocco'"
            ],
            "application/vnd.google.colaboratory.intrinsic+json": {
              "type": "string"
            }
          },
          "metadata": {},
          "execution_count": 116
        }
      ]
    },
    {
      "cell_type": "markdown",
      "source": [
        "I need to know how many affiliations exist in the data"
      ],
      "metadata": {
        "id": "rkASsbsMCbOI"
      }
    },
    {
      "cell_type": "code",
      "source": [
        "affiliations = dataset['Affiliations'].unique()"
      ],
      "metadata": {
        "id": "1aVFbXjICPqX"
      },
      "execution_count": null,
      "outputs": []
    },
    {
      "cell_type": "code",
      "source": [
        "affiliations"
      ],
      "metadata": {
        "colab": {
          "base_uri": "https://localhost:8080/"
        },
        "id": "G0cVndxjCtdv",
        "outputId": "77761278-a29f-4370-a6b5-361721e928d4"
      },
      "execution_count": null,
      "outputs": [
        {
          "output_type": "execute_result",
          "data": {
            "text/plain": [
              "array(['Unité « Écologie, systématique et évolution », UMR 8079, université Paris-Sud, CNRS, AgroParisTech, université Paris-Saclay, Orsay, 91405, France; Laboratory of Biochemistry and Molecular Genetics, Department of Biology, Faculty of Science and Technics, Abdelmalek Essaadi University, Tangier, Morocco; National Agricultural Research Center (NARC)–Jenin/Gaza, Ministry of Agriculture, Jenin, Palestine',\n",
              "       'Laboratory of Informatics, Research Operational and Statistic Applied (LIROSA), Faculty of Sciences, Abdelmalek Essaâdi University, Morocco; University Hassan II, Casablanca, Morocco; Mohammed V University, Morocco; National School of Applied Sciences, Abdelmalek Essaadi University, Tetouan, Morocco',\n",
              "       'Mohammed v University in Rabat, Morocco; International University of Rabat, FIL, TICLab, Morocco',\n",
              "       ...,\n",
              "       'Laboratoire de Matière Condensée et Sciences Interdisciplinires, Unité de Recherche Labellisée CNRST, URL-CNRST-17, Faculté des Sciences, Mohammed V University of Rabat, Morocco',\n",
              "       'National Institute of Agricultural Research (INRA), BO 415, Rabat, Morocco; Laboratory of Agro-Industrial and Medical Biotechnologies, Faculty of Sciences and Techniques, University of Sultan Moulay Slimane, BP 523, Beni Mellal, Morocco; Regional Agricultural Research Center of Tadla, National Institute of Agricultural Research, P.O. Box 415, Avenue Ennasr, Rabat, 10090, Morocco; The Environment and Soil Microbiology Unit, Faculty of Sciences-Moulay Ismail University, B.P.11201 Zitoune, Meknes, 50000, Morocco',\n",
              "       'Gynaecology-Obstetrics and Endoscopy Department, Maternity Souissi, University Hospital Center IBN SINA, University Mohammed V, Rabat, Morocco; Department of intensive care unit, Maternity Souissi, University Hospital Center IBN SINA, University Mohammed V, Rabat, Morocco'],\n",
              "      dtype=object)"
            ]
          },
          "metadata": {},
          "execution_count": 9
        }
      ]
    },
    {
      "cell_type": "code",
      "source": [
        "len(affiliations)"
      ],
      "metadata": {
        "colab": {
          "base_uri": "https://localhost:8080/"
        },
        "id": "bCzrlu4yCuX0",
        "outputId": "3c3f7ba8-0ac3-4276-e62f-57c86806a463"
      },
      "execution_count": null,
      "outputs": [
        {
          "output_type": "execute_result",
          "data": {
            "text/plain": [
              "14185"
            ]
          },
          "metadata": {},
          "execution_count": 119
        }
      ]
    },
    {
      "cell_type": "code",
      "source": [
        "Authors_affiliations = dataset['Authors with affiliations'].unique()"
      ],
      "metadata": {
        "id": "-kB9jo2CCyhT"
      },
      "execution_count": null,
      "outputs": []
    },
    {
      "cell_type": "code",
      "source": [
        "Authors_affiliations"
      ],
      "metadata": {
        "colab": {
          "base_uri": "https://localhost:8080/"
        },
        "id": "GohLVNVREWKu",
        "outputId": "bbbec052-cc9e-4135-8e4d-b8a3127b2a0c"
      },
      "execution_count": null,
      "outputs": [
        {
          "output_type": "execute_result",
          "data": {
            "text/plain": [
              "array(['Mghazli N., Center of Research Plants and Microbial Biotechnologies, Biodiversity and Environment, Team of Microbiology and Molecular Biology, Faculty of Sciences, Mohammed V University in Rabat, Rabat, Morocco, HSM, University of Montpellier, CNRS, IRD, Montpellier, France; Bruneel O., HSM, University of Montpellier, CNRS, IRD, Montpellier, France; Zouagui R., Center of Research Plants and Microbial Biotechnologies, Biodiversity and Environment, Team of Microbiology and Molecular Biology, Faculty of Sciences, Mohammed V University in Rabat, Rabat, Morocco; Hakkou R., Laboratoire des Matériaux Innovants, Energie et Développement Durable (IMED)_Laboratory, Faculty of Science and Technology, Cadi Ayyad University, Marrakesh, Morocco, Geology & Sustainable Mining Institute (GSMI), Mohammed VI Polytechnic University (UM6P), Ben Guerir, Morocco; Sbabou L., Center of Research Plants and Microbial Biotechnologies, Biodiversity and Environment, Team of Microbiology and Molecular Biology, Faculty of Sciences, Mohammed V University in Rabat, Rabat, Morocco',\n",
              "       'Khouakhi A., School of Water, Energy and Environment, Centre for Environmental and Agricultural Informatics, Cranfield University, Cranfield, United Kingdom; Driouech F., Mohammed VI Polytechnic University, Benguerir, Morocco; Slater L., School of Geography and the Environment, University of Oxford, Oxford, United Kingdom; Waine T., School of Water, Energy and Environment, Centre for Environmental and Agricultural Informatics, Cranfield University, Cranfield, United Kingdom; Chafki O., Direction Générale de la Météorologie, Casablanca, Morocco; Chehbouni A., Mohammed VI Polytechnic University, Benguerir, Morocco; Raji O., Mohammed VI Polytechnic University, Benguerir, Morocco',\n",
              "       'El Oujihi O., LMPGI, High School of Technology, Hassan II University of Casablanca, Morocco, CEDoc, National High School of Electricity and Mechanics (ENSEM), Hassan II University of Casablanca, Morocco; Tizliouine A., LMPGI, High School of Technology, Hassan II University of Casablanca, Morocco; Elouafi A., LPMAT, Faculty of Sciences Ain Chock, Hassan II University of Casablanca, Morocco; Salhi H., LMPGI, High School of Technology, Hassan II University of Casablanca, Morocco; Omari L.H., LPMAT, Faculty of Sciences Ain Chock, Hassan II University of Casablanca, Morocco',\n",
              "       ...,\n",
              "       \"Amar H., Corrodys, Centre de Corrosion Marine et Biologique, 50120 Equeurdreville - Hainneville, 55 rue Beuzeville, BP 9, France; Benzakour J., Laboratoire d'Electrochimie et de Chimie Analytique, Université Cadi Ayyad, Faculté des Sciences Semlalia, Marrakech, BP 2390, Morocco; Derja A., Laboratoire d'Electrochimie et de Chimie Analytique, Université Cadi Ayyad, Faculté des Sciences Semlalia, Marrakech, BP 2390, Morocco; Villemin D., École Nationale Supérieure d'Ingénieurs, Caen UMR 6507 CNRS, 14050 Caen Cedex, Bd Maréchal Juin, France; Moreau B., École Nationale Supérieure d'Ingénieurs, Caen UMR 6507 CNRS, 14050 Caen Cedex, Bd Maréchal Juin, France; Braisaz T., Corrodys, Centre de Corrosion Marine et Biologique, 50120 Equeurdreville - Hainneville, 55 rue Beuzeville, BP 9, France; Tounsi A., Laboratoire d'Environnement, d'Electrochimie et de Réactivité aux interfaces, Faculté des Sciences et Techniques, Errachidia, BP 509 Boutalamine, Morocco\",\n",
              "       'Davies E.E., Ecole Supérieure Roi Fahd de Traduction, Tangier, BP 410, Morocco; Bentahila A., Ecole Supérieure Roi Fahd de Traduction, Tangier, BP 410, Morocco',\n",
              "       nan], dtype=object)"
            ]
          },
          "metadata": {},
          "execution_count": 121
        }
      ]
    },
    {
      "cell_type": "code",
      "source": [
        "len(Authors_affiliations)"
      ],
      "metadata": {
        "colab": {
          "base_uri": "https://localhost:8080/"
        },
        "id": "FqVu6deaEXIp",
        "outputId": "87630acf-1797-410d-cee3-41098f32e021"
      },
      "execution_count": null,
      "outputs": [
        {
          "output_type": "execute_result",
          "data": {
            "text/plain": [
              "14633"
            ]
          },
          "metadata": {},
          "execution_count": 122
        }
      ]
    },
    {
      "cell_type": "code",
      "source": [
        "dataset['Authors with affiliations'][0]"
      ],
      "metadata": {
        "colab": {
          "base_uri": "https://localhost:8080/",
          "height": 191
        },
        "id": "2meNF-yrEeDW",
        "outputId": "e33cbf0b-1692-432f-fb6f-7f3a7d86b403"
      },
      "execution_count": null,
      "outputs": [
        {
          "output_type": "execute_result",
          "data": {
            "text/plain": [
              "'Mghazli N., Center of Research Plants and Microbial Biotechnologies, Biodiversity and Environment, Team of Microbiology and Molecular Biology, Faculty of Sciences, Mohammed V University in Rabat, Rabat, Morocco, HSM, University of Montpellier, CNRS, IRD, Montpellier, France; Bruneel O., HSM, University of Montpellier, CNRS, IRD, Montpellier, France; Zouagui R., Center of Research Plants and Microbial Biotechnologies, Biodiversity and Environment, Team of Microbiology and Molecular Biology, Faculty of Sciences, Mohammed V University in Rabat, Rabat, Morocco; Hakkou R., Laboratoire des Matériaux Innovants, Energie et Développement Durable (IMED)_Laboratory, Faculty of Science and Technology, Cadi Ayyad University, Marrakesh, Morocco, Geology & Sustainable Mining Institute (GSMI), Mohammed VI Polytechnic University (UM6P), Ben Guerir, Morocco; Sbabou L., Center of Research Plants and Microbial Biotechnologies, Biodiversity and Environment, Team of Microbiology and Molecular Biology, Faculty of Sciences, Mohammed V University in Rabat, Rabat, Morocco'"
            ],
            "application/vnd.google.colaboratory.intrinsic+json": {
              "type": "string"
            }
          },
          "metadata": {},
          "execution_count": 123
        }
      ]
    },
    {
      "cell_type": "code",
      "source": [
        "dataset['Authors with affiliations'][1]"
      ],
      "metadata": {
        "colab": {
          "base_uri": "https://localhost:8080/",
          "height": 139
        },
        "id": "gNhkof3aGZyB",
        "outputId": "5893b97c-0a43-4000-d0c4-56600d4a41ff"
      },
      "execution_count": null,
      "outputs": [
        {
          "output_type": "execute_result",
          "data": {
            "text/plain": [
              "'Khouakhi A., School of Water, Energy and Environment, Centre for Environmental and Agricultural Informatics, Cranfield University, Cranfield, United Kingdom; Driouech F., Mohammed VI Polytechnic University, Benguerir, Morocco; Slater L., School of Geography and the Environment, University of Oxford, Oxford, United Kingdom; Waine T., School of Water, Energy and Environment, Centre for Environmental and Agricultural Informatics, Cranfield University, Cranfield, United Kingdom; Chafki O., Direction Générale de la Météorologie, Casablanca, Morocco; Chehbouni A., Mohammed VI Polytechnic University, Benguerir, Morocco; Raji O., Mohammed VI Polytechnic University, Benguerir, Morocco'"
            ],
            "application/vnd.google.colaboratory.intrinsic+json": {
              "type": "string"
            }
          },
          "metadata": {},
          "execution_count": 124
        }
      ]
    },
    {
      "cell_type": "code",
      "source": [
        "dataset['Authors with affiliations'][3]"
      ],
      "metadata": {
        "colab": {
          "base_uri": "https://localhost:8080/",
          "height": 104
        },
        "id": "8nzjFcMfGim5",
        "outputId": "daa6669c-dfd6-4dc6-84a9-fecafc6212f8"
      },
      "execution_count": null,
      "outputs": [
        {
          "output_type": "execute_result",
          "data": {
            "text/plain": [
              "'Belafhal A., LPNAMME, Laser Physics Group, Department of Physics, Faculty of Sciences, Chouaïb Doukkali University, El Jadida, P. B 20, 24000, Morocco; Benzehoua H., LPNAMME, Laser Physics Group, Department of Physics, Faculty of Sciences, Chouaïb Doukkali University, El Jadida, P. B 20, 24000, Morocco; Balhamri A., Hassan First University of Settat, École Nationale des Sciences Appliquées, LISA, Berrechid, 26100, Morocco; Usman T., Department of General Requirements, University of Technology and Applied Sciences, Sur, 411, Oman'"
            ],
            "application/vnd.google.colaboratory.intrinsic+json": {
              "type": "string"
            }
          },
          "metadata": {},
          "execution_count": 125
        }
      ]
    },
    {
      "cell_type": "code",
      "source": [
        "# Replace NaN with an empty string and ensure all values are strings\n",
        "dataset['Affiliations'] = dataset['Affiliations'].fillna('').astype(str)\n",
        "dataset['Authors with affiliations'] = dataset['Authors with affiliations'].fillna('').astype(str)\n"
      ],
      "metadata": {
        "id": "jj3BmFR_AZ4N"
      },
      "execution_count": null,
      "outputs": []
    },
    {
      "cell_type": "code",
      "source": [
        "import pandas as pd\n",
        "\n",
        "# Sample dataset for demonstration\n",
        "\n",
        "####dataset = pd.DataFrame(data)\n",
        "\n",
        "# Step 1: Create a mapping for affiliations to authors\n",
        "affiliation_author_map = {}\n",
        "\n",
        "# Process each row in the dataset\n",
        "for index, row in dataset.iterrows():\n",
        "    # Split the \"Authors with affiliations\" column into individual authors with affiliations\n",
        "    authors_with_affiliations = row['Authors with affiliations'].split('; ')\n",
        "\n",
        "    for author_affiliation in authors_with_affiliations:\n",
        "        # Extract the author's name (text before the first comma)\n",
        "        parts = author_affiliation.split(',', 1)\n",
        "        author_name = parts[0].strip()  # Extract the author's name\n",
        "\n",
        "        if len(parts) > 1:\n",
        "            affiliations = parts[1].split(';')  # Extract affiliations\n",
        "            for affiliation in affiliations:\n",
        "                affiliation = affiliation.strip()\n",
        "                if affiliation not in affiliation_author_map:\n",
        "                    affiliation_author_map[affiliation] = []\n",
        "                affiliation_author_map[affiliation].append(author_name)\n",
        "\n",
        "# Step 2: Collect the data in a list\n",
        "affiliation_author_data = []\n",
        "\n",
        "for affiliation, authors in affiliation_author_map.items():\n",
        "    for author in set(authors):  # Avoid duplicates\n",
        "        affiliation_author_data.append({\n",
        "            'affiliation': affiliation,\n",
        "            'author': author\n",
        "        })\n",
        "\n",
        "# Convert the list to a DataFrame\n",
        "affiliation_authors_df = pd.DataFrame(affiliation_author_data)\n",
        "\n",
        "# Step 3: Add an ID column for the affiliations\n",
        "affiliation_authors_df['affiliation_id'] = affiliation_authors_df['affiliation'].factorize()[0] + 1  # Unique IDs starting from 1\n",
        "\n",
        "# Display the results\n",
        "print(\"Affiliations and their associated authors with IDs:\")\n",
        "print(affiliation_authors_df)"
      ],
      "metadata": {
        "colab": {
          "base_uri": "https://localhost:8080/"
        },
        "id": "QZQ73EJGy2pA",
        "outputId": "d3284f45-6efd-4b27-ea55-d3a32fd7a036"
      },
      "execution_count": null,
      "outputs": [
        {
          "output_type": "stream",
          "name": "stdout",
          "text": [
            "Affiliations and their associated authors with IDs:\n",
            "                                             affiliation          author  \\\n",
            "0      Unité « Écologie, systématique et évolution »,...      Ouassou M.   \n",
            "1      National Agricultural Research Center (NARC)–J...    Mukhaimar M.   \n",
            "2      Laboratory of Biochemistry and Molecular Genet...    El Amrani A.   \n",
            "3      Unité « Écologie, systématique et évolution »,...     Chauveau O.   \n",
            "4      Unité « Écologie, systématique et évolution »,...     Kroymann J.   \n",
            "...                                                  ...             ...   \n",
            "39291  Regional Agricultural Research Center of Tadla...        Adiba A.   \n",
            "39292  The Environment and Soil Microbiology Unit, Fa...  Boutagayout A.   \n",
            "39293  National Institute of Agricultural Research (I...       Razouk R.   \n",
            "39294  National Institute of Agricultural Research (I...     Kouighat M.   \n",
            "39295  Department of intensive care unit, Maternity S...     Khairoun S.   \n",
            "\n",
            "       affiliation_id  \n",
            "0                   1  \n",
            "1                   2  \n",
            "2                   3  \n",
            "3                   4  \n",
            "4                   4  \n",
            "...               ...  \n",
            "39291           21885  \n",
            "39292           21886  \n",
            "39293           21887  \n",
            "39294           21887  \n",
            "39295           21888  \n",
            "\n",
            "[39296 rows x 3 columns]\n"
          ]
        }
      ]
    },
    {
      "cell_type": "code",
      "source": [
        "affiliation_authors_df"
      ],
      "metadata": {
        "colab": {
          "base_uri": "https://localhost:8080/",
          "height": 423
        },
        "id": "bIyWY2EWzIM3",
        "outputId": "bf84f841-a5b3-4a13-e68c-a9e10a8bcae5"
      },
      "execution_count": null,
      "outputs": [
        {
          "output_type": "execute_result",
          "data": {
            "text/plain": [
              "                                           affiliation          author  \\\n",
              "0                                     Unité « Écologie     Chauveau O.   \n",
              "1                                     Unité « Écologie      Ouassou M.   \n",
              "2                                     Unité « Écologie     Kroymann J.   \n",
              "3                          systématique et évolution »     Chauveau O.   \n",
              "4                          systématique et évolution »      Ouassou M.   \n",
              "...                                                ...             ...   \n",
              "181287                                          BO 415     Kouighat M.   \n",
              "181288  Regional Agricultural Research Center of Tadla        Adiba A.   \n",
              "181289    Faculty of Sciences-Moulay Ismail University  Boutagayout A.   \n",
              "181290                               B.P.11201 Zitoune  Boutagayout A.   \n",
              "181291               Department of intensive care unit     Khairoun S.   \n",
              "\n",
              "        affiliation_id  \n",
              "0                    1  \n",
              "1                    1  \n",
              "2                    1  \n",
              "3                    2  \n",
              "4                    2  \n",
              "...                ...  \n",
              "181287           32714  \n",
              "181288           32715  \n",
              "181289           32716  \n",
              "181290           32717  \n",
              "181291           32718  \n",
              "\n",
              "[181292 rows x 3 columns]"
            ],
            "text/html": [
              "\n",
              "  <div id=\"df-b6a23e28-4af2-45aa-a8db-d62bbc1e95ac\" class=\"colab-df-container\">\n",
              "    <div>\n",
              "<style scoped>\n",
              "    .dataframe tbody tr th:only-of-type {\n",
              "        vertical-align: middle;\n",
              "    }\n",
              "\n",
              "    .dataframe tbody tr th {\n",
              "        vertical-align: top;\n",
              "    }\n",
              "\n",
              "    .dataframe thead th {\n",
              "        text-align: right;\n",
              "    }\n",
              "</style>\n",
              "<table border=\"1\" class=\"dataframe\">\n",
              "  <thead>\n",
              "    <tr style=\"text-align: right;\">\n",
              "      <th></th>\n",
              "      <th>affiliation</th>\n",
              "      <th>author</th>\n",
              "      <th>affiliation_id</th>\n",
              "    </tr>\n",
              "  </thead>\n",
              "  <tbody>\n",
              "    <tr>\n",
              "      <th>0</th>\n",
              "      <td>Unité « Écologie</td>\n",
              "      <td>Chauveau O.</td>\n",
              "      <td>1</td>\n",
              "    </tr>\n",
              "    <tr>\n",
              "      <th>1</th>\n",
              "      <td>Unité « Écologie</td>\n",
              "      <td>Ouassou M.</td>\n",
              "      <td>1</td>\n",
              "    </tr>\n",
              "    <tr>\n",
              "      <th>2</th>\n",
              "      <td>Unité « Écologie</td>\n",
              "      <td>Kroymann J.</td>\n",
              "      <td>1</td>\n",
              "    </tr>\n",
              "    <tr>\n",
              "      <th>3</th>\n",
              "      <td>systématique et évolution »</td>\n",
              "      <td>Chauveau O.</td>\n",
              "      <td>2</td>\n",
              "    </tr>\n",
              "    <tr>\n",
              "      <th>4</th>\n",
              "      <td>systématique et évolution »</td>\n",
              "      <td>Ouassou M.</td>\n",
              "      <td>2</td>\n",
              "    </tr>\n",
              "    <tr>\n",
              "      <th>...</th>\n",
              "      <td>...</td>\n",
              "      <td>...</td>\n",
              "      <td>...</td>\n",
              "    </tr>\n",
              "    <tr>\n",
              "      <th>181287</th>\n",
              "      <td>BO 415</td>\n",
              "      <td>Kouighat M.</td>\n",
              "      <td>32714</td>\n",
              "    </tr>\n",
              "    <tr>\n",
              "      <th>181288</th>\n",
              "      <td>Regional Agricultural Research Center of Tadla</td>\n",
              "      <td>Adiba A.</td>\n",
              "      <td>32715</td>\n",
              "    </tr>\n",
              "    <tr>\n",
              "      <th>181289</th>\n",
              "      <td>Faculty of Sciences-Moulay Ismail University</td>\n",
              "      <td>Boutagayout A.</td>\n",
              "      <td>32716</td>\n",
              "    </tr>\n",
              "    <tr>\n",
              "      <th>181290</th>\n",
              "      <td>B.P.11201 Zitoune</td>\n",
              "      <td>Boutagayout A.</td>\n",
              "      <td>32717</td>\n",
              "    </tr>\n",
              "    <tr>\n",
              "      <th>181291</th>\n",
              "      <td>Department of intensive care unit</td>\n",
              "      <td>Khairoun S.</td>\n",
              "      <td>32718</td>\n",
              "    </tr>\n",
              "  </tbody>\n",
              "</table>\n",
              "<p>181292 rows × 3 columns</p>\n",
              "</div>\n",
              "    <div class=\"colab-df-buttons\">\n",
              "\n",
              "  <div class=\"colab-df-container\">\n",
              "    <button class=\"colab-df-convert\" onclick=\"convertToInteractive('df-b6a23e28-4af2-45aa-a8db-d62bbc1e95ac')\"\n",
              "            title=\"Convert this dataframe to an interactive table.\"\n",
              "            style=\"display:none;\">\n",
              "\n",
              "  <svg xmlns=\"http://www.w3.org/2000/svg\" height=\"24px\" viewBox=\"0 -960 960 960\">\n",
              "    <path d=\"M120-120v-720h720v720H120Zm60-500h600v-160H180v160Zm220 220h160v-160H400v160Zm0 220h160v-160H400v160ZM180-400h160v-160H180v160Zm440 0h160v-160H620v160ZM180-180h160v-160H180v160Zm440 0h160v-160H620v160Z\"/>\n",
              "  </svg>\n",
              "    </button>\n",
              "\n",
              "  <style>\n",
              "    .colab-df-container {\n",
              "      display:flex;\n",
              "      gap: 12px;\n",
              "    }\n",
              "\n",
              "    .colab-df-convert {\n",
              "      background-color: #E8F0FE;\n",
              "      border: none;\n",
              "      border-radius: 50%;\n",
              "      cursor: pointer;\n",
              "      display: none;\n",
              "      fill: #1967D2;\n",
              "      height: 32px;\n",
              "      padding: 0 0 0 0;\n",
              "      width: 32px;\n",
              "    }\n",
              "\n",
              "    .colab-df-convert:hover {\n",
              "      background-color: #E2EBFA;\n",
              "      box-shadow: 0px 1px 2px rgba(60, 64, 67, 0.3), 0px 1px 3px 1px rgba(60, 64, 67, 0.15);\n",
              "      fill: #174EA6;\n",
              "    }\n",
              "\n",
              "    .colab-df-buttons div {\n",
              "      margin-bottom: 4px;\n",
              "    }\n",
              "\n",
              "    [theme=dark] .colab-df-convert {\n",
              "      background-color: #3B4455;\n",
              "      fill: #D2E3FC;\n",
              "    }\n",
              "\n",
              "    [theme=dark] .colab-df-convert:hover {\n",
              "      background-color: #434B5C;\n",
              "      box-shadow: 0px 1px 3px 1px rgba(0, 0, 0, 0.15);\n",
              "      filter: drop-shadow(0px 1px 2px rgba(0, 0, 0, 0.3));\n",
              "      fill: #FFFFFF;\n",
              "    }\n",
              "  </style>\n",
              "\n",
              "    <script>\n",
              "      const buttonEl =\n",
              "        document.querySelector('#df-b6a23e28-4af2-45aa-a8db-d62bbc1e95ac button.colab-df-convert');\n",
              "      buttonEl.style.display =\n",
              "        google.colab.kernel.accessAllowed ? 'block' : 'none';\n",
              "\n",
              "      async function convertToInteractive(key) {\n",
              "        const element = document.querySelector('#df-b6a23e28-4af2-45aa-a8db-d62bbc1e95ac');\n",
              "        const dataTable =\n",
              "          await google.colab.kernel.invokeFunction('convertToInteractive',\n",
              "                                                    [key], {});\n",
              "        if (!dataTable) return;\n",
              "\n",
              "        const docLinkHtml = 'Like what you see? Visit the ' +\n",
              "          '<a target=\"_blank\" href=https://colab.research.google.com/notebooks/data_table.ipynb>data table notebook</a>'\n",
              "          + ' to learn more about interactive tables.';\n",
              "        element.innerHTML = '';\n",
              "        dataTable['output_type'] = 'display_data';\n",
              "        await google.colab.output.renderOutput(dataTable, element);\n",
              "        const docLink = document.createElement('div');\n",
              "        docLink.innerHTML = docLinkHtml;\n",
              "        element.appendChild(docLink);\n",
              "      }\n",
              "    </script>\n",
              "  </div>\n",
              "\n",
              "\n",
              "<div id=\"df-36887752-7c2d-4f94-836a-a231d51341a5\">\n",
              "  <button class=\"colab-df-quickchart\" onclick=\"quickchart('df-36887752-7c2d-4f94-836a-a231d51341a5')\"\n",
              "            title=\"Suggest charts\"\n",
              "            style=\"display:none;\">\n",
              "\n",
              "<svg xmlns=\"http://www.w3.org/2000/svg\" height=\"24px\"viewBox=\"0 0 24 24\"\n",
              "     width=\"24px\">\n",
              "    <g>\n",
              "        <path d=\"M19 3H5c-1.1 0-2 .9-2 2v14c0 1.1.9 2 2 2h14c1.1 0 2-.9 2-2V5c0-1.1-.9-2-2-2zM9 17H7v-7h2v7zm4 0h-2V7h2v10zm4 0h-2v-4h2v4z\"/>\n",
              "    </g>\n",
              "</svg>\n",
              "  </button>\n",
              "\n",
              "<style>\n",
              "  .colab-df-quickchart {\n",
              "      --bg-color: #E8F0FE;\n",
              "      --fill-color: #1967D2;\n",
              "      --hover-bg-color: #E2EBFA;\n",
              "      --hover-fill-color: #174EA6;\n",
              "      --disabled-fill-color: #AAA;\n",
              "      --disabled-bg-color: #DDD;\n",
              "  }\n",
              "\n",
              "  [theme=dark] .colab-df-quickchart {\n",
              "      --bg-color: #3B4455;\n",
              "      --fill-color: #D2E3FC;\n",
              "      --hover-bg-color: #434B5C;\n",
              "      --hover-fill-color: #FFFFFF;\n",
              "      --disabled-bg-color: #3B4455;\n",
              "      --disabled-fill-color: #666;\n",
              "  }\n",
              "\n",
              "  .colab-df-quickchart {\n",
              "    background-color: var(--bg-color);\n",
              "    border: none;\n",
              "    border-radius: 50%;\n",
              "    cursor: pointer;\n",
              "    display: none;\n",
              "    fill: var(--fill-color);\n",
              "    height: 32px;\n",
              "    padding: 0;\n",
              "    width: 32px;\n",
              "  }\n",
              "\n",
              "  .colab-df-quickchart:hover {\n",
              "    background-color: var(--hover-bg-color);\n",
              "    box-shadow: 0 1px 2px rgba(60, 64, 67, 0.3), 0 1px 3px 1px rgba(60, 64, 67, 0.15);\n",
              "    fill: var(--button-hover-fill-color);\n",
              "  }\n",
              "\n",
              "  .colab-df-quickchart-complete:disabled,\n",
              "  .colab-df-quickchart-complete:disabled:hover {\n",
              "    background-color: var(--disabled-bg-color);\n",
              "    fill: var(--disabled-fill-color);\n",
              "    box-shadow: none;\n",
              "  }\n",
              "\n",
              "  .colab-df-spinner {\n",
              "    border: 2px solid var(--fill-color);\n",
              "    border-color: transparent;\n",
              "    border-bottom-color: var(--fill-color);\n",
              "    animation:\n",
              "      spin 1s steps(1) infinite;\n",
              "  }\n",
              "\n",
              "  @keyframes spin {\n",
              "    0% {\n",
              "      border-color: transparent;\n",
              "      border-bottom-color: var(--fill-color);\n",
              "      border-left-color: var(--fill-color);\n",
              "    }\n",
              "    20% {\n",
              "      border-color: transparent;\n",
              "      border-left-color: var(--fill-color);\n",
              "      border-top-color: var(--fill-color);\n",
              "    }\n",
              "    30% {\n",
              "      border-color: transparent;\n",
              "      border-left-color: var(--fill-color);\n",
              "      border-top-color: var(--fill-color);\n",
              "      border-right-color: var(--fill-color);\n",
              "    }\n",
              "    40% {\n",
              "      border-color: transparent;\n",
              "      border-right-color: var(--fill-color);\n",
              "      border-top-color: var(--fill-color);\n",
              "    }\n",
              "    60% {\n",
              "      border-color: transparent;\n",
              "      border-right-color: var(--fill-color);\n",
              "    }\n",
              "    80% {\n",
              "      border-color: transparent;\n",
              "      border-right-color: var(--fill-color);\n",
              "      border-bottom-color: var(--fill-color);\n",
              "    }\n",
              "    90% {\n",
              "      border-color: transparent;\n",
              "      border-bottom-color: var(--fill-color);\n",
              "    }\n",
              "  }\n",
              "</style>\n",
              "\n",
              "  <script>\n",
              "    async function quickchart(key) {\n",
              "      const quickchartButtonEl =\n",
              "        document.querySelector('#' + key + ' button');\n",
              "      quickchartButtonEl.disabled = true;  // To prevent multiple clicks.\n",
              "      quickchartButtonEl.classList.add('colab-df-spinner');\n",
              "      try {\n",
              "        const charts = await google.colab.kernel.invokeFunction(\n",
              "            'suggestCharts', [key], {});\n",
              "      } catch (error) {\n",
              "        console.error('Error during call to suggestCharts:', error);\n",
              "      }\n",
              "      quickchartButtonEl.classList.remove('colab-df-spinner');\n",
              "      quickchartButtonEl.classList.add('colab-df-quickchart-complete');\n",
              "    }\n",
              "    (() => {\n",
              "      let quickchartButtonEl =\n",
              "        document.querySelector('#df-36887752-7c2d-4f94-836a-a231d51341a5 button');\n",
              "      quickchartButtonEl.style.display =\n",
              "        google.colab.kernel.accessAllowed ? 'block' : 'none';\n",
              "    })();\n",
              "  </script>\n",
              "</div>\n",
              "\n",
              "  <div id=\"id_47f71e80-5c09-40fc-a137-63df7ea70a1c\">\n",
              "    <style>\n",
              "      .colab-df-generate {\n",
              "        background-color: #E8F0FE;\n",
              "        border: none;\n",
              "        border-radius: 50%;\n",
              "        cursor: pointer;\n",
              "        display: none;\n",
              "        fill: #1967D2;\n",
              "        height: 32px;\n",
              "        padding: 0 0 0 0;\n",
              "        width: 32px;\n",
              "      }\n",
              "\n",
              "      .colab-df-generate:hover {\n",
              "        background-color: #E2EBFA;\n",
              "        box-shadow: 0px 1px 2px rgba(60, 64, 67, 0.3), 0px 1px 3px 1px rgba(60, 64, 67, 0.15);\n",
              "        fill: #174EA6;\n",
              "      }\n",
              "\n",
              "      [theme=dark] .colab-df-generate {\n",
              "        background-color: #3B4455;\n",
              "        fill: #D2E3FC;\n",
              "      }\n",
              "\n",
              "      [theme=dark] .colab-df-generate:hover {\n",
              "        background-color: #434B5C;\n",
              "        box-shadow: 0px 1px 3px 1px rgba(0, 0, 0, 0.15);\n",
              "        filter: drop-shadow(0px 1px 2px rgba(0, 0, 0, 0.3));\n",
              "        fill: #FFFFFF;\n",
              "      }\n",
              "    </style>\n",
              "    <button class=\"colab-df-generate\" onclick=\"generateWithVariable('affiliation_authors_df')\"\n",
              "            title=\"Generate code using this dataframe.\"\n",
              "            style=\"display:none;\">\n",
              "\n",
              "  <svg xmlns=\"http://www.w3.org/2000/svg\" height=\"24px\"viewBox=\"0 0 24 24\"\n",
              "       width=\"24px\">\n",
              "    <path d=\"M7,19H8.4L18.45,9,17,7.55,7,17.6ZM5,21V16.75L18.45,3.32a2,2,0,0,1,2.83,0l1.4,1.43a1.91,1.91,0,0,1,.58,1.4,1.91,1.91,0,0,1-.58,1.4L9.25,21ZM18.45,9,17,7.55Zm-12,3A5.31,5.31,0,0,0,4.9,8.1,5.31,5.31,0,0,0,1,6.5,5.31,5.31,0,0,0,4.9,4.9,5.31,5.31,0,0,0,6.5,1,5.31,5.31,0,0,0,8.1,4.9,5.31,5.31,0,0,0,12,6.5,5.46,5.46,0,0,0,6.5,12Z\"/>\n",
              "  </svg>\n",
              "    </button>\n",
              "    <script>\n",
              "      (() => {\n",
              "      const buttonEl =\n",
              "        document.querySelector('#id_47f71e80-5c09-40fc-a137-63df7ea70a1c button.colab-df-generate');\n",
              "      buttonEl.style.display =\n",
              "        google.colab.kernel.accessAllowed ? 'block' : 'none';\n",
              "\n",
              "      buttonEl.onclick = () => {\n",
              "        google.colab.notebook.generateWithVariable('affiliation_authors_df');\n",
              "      }\n",
              "      })();\n",
              "    </script>\n",
              "  </div>\n",
              "\n",
              "    </div>\n",
              "  </div>\n"
            ],
            "application/vnd.google.colaboratory.intrinsic+json": {
              "type": "dataframe",
              "variable_name": "affiliation_authors_df"
            }
          },
          "metadata": {},
          "execution_count": 23
        }
      ]
    },
    {
      "cell_type": "code",
      "source": [
        "affiliation_authors_df.to_csv('/content/drive/MyDrive/Data-Scopus/DataSample/affiliation-author1.csv', index=False)"
      ],
      "metadata": {
        "id": "etOe69hL0QLZ"
      },
      "execution_count": null,
      "outputs": []
    },
    {
      "cell_type": "code",
      "source": [
        "affiliation_authors_df.isna().sum()"
      ],
      "metadata": {
        "colab": {
          "base_uri": "https://localhost:8080/",
          "height": 178
        },
        "id": "mRHeFOAm0jo_",
        "outputId": "d3cc1aa0-65e3-4b33-edd8-6326dd76c932"
      },
      "execution_count": null,
      "outputs": [
        {
          "output_type": "execute_result",
          "data": {
            "text/plain": [
              "affiliation       0\n",
              "author            0\n",
              "affiliation_id    0\n",
              "dtype: int64"
            ],
            "text/html": [
              "<div>\n",
              "<style scoped>\n",
              "    .dataframe tbody tr th:only-of-type {\n",
              "        vertical-align: middle;\n",
              "    }\n",
              "\n",
              "    .dataframe tbody tr th {\n",
              "        vertical-align: top;\n",
              "    }\n",
              "\n",
              "    .dataframe thead th {\n",
              "        text-align: right;\n",
              "    }\n",
              "</style>\n",
              "<table border=\"1\" class=\"dataframe\">\n",
              "  <thead>\n",
              "    <tr style=\"text-align: right;\">\n",
              "      <th></th>\n",
              "      <th>0</th>\n",
              "    </tr>\n",
              "  </thead>\n",
              "  <tbody>\n",
              "    <tr>\n",
              "      <th>affiliation</th>\n",
              "      <td>0</td>\n",
              "    </tr>\n",
              "    <tr>\n",
              "      <th>author</th>\n",
              "      <td>0</td>\n",
              "    </tr>\n",
              "    <tr>\n",
              "      <th>affiliation_id</th>\n",
              "      <td>0</td>\n",
              "    </tr>\n",
              "  </tbody>\n",
              "</table>\n",
              "</div><br><label><b>dtype:</b> int64</label>"
            ]
          },
          "metadata": {},
          "execution_count": 29
        }
      ]
    },
    {
      "cell_type": "code",
      "source": [],
      "metadata": {
        "id": "7V0WqBiI3amO"
      },
      "execution_count": null,
      "outputs": []
    }
  ],
  "metadata": {
    "colab": {
      "provenance": [],
      "gpuType": "T4"
    },
    "kernelspec": {
      "display_name": "Python 3",
      "name": "python3"
    },
    "language_info": {
      "name": "python"
    }
  },
  "nbformat": 4,
  "nbformat_minor": 0
}