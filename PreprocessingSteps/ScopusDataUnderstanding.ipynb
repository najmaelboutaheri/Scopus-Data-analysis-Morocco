{
  "cells": [
    {
      "cell_type": "markdown",
      "source": [
        "# Buisness Inteligence Project on Moroccan universities\n",
        "This project aims to exctract insights from Scopus global data about moroccan universities\n",
        "then visulize the results on **Power Bi**\n",
        "### Task1 outlines:\n",
        "- Understand the meaning of each column\n",
        "- Identify the objectives\n",
        "- Discover paterns within data\n",
        "- Data cleaning\n",
        "- Data modeling\n",
        "\n",
        "### Task2 outlines:\n",
        "- Identify tools to store the data\n",
        "- Connect the **Power BI** to the storage\n",
        "- Ensure the atoumatic update\n",
        "- Create and develop with dashboards"
      ],
      "metadata": {
        "id": "0PArQ1OinT7w"
      }
    },
    {
      "cell_type": "markdown",
      "source": [
        "Install required packages"
      ],
      "metadata": {
        "id": "P-Nj6N9Qnhoj"
      }
    },
    {
      "cell_type": "markdown",
      "source": [
        "## DATA UNDERSTANDING"
      ],
      "metadata": {
        "id": "IiOB6mFkerw0"
      }
    },
    {
      "cell_type": "code",
      "execution_count": null,
      "metadata": {
        "id": "NPpz9TrP8Aqp"
      },
      "outputs": [],
      "source": [
        "import pandas as pd"
      ]
    },
    {
      "cell_type": "code",
      "source": [
        "pd.set_option('display.max_columns', None)"
      ],
      "metadata": {
        "id": "QBHKtzKf8-n1"
      },
      "execution_count": null,
      "outputs": []
    },
    {
      "cell_type": "code",
      "execution_count": null,
      "metadata": {
        "id": "jKv4ocJc7zZC"
      },
      "outputs": [],
      "source": [
        "dataset=pd.read_csv(\"/content/drive/MyDrive/combined_scopus_dataset_version1.csv\",low_memory=False)"
      ]
    },
    {
      "cell_type": "markdown",
      "source": [
        "Get close to data"
      ],
      "metadata": {
        "id": "SW2nd8einlMk"
      }
    },
    {
      "cell_type": "code",
      "execution_count": null,
      "metadata": {
        "colab": {
          "base_uri": "https://localhost:8080/",
          "height": 1000
        },
        "id": "Czz2K5Zt8gDu",
        "outputId": "570331e3-077d-4f67-a5ab-e68e22620a5e"
      },
      "outputs": [
        {
          "output_type": "execute_result",
          "data": {
            "text/plain": [
              "                                                 Authors  \\\n",
              "0      Mghazli N.; Bruneel O.; Zouagui R.; Hakkou R.;...   \n",
              "1      Khouakhi A.; Driouech F.; Slater L.; Waine T.;...   \n",
              "2      El Oujihi O.; Tizliouine A.; Elouafi A.; Salhi...   \n",
              "3       Belafhal A.; Benzehoua H.; Balhamri A.; Usman T.   \n",
              "4      Fellahi S.; Rawi T.; Fagrach A.; Berrada L.; D...   \n",
              "...                                                  ...   \n",
              "31091  Choulet F.; Charles N.; Barbanson L.; Branquet...   \n",
              "31092                            Picard D.; Zarhbouch B.   \n",
              "31093                             Kouibia A.; Pasadas M.   \n",
              "31094              Lamrini B.; Lakhal E.K.; Le Lann M.V.   \n",
              "31095                             El Beid S.; Doubabi S.   \n",
              "\n",
              "                                       Author full names  \\\n",
              "0      Mghazli, Najoua (57194021105); Bruneel, Odile ...   \n",
              "1      Khouakhi, Abdou (25959184500); Driouech, Fatim...   \n",
              "2      El Oujihi, O. (57218952408); Tizliouine, A. (5...   \n",
              "3      Belafhal, A. (6602895158); Benzehoua, H. (5722...   \n",
              "4      Fellahi, Siham (56763990600); Rawi, Taoufik (5...   \n",
              "...                                                  ...   \n",
              "31091  Choulet, Flavien (35117597900); Charles, Nicol...   \n",
              "31092  Picard, Delphine (55749293600); Zarhbouch, Ben...   \n",
              "31093  Kouibia, A. (6602331827); Pasadas, M. (5719562...   \n",
              "31094  Lamrini, Bouchra (12038918500); Lakhal, El Kha...   \n",
              "31095  El Beid, Said (24723922200); Doubabi, Said (24...   \n",
              "\n",
              "                                            Author(s) ID  \\\n",
              "0      57194021105; 6506229203; 57226548652; 24329115...   \n",
              "1      25959184500; 24464321700; 14030760900; 6506621...   \n",
              "2      57218952408; 57213521818; 57206940105; 5653834...   \n",
              "3      6602895158; 57226765910; 55549797500; 57191093659   \n",
              "4      56763990600; 57223589933; 57918986800; 5808310...   \n",
              "...                                                  ...   \n",
              "31091  35117597900; 33467569300; 6602768884; 66033555...   \n",
              "31092                           55749293600; 35281362700   \n",
              "31093                            6602331827; 57195622902   \n",
              "31094                12038918500; 6602899693; 6701598270   \n",
              "31095                           24723922200; 24724274700   \n",
              "\n",
              "                                                   Title  Year  \\\n",
              "0      Characterization of plant growth promoting act...  2022   \n",
              "1      Atmospheric rivers and associated extreme rain...  2022   \n",
              "2      Magnetic and magnetocaloric properties of the ...  2022   \n",
              "3      An advanced method for evaluating Lommel integ...  2022   \n",
              "4      Assessing the Efficacy of Recombinant Newcastl...  2022   \n",
              "...                                                  ...   ...   \n",
              "31091  Non-sulfide zinc deposits of the moroccan high...  2014   \n",
              "31092  Leftward spatial bias in children's drawing pl...  2014   \n",
              "31093  Approximation of vector fields using discrete ...  2014   \n",
              "31094  A decision support tool for technical processe...  2014   \n",
              "31095  DSP-based implementation of fuzzy output track...  2014   \n",
              "\n",
              "                                           Source title Volume  Issue  \\\n",
              "0                             Frontiers in Microbiology     13    NaN   \n",
              "1                  International Journal of Climatology     42     15   \n",
              "2                            Solid State Communications    358    NaN   \n",
              "3      Journal of Computational and Applied Mathematics    416    NaN   \n",
              "4                                        Avian Diseases     66      4   \n",
              "...                                                 ...    ...    ...   \n",
              "31091                               Ore Geology Reviews     56    NaN   \n",
              "31092                                        Laterality     19      1   \n",
              "31093  Journal of Computational and Applied Mathematics    255    NaN   \n",
              "31094                  Desalination and Water Treatment     52  22-24   \n",
              "31095       IEEE Transactions on Industrial Electronics     61      1   \n",
              "\n",
              "      Art. No. Page start Page end  Page count  Cited by  \\\n",
              "0      1026991        NaN      NaN         NaN         9   \n",
              "1          NaN       7766     7778        12.0         5   \n",
              "2       114977        NaN      NaN         NaN        10   \n",
              "3       114600        NaN      NaN         NaN         1   \n",
              "4          NaN        396      403         7.0         0   \n",
              "...        ...        ...      ...         ...       ...   \n",
              "31091      NaN        115      140        25.0        40   \n",
              "31092      NaN         96      112        16.0         6   \n",
              "31093      NaN        778      788        10.0         0   \n",
              "31094      NaN       4079     4088         9.0        11   \n",
              "31095  6419812        196      209        13.0        90   \n",
              "\n",
              "                                    DOI  \\\n",
              "0            10.3389/fmicb.2022.1026991   \n",
              "1                      10.1002/joc.7676   \n",
              "2             10.1016/j.ssc.2022.114977   \n",
              "3             10.1016/j.cam.2022.114600   \n",
              "4      10.1637/aviandiseases-D-22-00045   \n",
              "...                                 ...   \n",
              "31091   10.1016/j.oregeorev.2013.08.015   \n",
              "31092      10.1080/1357650X.2013.777072   \n",
              "31093         10.1016/j.cam.2013.06.025   \n",
              "31094      10.1080/19443994.2013.803327   \n",
              "31095          10.1109/TIE.2013.2242413   \n",
              "\n",
              "                                                    Link  \\\n",
              "0      https://www.scopus.com/inward/record.uri?eid=2...   \n",
              "1      https://www.scopus.com/inward/record.uri?eid=2...   \n",
              "2      https://www.scopus.com/inward/record.uri?eid=2...   \n",
              "3      https://www.scopus.com/inward/record.uri?eid=2...   \n",
              "4      https://www.scopus.com/inward/record.uri?eid=2...   \n",
              "...                                                  ...   \n",
              "31091  https://www.scopus.com/inward/record.uri?eid=2...   \n",
              "31092  https://www.scopus.com/inward/record.uri?eid=2...   \n",
              "31093  https://www.scopus.com/inward/record.uri?eid=2...   \n",
              "31094  https://www.scopus.com/inward/record.uri?eid=2...   \n",
              "31095  https://www.scopus.com/inward/record.uri?eid=2...   \n",
              "\n",
              "                                            Affiliations  \\\n",
              "0      Center of Research Plants and Microbial Biotec...   \n",
              "1      School of Water, Energy and Environment, Centr...   \n",
              "2      LMPGI, High School of Technology, Hassan II Un...   \n",
              "3      LPNAMME, Laser Physics Group, Department of Ph...   \n",
              "4      Département de Pathologie et Santé Publique Vé...   \n",
              "...                                                  ...   \n",
              "31091                                                NaN   \n",
              "31092                                                NaN   \n",
              "31093                                                NaN   \n",
              "31094                                                NaN   \n",
              "31095                                                NaN   \n",
              "\n",
              "                               Authors with affiliations  \\\n",
              "0      Mghazli N., Center of Research Plants and Micr...   \n",
              "1      Khouakhi A., School of Water, Energy and Envir...   \n",
              "2      El Oujihi O., LMPGI, High School of Technology...   \n",
              "3      Belafhal A., LPNAMME, Laser Physics Group, Dep...   \n",
              "4      Fellahi S., Département de Pathologie et Santé...   \n",
              "...                                                  ...   \n",
              "31091                                                NaN   \n",
              "31092                                                NaN   \n",
              "31093                                                NaN   \n",
              "31094                                                NaN   \n",
              "31095                                                NaN   \n",
              "\n",
              "                                                Abstract  \\\n",
              "0      Morocco holds the vast majority of the world’s...   \n",
              "1      Atmospheric rivers (ARs) are long, narrow, and...   \n",
              "2      The polycrystalline compounds Ho2-xSmxCoMnO6 (...   \n",
              "3      In this work, our main aim is to examine theor...   \n",
              "4      The advent of turkey herpesvirus (HVT) vector ...   \n",
              "...                                                  ...   \n",
              "31091                                                NaN   \n",
              "31092                                                NaN   \n",
              "31093                                                NaN   \n",
              "31094                                                NaN   \n",
              "31095                                                NaN   \n",
              "\n",
              "                                         Author Keywords  \\\n",
              "0      bioremediation; PGPB; phosphate waste rocks; r...   \n",
              "1          atmospheric rivers; extreme rainfall; Morocco   \n",
              "2      Double perovskite; Magnetic property; Magnetoc...   \n",
              "3      Electromagnetic Gaussian Schell-model; Fiber c...   \n",
              "4      commercial broilers; HVT-IBD-ND vector vaccine...   \n",
              "...                                                  ...   \n",
              "31091                                                NaN   \n",
              "31092                                                NaN   \n",
              "31093                                                NaN   \n",
              "31094                                                NaN   \n",
              "31095                                                NaN   \n",
              "\n",
              "                                          Index Keywords  \\\n",
              "0      auxin; calcium phosphate; carotenoid; cefepime...   \n",
              "1      Morocco; Digital storage; Floods; Rain; Atmosp...   \n",
              "2      Cobalt compounds; Holmium compounds; Magnetoca...   \n",
              "3      Coherent light; Efficiency; Gaussian beams; In...   \n",
              "4      Animals; Antibodies, Viral; Chickens; Newcastl...   \n",
              "...                                                  ...   \n",
              "31091                                                NaN   \n",
              "31092                                                NaN   \n",
              "31093                                                NaN   \n",
              "31094                                                NaN   \n",
              "31095                                                NaN   \n",
              "\n",
              "      Molecular Sequence Numbers  \\\n",
              "0                            NaN   \n",
              "1                            NaN   \n",
              "2                            NaN   \n",
              "3                            NaN   \n",
              "4                            NaN   \n",
              "...                          ...   \n",
              "31091                        NaN   \n",
              "31092                        NaN   \n",
              "31093                        NaN   \n",
              "31094                        NaN   \n",
              "31095                        NaN   \n",
              "\n",
              "                                           Chemicals/CAS  \\\n",
              "0      calcium phosphate, 10103-46-5, 13767-12-9, 143...   \n",
              "1                                                    NaN   \n",
              "2                                                    NaN   \n",
              "3                                                    NaN   \n",
              "4      Antibodies, Viral, ; Vaccines, Synthetic, ; Vi...   \n",
              "...                                                  ...   \n",
              "31091                                                NaN   \n",
              "31092                                                NaN   \n",
              "31093                                                NaN   \n",
              "31094                                                NaN   \n",
              "31095                                                NaN   \n",
              "\n",
              "                                         Tradenames  \\\n",
              "0      Bioline, Meridian Bioscience, United Kingdom   \n",
              "1                                               NaN   \n",
              "2                                               NaN   \n",
              "3                                               NaN   \n",
              "4                                               NaN   \n",
              "...                                             ...   \n",
              "31091                                           NaN   \n",
              "31092                                           NaN   \n",
              "31093                                           NaN   \n",
              "31094                                           NaN   \n",
              "31095                                           NaN   \n",
              "\n",
              "                             Manufacturers Funding Details Funding Texts  \\\n",
              "0      Meridian Bioscience, United Kingdom             NaN           NaN   \n",
              "1                                      NaN             NaN           NaN   \n",
              "2                                      NaN             NaN           NaN   \n",
              "3                                      NaN             NaN           NaN   \n",
              "4                                      NaN             NaN           NaN   \n",
              "...                                    ...             ...           ...   \n",
              "31091                                  NaN             NaN           NaN   \n",
              "31092                                  NaN             NaN           NaN   \n",
              "31093                                  NaN             NaN           NaN   \n",
              "31094                                  NaN             NaN           NaN   \n",
              "31095                                  NaN             NaN           NaN   \n",
              "\n",
              "                                              References  \\\n",
              "0      Adams G.O., Tawari-Fufeyin P., Igelenyah E., O...   \n",
              "1      Akbary M., Salimi S., Hosseini S.A., Hosseini ...   \n",
              "2      Zhang Y., Zhang B., Li S., Zhu J., Wu B., Wang...   \n",
              "3      Lu B., Zhang B., Cai B., Focusing of a Gaussia...   \n",
              "4      Alexander DJ, Aldous EW, Fuller CM., The long ...   \n",
              "...                                                  ...   \n",
              "31091                                                NaN   \n",
              "31092                                                NaN   \n",
              "31093                                                NaN   \n",
              "31094                                                NaN   \n",
              "31095                                                NaN   \n",
              "\n",
              "                                  Correspondence Address Editors  \\\n",
              "0      L. Sbabou; Center of Research Plants and Micro...     NaN   \n",
              "1      A. Khouakhi; School of Water, Energy and Envir...     NaN   \n",
              "2      O. El Oujihi; LMPGI, High School of Technology...     NaN   \n",
              "3      T. Usman; Department of General Requirements, ...     NaN   \n",
              "4      S. Fellahi; Département de Pathologie et Santé...     NaN   \n",
              "...                                                  ...     ...   \n",
              "31091                                                NaN     NaN   \n",
              "31092                                                NaN     NaN   \n",
              "31093                                                NaN     NaN   \n",
              "31094                                                NaN     NaN   \n",
              "31095                                                NaN     NaN   \n",
              "\n",
              "                                        Publisher Sponsors Conference name  \\\n",
              "0                            Frontiers Media S.A.      NaN             NaN   \n",
              "1                         John Wiley and Sons Ltd      NaN             NaN   \n",
              "2                                    Elsevier Ltd      NaN             NaN   \n",
              "3                                   Elsevier B.V.      NaN             NaN   \n",
              "4      American Association of Avian Pathologists      NaN             NaN   \n",
              "...                                           ...      ...             ...   \n",
              "31091                                         NaN      NaN             NaN   \n",
              "31092                                         NaN      NaN             NaN   \n",
              "31093                                         NaN      NaN             NaN   \n",
              "31094                                         NaN      NaN             NaN   \n",
              "31095                                         NaN      NaN             NaN   \n",
              "\n",
              "      Conference date Conference location  Conference code      ISSN ISBN  \\\n",
              "0                 NaN                 NaN              NaN  1664302X  NaN   \n",
              "1                 NaN                 NaN              NaN  08998418  NaN   \n",
              "2                 NaN                 NaN              NaN  00381098  NaN   \n",
              "3                 NaN                 NaN              NaN  03770427  NaN   \n",
              "4                 NaN                 NaN              NaN  00052086  NaN   \n",
              "...               ...                 ...              ...       ...  ...   \n",
              "31091             NaN                 NaN              NaN       NaN  NaN   \n",
              "31092             NaN                 NaN              NaN       NaN  NaN   \n",
              "31093             NaN                 NaN              NaN       NaN  NaN   \n",
              "31094             NaN                 NaN              NaN       NaN  NaN   \n",
              "31095             NaN                 NaN              NaN       NaN  NaN   \n",
              "\n",
              "       CODEN   PubMed ID Language of Original Document  \\\n",
              "0        NaN         NaN                       English   \n",
              "1      IJCLE         NaN                       English   \n",
              "2      SSCOA         NaN                       English   \n",
              "3        NaN         NaN                       English   \n",
              "4      AVDIA  36715470.0                       English   \n",
              "...      ...         ...                           ...   \n",
              "31091    NaN         NaN                           NaN   \n",
              "31092    NaN         NaN                           NaN   \n",
              "31093    NaN         NaN                           NaN   \n",
              "31094    NaN         NaN                           NaN   \n",
              "31095    NaN         NaN                           NaN   \n",
              "\n",
              "      Abbreviated Source Title Document Type Publication Stage  \\\n",
              "0            Front. Microbiol.       Article             Final   \n",
              "1            Int. J. Climatol.       Article             Final   \n",
              "2           Solid State Commun       Article             Final   \n",
              "3       J. Comput. Appl. Math.       Article             Final   \n",
              "4                   Avian Dis.       Article             Final   \n",
              "...                        ...           ...               ...   \n",
              "31091                      NaN       Article             Final   \n",
              "31092                      NaN       Article             Final   \n",
              "31093                      NaN       Article             Final   \n",
              "31094                      NaN       Article             Final   \n",
              "31095                      NaN       Article             Final   \n",
              "\n",
              "                                             Open Access  Source  \\\n",
              "0      All Open Access; Gold Open Access; Green Open ...  Scopus   \n",
              "1      All Open Access; Green Open Access; Hybrid Gol...  Scopus   \n",
              "2                                                    NaN  Scopus   \n",
              "3                                                    NaN  Scopus   \n",
              "4                                                    NaN  Scopus   \n",
              "...                                                  ...     ...   \n",
              "31091                 All Open Access; Green Open Access  Scopus   \n",
              "31092                                                NaN  Scopus   \n",
              "31093           All Open Access; Hybrid Gold Open Access  Scopus   \n",
              "31094                                                NaN  Scopus   \n",
              "31095                                                NaN  Scopus   \n",
              "\n",
              "                      EID  \n",
              "0      2-s2.0-85145098855  \n",
              "1      2-s2.0-85129903589  \n",
              "2      2-s2.0-85140462791  \n",
              "3      2-s2.0-85134428284  \n",
              "4      2-s2.0-85147072082  \n",
              "...                   ...  \n",
              "31091  2-s2.0-84887536984  \n",
              "31092  2-s2.0-84887878988  \n",
              "31093  2-s2.0-84880901884  \n",
              "31094  2-s2.0-84878900979  \n",
              "31095  2-s2.0-84880890956  \n",
              "\n",
              "[31096 rows x 46 columns]"
            ],
            "text/html": [
              "\n",
              "  <div id=\"df-673a588f-d843-4490-840f-2c735a0b477a\" class=\"colab-df-container\">\n",
              "    <div>\n",
              "<style scoped>\n",
              "    .dataframe tbody tr th:only-of-type {\n",
              "        vertical-align: middle;\n",
              "    }\n",
              "\n",
              "    .dataframe tbody tr th {\n",
              "        vertical-align: top;\n",
              "    }\n",
              "\n",
              "    .dataframe thead th {\n",
              "        text-align: right;\n",
              "    }\n",
              "</style>\n",
              "<table border=\"1\" class=\"dataframe\">\n",
              "  <thead>\n",
              "    <tr style=\"text-align: right;\">\n",
              "      <th></th>\n",
              "      <th>Authors</th>\n",
              "      <th>Author full names</th>\n",
              "      <th>Author(s) ID</th>\n",
              "      <th>Title</th>\n",
              "      <th>Year</th>\n",
              "      <th>Source title</th>\n",
              "      <th>Volume</th>\n",
              "      <th>Issue</th>\n",
              "      <th>Art. No.</th>\n",
              "      <th>Page start</th>\n",
              "      <th>Page end</th>\n",
              "      <th>Page count</th>\n",
              "      <th>Cited by</th>\n",
              "      <th>DOI</th>\n",
              "      <th>Link</th>\n",
              "      <th>Affiliations</th>\n",
              "      <th>Authors with affiliations</th>\n",
              "      <th>Abstract</th>\n",
              "      <th>Author Keywords</th>\n",
              "      <th>Index Keywords</th>\n",
              "      <th>Molecular Sequence Numbers</th>\n",
              "      <th>Chemicals/CAS</th>\n",
              "      <th>Tradenames</th>\n",
              "      <th>Manufacturers</th>\n",
              "      <th>Funding Details</th>\n",
              "      <th>Funding Texts</th>\n",
              "      <th>References</th>\n",
              "      <th>Correspondence Address</th>\n",
              "      <th>Editors</th>\n",
              "      <th>Publisher</th>\n",
              "      <th>Sponsors</th>\n",
              "      <th>Conference name</th>\n",
              "      <th>Conference date</th>\n",
              "      <th>Conference location</th>\n",
              "      <th>Conference code</th>\n",
              "      <th>ISSN</th>\n",
              "      <th>ISBN</th>\n",
              "      <th>CODEN</th>\n",
              "      <th>PubMed ID</th>\n",
              "      <th>Language of Original Document</th>\n",
              "      <th>Abbreviated Source Title</th>\n",
              "      <th>Document Type</th>\n",
              "      <th>Publication Stage</th>\n",
              "      <th>Open Access</th>\n",
              "      <th>Source</th>\n",
              "      <th>EID</th>\n",
              "    </tr>\n",
              "  </thead>\n",
              "  <tbody>\n",
              "    <tr>\n",
              "      <th>0</th>\n",
              "      <td>Mghazli N.; Bruneel O.; Zouagui R.; Hakkou R.;...</td>\n",
              "      <td>Mghazli, Najoua (57194021105); Bruneel, Odile ...</td>\n",
              "      <td>57194021105; 6506229203; 57226548652; 24329115...</td>\n",
              "      <td>Characterization of plant growth promoting act...</td>\n",
              "      <td>2022</td>\n",
              "      <td>Frontiers in Microbiology</td>\n",
              "      <td>13</td>\n",
              "      <td>NaN</td>\n",
              "      <td>1026991</td>\n",
              "      <td>NaN</td>\n",
              "      <td>NaN</td>\n",
              "      <td>NaN</td>\n",
              "      <td>9</td>\n",
              "      <td>10.3389/fmicb.2022.1026991</td>\n",
              "      <td>https://www.scopus.com/inward/record.uri?eid=2...</td>\n",
              "      <td>Center of Research Plants and Microbial Biotec...</td>\n",
              "      <td>Mghazli N., Center of Research Plants and Micr...</td>\n",
              "      <td>Morocco holds the vast majority of the world’s...</td>\n",
              "      <td>bioremediation; PGPB; phosphate waste rocks; r...</td>\n",
              "      <td>auxin; calcium phosphate; carotenoid; cefepime...</td>\n",
              "      <td>NaN</td>\n",
              "      <td>calcium phosphate, 10103-46-5, 13767-12-9, 143...</td>\n",
              "      <td>Bioline, Meridian Bioscience, United Kingdom</td>\n",
              "      <td>Meridian Bioscience, United Kingdom</td>\n",
              "      <td>NaN</td>\n",
              "      <td>NaN</td>\n",
              "      <td>Adams G.O., Tawari-Fufeyin P., Igelenyah E., O...</td>\n",
              "      <td>L. Sbabou; Center of Research Plants and Micro...</td>\n",
              "      <td>NaN</td>\n",
              "      <td>Frontiers Media S.A.</td>\n",
              "      <td>NaN</td>\n",
              "      <td>NaN</td>\n",
              "      <td>NaN</td>\n",
              "      <td>NaN</td>\n",
              "      <td>NaN</td>\n",
              "      <td>1664302X</td>\n",
              "      <td>NaN</td>\n",
              "      <td>NaN</td>\n",
              "      <td>NaN</td>\n",
              "      <td>English</td>\n",
              "      <td>Front. Microbiol.</td>\n",
              "      <td>Article</td>\n",
              "      <td>Final</td>\n",
              "      <td>All Open Access; Gold Open Access; Green Open ...</td>\n",
              "      <td>Scopus</td>\n",
              "      <td>2-s2.0-85145098855</td>\n",
              "    </tr>\n",
              "    <tr>\n",
              "      <th>1</th>\n",
              "      <td>Khouakhi A.; Driouech F.; Slater L.; Waine T.;...</td>\n",
              "      <td>Khouakhi, Abdou (25959184500); Driouech, Fatim...</td>\n",
              "      <td>25959184500; 24464321700; 14030760900; 6506621...</td>\n",
              "      <td>Atmospheric rivers and associated extreme rain...</td>\n",
              "      <td>2022</td>\n",
              "      <td>International Journal of Climatology</td>\n",
              "      <td>42</td>\n",
              "      <td>15</td>\n",
              "      <td>NaN</td>\n",
              "      <td>7766</td>\n",
              "      <td>7778</td>\n",
              "      <td>12.0</td>\n",
              "      <td>5</td>\n",
              "      <td>10.1002/joc.7676</td>\n",
              "      <td>https://www.scopus.com/inward/record.uri?eid=2...</td>\n",
              "      <td>School of Water, Energy and Environment, Centr...</td>\n",
              "      <td>Khouakhi A., School of Water, Energy and Envir...</td>\n",
              "      <td>Atmospheric rivers (ARs) are long, narrow, and...</td>\n",
              "      <td>atmospheric rivers; extreme rainfall; Morocco</td>\n",
              "      <td>Morocco; Digital storage; Floods; Rain; Atmosp...</td>\n",
              "      <td>NaN</td>\n",
              "      <td>NaN</td>\n",
              "      <td>NaN</td>\n",
              "      <td>NaN</td>\n",
              "      <td>NaN</td>\n",
              "      <td>NaN</td>\n",
              "      <td>Akbary M., Salimi S., Hosseini S.A., Hosseini ...</td>\n",
              "      <td>A. Khouakhi; School of Water, Energy and Envir...</td>\n",
              "      <td>NaN</td>\n",
              "      <td>John Wiley and Sons Ltd</td>\n",
              "      <td>NaN</td>\n",
              "      <td>NaN</td>\n",
              "      <td>NaN</td>\n",
              "      <td>NaN</td>\n",
              "      <td>NaN</td>\n",
              "      <td>08998418</td>\n",
              "      <td>NaN</td>\n",
              "      <td>IJCLE</td>\n",
              "      <td>NaN</td>\n",
              "      <td>English</td>\n",
              "      <td>Int. J. Climatol.</td>\n",
              "      <td>Article</td>\n",
              "      <td>Final</td>\n",
              "      <td>All Open Access; Green Open Access; Hybrid Gol...</td>\n",
              "      <td>Scopus</td>\n",
              "      <td>2-s2.0-85129903589</td>\n",
              "    </tr>\n",
              "    <tr>\n",
              "      <th>2</th>\n",
              "      <td>El Oujihi O.; Tizliouine A.; Elouafi A.; Salhi...</td>\n",
              "      <td>El Oujihi, O. (57218952408); Tizliouine, A. (5...</td>\n",
              "      <td>57218952408; 57213521818; 57206940105; 5653834...</td>\n",
              "      <td>Magnetic and magnetocaloric properties of the ...</td>\n",
              "      <td>2022</td>\n",
              "      <td>Solid State Communications</td>\n",
              "      <td>358</td>\n",
              "      <td>NaN</td>\n",
              "      <td>114977</td>\n",
              "      <td>NaN</td>\n",
              "      <td>NaN</td>\n",
              "      <td>NaN</td>\n",
              "      <td>10</td>\n",
              "      <td>10.1016/j.ssc.2022.114977</td>\n",
              "      <td>https://www.scopus.com/inward/record.uri?eid=2...</td>\n",
              "      <td>LMPGI, High School of Technology, Hassan II Un...</td>\n",
              "      <td>El Oujihi O., LMPGI, High School of Technology...</td>\n",
              "      <td>The polycrystalline compounds Ho2-xSmxCoMnO6 (...</td>\n",
              "      <td>Double perovskite; Magnetic property; Magnetoc...</td>\n",
              "      <td>Cobalt compounds; Holmium compounds; Magnetoca...</td>\n",
              "      <td>NaN</td>\n",
              "      <td>NaN</td>\n",
              "      <td>NaN</td>\n",
              "      <td>NaN</td>\n",
              "      <td>NaN</td>\n",
              "      <td>NaN</td>\n",
              "      <td>Zhang Y., Zhang B., Li S., Zhu J., Wu B., Wang...</td>\n",
              "      <td>O. El Oujihi; LMPGI, High School of Technology...</td>\n",
              "      <td>NaN</td>\n",
              "      <td>Elsevier Ltd</td>\n",
              "      <td>NaN</td>\n",
              "      <td>NaN</td>\n",
              "      <td>NaN</td>\n",
              "      <td>NaN</td>\n",
              "      <td>NaN</td>\n",
              "      <td>00381098</td>\n",
              "      <td>NaN</td>\n",
              "      <td>SSCOA</td>\n",
              "      <td>NaN</td>\n",
              "      <td>English</td>\n",
              "      <td>Solid State Commun</td>\n",
              "      <td>Article</td>\n",
              "      <td>Final</td>\n",
              "      <td>NaN</td>\n",
              "      <td>Scopus</td>\n",
              "      <td>2-s2.0-85140462791</td>\n",
              "    </tr>\n",
              "    <tr>\n",
              "      <th>3</th>\n",
              "      <td>Belafhal A.; Benzehoua H.; Balhamri A.; Usman T.</td>\n",
              "      <td>Belafhal, A. (6602895158); Benzehoua, H. (5722...</td>\n",
              "      <td>6602895158; 57226765910; 55549797500; 57191093659</td>\n",
              "      <td>An advanced method for evaluating Lommel integ...</td>\n",
              "      <td>2022</td>\n",
              "      <td>Journal of Computational and Applied Mathematics</td>\n",
              "      <td>416</td>\n",
              "      <td>NaN</td>\n",
              "      <td>114600</td>\n",
              "      <td>NaN</td>\n",
              "      <td>NaN</td>\n",
              "      <td>NaN</td>\n",
              "      <td>1</td>\n",
              "      <td>10.1016/j.cam.2022.114600</td>\n",
              "      <td>https://www.scopus.com/inward/record.uri?eid=2...</td>\n",
              "      <td>LPNAMME, Laser Physics Group, Department of Ph...</td>\n",
              "      <td>Belafhal A., LPNAMME, Laser Physics Group, Dep...</td>\n",
              "      <td>In this work, our main aim is to examine theor...</td>\n",
              "      <td>Electromagnetic Gaussian Schell-model; Fiber c...</td>\n",
              "      <td>Coherent light; Efficiency; Gaussian beams; In...</td>\n",
              "      <td>NaN</td>\n",
              "      <td>NaN</td>\n",
              "      <td>NaN</td>\n",
              "      <td>NaN</td>\n",
              "      <td>NaN</td>\n",
              "      <td>NaN</td>\n",
              "      <td>Lu B., Zhang B., Cai B., Focusing of a Gaussia...</td>\n",
              "      <td>T. Usman; Department of General Requirements, ...</td>\n",
              "      <td>NaN</td>\n",
              "      <td>Elsevier B.V.</td>\n",
              "      <td>NaN</td>\n",
              "      <td>NaN</td>\n",
              "      <td>NaN</td>\n",
              "      <td>NaN</td>\n",
              "      <td>NaN</td>\n",
              "      <td>03770427</td>\n",
              "      <td>NaN</td>\n",
              "      <td>NaN</td>\n",
              "      <td>NaN</td>\n",
              "      <td>English</td>\n",
              "      <td>J. Comput. Appl. Math.</td>\n",
              "      <td>Article</td>\n",
              "      <td>Final</td>\n",
              "      <td>NaN</td>\n",
              "      <td>Scopus</td>\n",
              "      <td>2-s2.0-85134428284</td>\n",
              "    </tr>\n",
              "    <tr>\n",
              "      <th>4</th>\n",
              "      <td>Fellahi S.; Rawi T.; Fagrach A.; Berrada L.; D...</td>\n",
              "      <td>Fellahi, Siham (56763990600); Rawi, Taoufik (5...</td>\n",
              "      <td>56763990600; 57223589933; 57918986800; 5808310...</td>\n",
              "      <td>Assessing the Efficacy of Recombinant Newcastl...</td>\n",
              "      <td>2022</td>\n",
              "      <td>Avian Diseases</td>\n",
              "      <td>66</td>\n",
              "      <td>4</td>\n",
              "      <td>NaN</td>\n",
              "      <td>396</td>\n",
              "      <td>403</td>\n",
              "      <td>7.0</td>\n",
              "      <td>0</td>\n",
              "      <td>10.1637/aviandiseases-D-22-00045</td>\n",
              "      <td>https://www.scopus.com/inward/record.uri?eid=2...</td>\n",
              "      <td>Département de Pathologie et Santé Publique Vé...</td>\n",
              "      <td>Fellahi S., Département de Pathologie et Santé...</td>\n",
              "      <td>The advent of turkey herpesvirus (HVT) vector ...</td>\n",
              "      <td>commercial broilers; HVT-IBD-ND vector vaccine...</td>\n",
              "      <td>Animals; Antibodies, Viral; Chickens; Newcastl...</td>\n",
              "      <td>NaN</td>\n",
              "      <td>Antibodies, Viral, ; Vaccines, Synthetic, ; Vi...</td>\n",
              "      <td>NaN</td>\n",
              "      <td>NaN</td>\n",
              "      <td>NaN</td>\n",
              "      <td>NaN</td>\n",
              "      <td>Alexander DJ, Aldous EW, Fuller CM., The long ...</td>\n",
              "      <td>S. Fellahi; Département de Pathologie et Santé...</td>\n",
              "      <td>NaN</td>\n",
              "      <td>American Association of Avian Pathologists</td>\n",
              "      <td>NaN</td>\n",
              "      <td>NaN</td>\n",
              "      <td>NaN</td>\n",
              "      <td>NaN</td>\n",
              "      <td>NaN</td>\n",
              "      <td>00052086</td>\n",
              "      <td>NaN</td>\n",
              "      <td>AVDIA</td>\n",
              "      <td>36715470.0</td>\n",
              "      <td>English</td>\n",
              "      <td>Avian Dis.</td>\n",
              "      <td>Article</td>\n",
              "      <td>Final</td>\n",
              "      <td>NaN</td>\n",
              "      <td>Scopus</td>\n",
              "      <td>2-s2.0-85147072082</td>\n",
              "    </tr>\n",
              "    <tr>\n",
              "      <th>...</th>\n",
              "      <td>...</td>\n",
              "      <td>...</td>\n",
              "      <td>...</td>\n",
              "      <td>...</td>\n",
              "      <td>...</td>\n",
              "      <td>...</td>\n",
              "      <td>...</td>\n",
              "      <td>...</td>\n",
              "      <td>...</td>\n",
              "      <td>...</td>\n",
              "      <td>...</td>\n",
              "      <td>...</td>\n",
              "      <td>...</td>\n",
              "      <td>...</td>\n",
              "      <td>...</td>\n",
              "      <td>...</td>\n",
              "      <td>...</td>\n",
              "      <td>...</td>\n",
              "      <td>...</td>\n",
              "      <td>...</td>\n",
              "      <td>...</td>\n",
              "      <td>...</td>\n",
              "      <td>...</td>\n",
              "      <td>...</td>\n",
              "      <td>...</td>\n",
              "      <td>...</td>\n",
              "      <td>...</td>\n",
              "      <td>...</td>\n",
              "      <td>...</td>\n",
              "      <td>...</td>\n",
              "      <td>...</td>\n",
              "      <td>...</td>\n",
              "      <td>...</td>\n",
              "      <td>...</td>\n",
              "      <td>...</td>\n",
              "      <td>...</td>\n",
              "      <td>...</td>\n",
              "      <td>...</td>\n",
              "      <td>...</td>\n",
              "      <td>...</td>\n",
              "      <td>...</td>\n",
              "      <td>...</td>\n",
              "      <td>...</td>\n",
              "      <td>...</td>\n",
              "      <td>...</td>\n",
              "      <td>...</td>\n",
              "    </tr>\n",
              "    <tr>\n",
              "      <th>31091</th>\n",
              "      <td>Choulet F.; Charles N.; Barbanson L.; Branquet...</td>\n",
              "      <td>Choulet, Flavien (35117597900); Charles, Nicol...</td>\n",
              "      <td>35117597900; 33467569300; 6602768884; 66033555...</td>\n",
              "      <td>Non-sulfide zinc deposits of the moroccan high...</td>\n",
              "      <td>2014</td>\n",
              "      <td>Ore Geology Reviews</td>\n",
              "      <td>56</td>\n",
              "      <td>NaN</td>\n",
              "      <td>NaN</td>\n",
              "      <td>115</td>\n",
              "      <td>140</td>\n",
              "      <td>25.0</td>\n",
              "      <td>40</td>\n",
              "      <td>10.1016/j.oregeorev.2013.08.015</td>\n",
              "      <td>https://www.scopus.com/inward/record.uri?eid=2...</td>\n",
              "      <td>NaN</td>\n",
              "      <td>NaN</td>\n",
              "      <td>NaN</td>\n",
              "      <td>NaN</td>\n",
              "      <td>NaN</td>\n",
              "      <td>NaN</td>\n",
              "      <td>NaN</td>\n",
              "      <td>NaN</td>\n",
              "      <td>NaN</td>\n",
              "      <td>NaN</td>\n",
              "      <td>NaN</td>\n",
              "      <td>NaN</td>\n",
              "      <td>NaN</td>\n",
              "      <td>NaN</td>\n",
              "      <td>NaN</td>\n",
              "      <td>NaN</td>\n",
              "      <td>NaN</td>\n",
              "      <td>NaN</td>\n",
              "      <td>NaN</td>\n",
              "      <td>NaN</td>\n",
              "      <td>NaN</td>\n",
              "      <td>NaN</td>\n",
              "      <td>NaN</td>\n",
              "      <td>NaN</td>\n",
              "      <td>NaN</td>\n",
              "      <td>NaN</td>\n",
              "      <td>Article</td>\n",
              "      <td>Final</td>\n",
              "      <td>All Open Access; Green Open Access</td>\n",
              "      <td>Scopus</td>\n",
              "      <td>2-s2.0-84887536984</td>\n",
              "    </tr>\n",
              "    <tr>\n",
              "      <th>31092</th>\n",
              "      <td>Picard D.; Zarhbouch B.</td>\n",
              "      <td>Picard, Delphine (55749293600); Zarhbouch, Ben...</td>\n",
              "      <td>55749293600; 35281362700</td>\n",
              "      <td>Leftward spatial bias in children's drawing pl...</td>\n",
              "      <td>2014</td>\n",
              "      <td>Laterality</td>\n",
              "      <td>19</td>\n",
              "      <td>1</td>\n",
              "      <td>NaN</td>\n",
              "      <td>96</td>\n",
              "      <td>112</td>\n",
              "      <td>16.0</td>\n",
              "      <td>6</td>\n",
              "      <td>10.1080/1357650X.2013.777072</td>\n",
              "      <td>https://www.scopus.com/inward/record.uri?eid=2...</td>\n",
              "      <td>NaN</td>\n",
              "      <td>NaN</td>\n",
              "      <td>NaN</td>\n",
              "      <td>NaN</td>\n",
              "      <td>NaN</td>\n",
              "      <td>NaN</td>\n",
              "      <td>NaN</td>\n",
              "      <td>NaN</td>\n",
              "      <td>NaN</td>\n",
              "      <td>NaN</td>\n",
              "      <td>NaN</td>\n",
              "      <td>NaN</td>\n",
              "      <td>NaN</td>\n",
              "      <td>NaN</td>\n",
              "      <td>NaN</td>\n",
              "      <td>NaN</td>\n",
              "      <td>NaN</td>\n",
              "      <td>NaN</td>\n",
              "      <td>NaN</td>\n",
              "      <td>NaN</td>\n",
              "      <td>NaN</td>\n",
              "      <td>NaN</td>\n",
              "      <td>NaN</td>\n",
              "      <td>NaN</td>\n",
              "      <td>NaN</td>\n",
              "      <td>NaN</td>\n",
              "      <td>Article</td>\n",
              "      <td>Final</td>\n",
              "      <td>NaN</td>\n",
              "      <td>Scopus</td>\n",
              "      <td>2-s2.0-84887878988</td>\n",
              "    </tr>\n",
              "    <tr>\n",
              "      <th>31093</th>\n",
              "      <td>Kouibia A.; Pasadas M.</td>\n",
              "      <td>Kouibia, A. (6602331827); Pasadas, M. (5719562...</td>\n",
              "      <td>6602331827; 57195622902</td>\n",
              "      <td>Approximation of vector fields using discrete ...</td>\n",
              "      <td>2014</td>\n",
              "      <td>Journal of Computational and Applied Mathematics</td>\n",
              "      <td>255</td>\n",
              "      <td>NaN</td>\n",
              "      <td>NaN</td>\n",
              "      <td>778</td>\n",
              "      <td>788</td>\n",
              "      <td>10.0</td>\n",
              "      <td>0</td>\n",
              "      <td>10.1016/j.cam.2013.06.025</td>\n",
              "      <td>https://www.scopus.com/inward/record.uri?eid=2...</td>\n",
              "      <td>NaN</td>\n",
              "      <td>NaN</td>\n",
              "      <td>NaN</td>\n",
              "      <td>NaN</td>\n",
              "      <td>NaN</td>\n",
              "      <td>NaN</td>\n",
              "      <td>NaN</td>\n",
              "      <td>NaN</td>\n",
              "      <td>NaN</td>\n",
              "      <td>NaN</td>\n",
              "      <td>NaN</td>\n",
              "      <td>NaN</td>\n",
              "      <td>NaN</td>\n",
              "      <td>NaN</td>\n",
              "      <td>NaN</td>\n",
              "      <td>NaN</td>\n",
              "      <td>NaN</td>\n",
              "      <td>NaN</td>\n",
              "      <td>NaN</td>\n",
              "      <td>NaN</td>\n",
              "      <td>NaN</td>\n",
              "      <td>NaN</td>\n",
              "      <td>NaN</td>\n",
              "      <td>NaN</td>\n",
              "      <td>NaN</td>\n",
              "      <td>NaN</td>\n",
              "      <td>Article</td>\n",
              "      <td>Final</td>\n",
              "      <td>All Open Access; Hybrid Gold Open Access</td>\n",
              "      <td>Scopus</td>\n",
              "      <td>2-s2.0-84880901884</td>\n",
              "    </tr>\n",
              "    <tr>\n",
              "      <th>31094</th>\n",
              "      <td>Lamrini B.; Lakhal E.K.; Le Lann M.V.</td>\n",
              "      <td>Lamrini, Bouchra (12038918500); Lakhal, El Kha...</td>\n",
              "      <td>12038918500; 6602899693; 6701598270</td>\n",
              "      <td>A decision support tool for technical processe...</td>\n",
              "      <td>2014</td>\n",
              "      <td>Desalination and Water Treatment</td>\n",
              "      <td>52</td>\n",
              "      <td>22-24</td>\n",
              "      <td>NaN</td>\n",
              "      <td>4079</td>\n",
              "      <td>4088</td>\n",
              "      <td>9.0</td>\n",
              "      <td>11</td>\n",
              "      <td>10.1080/19443994.2013.803327</td>\n",
              "      <td>https://www.scopus.com/inward/record.uri?eid=2...</td>\n",
              "      <td>NaN</td>\n",
              "      <td>NaN</td>\n",
              "      <td>NaN</td>\n",
              "      <td>NaN</td>\n",
              "      <td>NaN</td>\n",
              "      <td>NaN</td>\n",
              "      <td>NaN</td>\n",
              "      <td>NaN</td>\n",
              "      <td>NaN</td>\n",
              "      <td>NaN</td>\n",
              "      <td>NaN</td>\n",
              "      <td>NaN</td>\n",
              "      <td>NaN</td>\n",
              "      <td>NaN</td>\n",
              "      <td>NaN</td>\n",
              "      <td>NaN</td>\n",
              "      <td>NaN</td>\n",
              "      <td>NaN</td>\n",
              "      <td>NaN</td>\n",
              "      <td>NaN</td>\n",
              "      <td>NaN</td>\n",
              "      <td>NaN</td>\n",
              "      <td>NaN</td>\n",
              "      <td>NaN</td>\n",
              "      <td>NaN</td>\n",
              "      <td>NaN</td>\n",
              "      <td>Article</td>\n",
              "      <td>Final</td>\n",
              "      <td>NaN</td>\n",
              "      <td>Scopus</td>\n",
              "      <td>2-s2.0-84878900979</td>\n",
              "    </tr>\n",
              "    <tr>\n",
              "      <th>31095</th>\n",
              "      <td>El Beid S.; Doubabi S.</td>\n",
              "      <td>El Beid, Said (24723922200); Doubabi, Said (24...</td>\n",
              "      <td>24723922200; 24724274700</td>\n",
              "      <td>DSP-based implementation of fuzzy output track...</td>\n",
              "      <td>2014</td>\n",
              "      <td>IEEE Transactions on Industrial Electronics</td>\n",
              "      <td>61</td>\n",
              "      <td>1</td>\n",
              "      <td>6419812</td>\n",
              "      <td>196</td>\n",
              "      <td>209</td>\n",
              "      <td>13.0</td>\n",
              "      <td>90</td>\n",
              "      <td>10.1109/TIE.2013.2242413</td>\n",
              "      <td>https://www.scopus.com/inward/record.uri?eid=2...</td>\n",
              "      <td>NaN</td>\n",
              "      <td>NaN</td>\n",
              "      <td>NaN</td>\n",
              "      <td>NaN</td>\n",
              "      <td>NaN</td>\n",
              "      <td>NaN</td>\n",
              "      <td>NaN</td>\n",
              "      <td>NaN</td>\n",
              "      <td>NaN</td>\n",
              "      <td>NaN</td>\n",
              "      <td>NaN</td>\n",
              "      <td>NaN</td>\n",
              "      <td>NaN</td>\n",
              "      <td>NaN</td>\n",
              "      <td>NaN</td>\n",
              "      <td>NaN</td>\n",
              "      <td>NaN</td>\n",
              "      <td>NaN</td>\n",
              "      <td>NaN</td>\n",
              "      <td>NaN</td>\n",
              "      <td>NaN</td>\n",
              "      <td>NaN</td>\n",
              "      <td>NaN</td>\n",
              "      <td>NaN</td>\n",
              "      <td>NaN</td>\n",
              "      <td>NaN</td>\n",
              "      <td>Article</td>\n",
              "      <td>Final</td>\n",
              "      <td>NaN</td>\n",
              "      <td>Scopus</td>\n",
              "      <td>2-s2.0-84880890956</td>\n",
              "    </tr>\n",
              "  </tbody>\n",
              "</table>\n",
              "<p>31096 rows × 46 columns</p>\n",
              "</div>\n",
              "    <div class=\"colab-df-buttons\">\n",
              "\n",
              "  <div class=\"colab-df-container\">\n",
              "    <button class=\"colab-df-convert\" onclick=\"convertToInteractive('df-673a588f-d843-4490-840f-2c735a0b477a')\"\n",
              "            title=\"Convert this dataframe to an interactive table.\"\n",
              "            style=\"display:none;\">\n",
              "\n",
              "  <svg xmlns=\"http://www.w3.org/2000/svg\" height=\"24px\" viewBox=\"0 -960 960 960\">\n",
              "    <path d=\"M120-120v-720h720v720H120Zm60-500h600v-160H180v160Zm220 220h160v-160H400v160Zm0 220h160v-160H400v160ZM180-400h160v-160H180v160Zm440 0h160v-160H620v160ZM180-180h160v-160H180v160Zm440 0h160v-160H620v160Z\"/>\n",
              "  </svg>\n",
              "    </button>\n",
              "\n",
              "  <style>\n",
              "    .colab-df-container {\n",
              "      display:flex;\n",
              "      gap: 12px;\n",
              "    }\n",
              "\n",
              "    .colab-df-convert {\n",
              "      background-color: #E8F0FE;\n",
              "      border: none;\n",
              "      border-radius: 50%;\n",
              "      cursor: pointer;\n",
              "      display: none;\n",
              "      fill: #1967D2;\n",
              "      height: 32px;\n",
              "      padding: 0 0 0 0;\n",
              "      width: 32px;\n",
              "    }\n",
              "\n",
              "    .colab-df-convert:hover {\n",
              "      background-color: #E2EBFA;\n",
              "      box-shadow: 0px 1px 2px rgba(60, 64, 67, 0.3), 0px 1px 3px 1px rgba(60, 64, 67, 0.15);\n",
              "      fill: #174EA6;\n",
              "    }\n",
              "\n",
              "    .colab-df-buttons div {\n",
              "      margin-bottom: 4px;\n",
              "    }\n",
              "\n",
              "    [theme=dark] .colab-df-convert {\n",
              "      background-color: #3B4455;\n",
              "      fill: #D2E3FC;\n",
              "    }\n",
              "\n",
              "    [theme=dark] .colab-df-convert:hover {\n",
              "      background-color: #434B5C;\n",
              "      box-shadow: 0px 1px 3px 1px rgba(0, 0, 0, 0.15);\n",
              "      filter: drop-shadow(0px 1px 2px rgba(0, 0, 0, 0.3));\n",
              "      fill: #FFFFFF;\n",
              "    }\n",
              "  </style>\n",
              "\n",
              "    <script>\n",
              "      const buttonEl =\n",
              "        document.querySelector('#df-673a588f-d843-4490-840f-2c735a0b477a button.colab-df-convert');\n",
              "      buttonEl.style.display =\n",
              "        google.colab.kernel.accessAllowed ? 'block' : 'none';\n",
              "\n",
              "      async function convertToInteractive(key) {\n",
              "        const element = document.querySelector('#df-673a588f-d843-4490-840f-2c735a0b477a');\n",
              "        const dataTable =\n",
              "          await google.colab.kernel.invokeFunction('convertToInteractive',\n",
              "                                                    [key], {});\n",
              "        if (!dataTable) return;\n",
              "\n",
              "        const docLinkHtml = 'Like what you see? Visit the ' +\n",
              "          '<a target=\"_blank\" href=https://colab.research.google.com/notebooks/data_table.ipynb>data table notebook</a>'\n",
              "          + ' to learn more about interactive tables.';\n",
              "        element.innerHTML = '';\n",
              "        dataTable['output_type'] = 'display_data';\n",
              "        await google.colab.output.renderOutput(dataTable, element);\n",
              "        const docLink = document.createElement('div');\n",
              "        docLink.innerHTML = docLinkHtml;\n",
              "        element.appendChild(docLink);\n",
              "      }\n",
              "    </script>\n",
              "  </div>\n",
              "\n",
              "\n",
              "<div id=\"df-b36b7028-077a-4767-b80c-bf3619c57dfe\">\n",
              "  <button class=\"colab-df-quickchart\" onclick=\"quickchart('df-b36b7028-077a-4767-b80c-bf3619c57dfe')\"\n",
              "            title=\"Suggest charts\"\n",
              "            style=\"display:none;\">\n",
              "\n",
              "<svg xmlns=\"http://www.w3.org/2000/svg\" height=\"24px\"viewBox=\"0 0 24 24\"\n",
              "     width=\"24px\">\n",
              "    <g>\n",
              "        <path d=\"M19 3H5c-1.1 0-2 .9-2 2v14c0 1.1.9 2 2 2h14c1.1 0 2-.9 2-2V5c0-1.1-.9-2-2-2zM9 17H7v-7h2v7zm4 0h-2V7h2v10zm4 0h-2v-4h2v4z\"/>\n",
              "    </g>\n",
              "</svg>\n",
              "  </button>\n",
              "\n",
              "<style>\n",
              "  .colab-df-quickchart {\n",
              "      --bg-color: #E8F0FE;\n",
              "      --fill-color: #1967D2;\n",
              "      --hover-bg-color: #E2EBFA;\n",
              "      --hover-fill-color: #174EA6;\n",
              "      --disabled-fill-color: #AAA;\n",
              "      --disabled-bg-color: #DDD;\n",
              "  }\n",
              "\n",
              "  [theme=dark] .colab-df-quickchart {\n",
              "      --bg-color: #3B4455;\n",
              "      --fill-color: #D2E3FC;\n",
              "      --hover-bg-color: #434B5C;\n",
              "      --hover-fill-color: #FFFFFF;\n",
              "      --disabled-bg-color: #3B4455;\n",
              "      --disabled-fill-color: #666;\n",
              "  }\n",
              "\n",
              "  .colab-df-quickchart {\n",
              "    background-color: var(--bg-color);\n",
              "    border: none;\n",
              "    border-radius: 50%;\n",
              "    cursor: pointer;\n",
              "    display: none;\n",
              "    fill: var(--fill-color);\n",
              "    height: 32px;\n",
              "    padding: 0;\n",
              "    width: 32px;\n",
              "  }\n",
              "\n",
              "  .colab-df-quickchart:hover {\n",
              "    background-color: var(--hover-bg-color);\n",
              "    box-shadow: 0 1px 2px rgba(60, 64, 67, 0.3), 0 1px 3px 1px rgba(60, 64, 67, 0.15);\n",
              "    fill: var(--button-hover-fill-color);\n",
              "  }\n",
              "\n",
              "  .colab-df-quickchart-complete:disabled,\n",
              "  .colab-df-quickchart-complete:disabled:hover {\n",
              "    background-color: var(--disabled-bg-color);\n",
              "    fill: var(--disabled-fill-color);\n",
              "    box-shadow: none;\n",
              "  }\n",
              "\n",
              "  .colab-df-spinner {\n",
              "    border: 2px solid var(--fill-color);\n",
              "    border-color: transparent;\n",
              "    border-bottom-color: var(--fill-color);\n",
              "    animation:\n",
              "      spin 1s steps(1) infinite;\n",
              "  }\n",
              "\n",
              "  @keyframes spin {\n",
              "    0% {\n",
              "      border-color: transparent;\n",
              "      border-bottom-color: var(--fill-color);\n",
              "      border-left-color: var(--fill-color);\n",
              "    }\n",
              "    20% {\n",
              "      border-color: transparent;\n",
              "      border-left-color: var(--fill-color);\n",
              "      border-top-color: var(--fill-color);\n",
              "    }\n",
              "    30% {\n",
              "      border-color: transparent;\n",
              "      border-left-color: var(--fill-color);\n",
              "      border-top-color: var(--fill-color);\n",
              "      border-right-color: var(--fill-color);\n",
              "    }\n",
              "    40% {\n",
              "      border-color: transparent;\n",
              "      border-right-color: var(--fill-color);\n",
              "      border-top-color: var(--fill-color);\n",
              "    }\n",
              "    60% {\n",
              "      border-color: transparent;\n",
              "      border-right-color: var(--fill-color);\n",
              "    }\n",
              "    80% {\n",
              "      border-color: transparent;\n",
              "      border-right-color: var(--fill-color);\n",
              "      border-bottom-color: var(--fill-color);\n",
              "    }\n",
              "    90% {\n",
              "      border-color: transparent;\n",
              "      border-bottom-color: var(--fill-color);\n",
              "    }\n",
              "  }\n",
              "</style>\n",
              "\n",
              "  <script>\n",
              "    async function quickchart(key) {\n",
              "      const quickchartButtonEl =\n",
              "        document.querySelector('#' + key + ' button');\n",
              "      quickchartButtonEl.disabled = true;  // To prevent multiple clicks.\n",
              "      quickchartButtonEl.classList.add('colab-df-spinner');\n",
              "      try {\n",
              "        const charts = await google.colab.kernel.invokeFunction(\n",
              "            'suggestCharts', [key], {});\n",
              "      } catch (error) {\n",
              "        console.error('Error during call to suggestCharts:', error);\n",
              "      }\n",
              "      quickchartButtonEl.classList.remove('colab-df-spinner');\n",
              "      quickchartButtonEl.classList.add('colab-df-quickchart-complete');\n",
              "    }\n",
              "    (() => {\n",
              "      let quickchartButtonEl =\n",
              "        document.querySelector('#df-b36b7028-077a-4767-b80c-bf3619c57dfe button');\n",
              "      quickchartButtonEl.style.display =\n",
              "        google.colab.kernel.accessAllowed ? 'block' : 'none';\n",
              "    })();\n",
              "  </script>\n",
              "</div>\n",
              "\n",
              "  <div id=\"id_42020a1d-365b-4bed-ba4d-8676e3e26aa0\">\n",
              "    <style>\n",
              "      .colab-df-generate {\n",
              "        background-color: #E8F0FE;\n",
              "        border: none;\n",
              "        border-radius: 50%;\n",
              "        cursor: pointer;\n",
              "        display: none;\n",
              "        fill: #1967D2;\n",
              "        height: 32px;\n",
              "        padding: 0 0 0 0;\n",
              "        width: 32px;\n",
              "      }\n",
              "\n",
              "      .colab-df-generate:hover {\n",
              "        background-color: #E2EBFA;\n",
              "        box-shadow: 0px 1px 2px rgba(60, 64, 67, 0.3), 0px 1px 3px 1px rgba(60, 64, 67, 0.15);\n",
              "        fill: #174EA6;\n",
              "      }\n",
              "\n",
              "      [theme=dark] .colab-df-generate {\n",
              "        background-color: #3B4455;\n",
              "        fill: #D2E3FC;\n",
              "      }\n",
              "\n",
              "      [theme=dark] .colab-df-generate:hover {\n",
              "        background-color: #434B5C;\n",
              "        box-shadow: 0px 1px 3px 1px rgba(0, 0, 0, 0.15);\n",
              "        filter: drop-shadow(0px 1px 2px rgba(0, 0, 0, 0.3));\n",
              "        fill: #FFFFFF;\n",
              "      }\n",
              "    </style>\n",
              "    <button class=\"colab-df-generate\" onclick=\"generateWithVariable('dataset')\"\n",
              "            title=\"Generate code using this dataframe.\"\n",
              "            style=\"display:none;\">\n",
              "\n",
              "  <svg xmlns=\"http://www.w3.org/2000/svg\" height=\"24px\"viewBox=\"0 0 24 24\"\n",
              "       width=\"24px\">\n",
              "    <path d=\"M7,19H8.4L18.45,9,17,7.55,7,17.6ZM5,21V16.75L18.45,3.32a2,2,0,0,1,2.83,0l1.4,1.43a1.91,1.91,0,0,1,.58,1.4,1.91,1.91,0,0,1-.58,1.4L9.25,21ZM18.45,9,17,7.55Zm-12,3A5.31,5.31,0,0,0,4.9,8.1,5.31,5.31,0,0,0,1,6.5,5.31,5.31,0,0,0,4.9,4.9,5.31,5.31,0,0,0,6.5,1,5.31,5.31,0,0,0,8.1,4.9,5.31,5.31,0,0,0,12,6.5,5.46,5.46,0,0,0,6.5,12Z\"/>\n",
              "  </svg>\n",
              "    </button>\n",
              "    <script>\n",
              "      (() => {\n",
              "      const buttonEl =\n",
              "        document.querySelector('#id_42020a1d-365b-4bed-ba4d-8676e3e26aa0 button.colab-df-generate');\n",
              "      buttonEl.style.display =\n",
              "        google.colab.kernel.accessAllowed ? 'block' : 'none';\n",
              "\n",
              "      buttonEl.onclick = () => {\n",
              "        google.colab.notebook.generateWithVariable('dataset');\n",
              "      }\n",
              "      })();\n",
              "    </script>\n",
              "  </div>\n",
              "\n",
              "    </div>\n",
              "  </div>\n"
            ],
            "application/vnd.google.colaboratory.intrinsic+json": {
              "type": "dataframe",
              "variable_name": "dataset"
            }
          },
          "metadata": {},
          "execution_count": 4
        }
      ],
      "source": [
        "dataset"
      ]
    },
    {
      "cell_type": "code",
      "execution_count": null,
      "metadata": {
        "colab": {
          "base_uri": "https://localhost:8080/"
        },
        "id": "29Td35fG8g9G",
        "outputId": "b9366caf-c728-492b-d4b1-68e170080d45"
      },
      "outputs": [
        {
          "output_type": "stream",
          "name": "stdout",
          "text": [
            "<class 'pandas.core.frame.DataFrame'>\n",
            "RangeIndex: 31096 entries, 0 to 31095\n",
            "Data columns (total 46 columns):\n",
            " #   Column                         Non-Null Count  Dtype  \n",
            "---  ------                         --------------  -----  \n",
            " 0   Authors                        31096 non-null  object \n",
            " 1   Author full names              31096 non-null  object \n",
            " 2   Author(s) ID                   31096 non-null  object \n",
            " 3   Title                          31095 non-null  object \n",
            " 4   Year                           31096 non-null  int64  \n",
            " 5   Source title                   31096 non-null  object \n",
            " 6   Volume                         27079 non-null  object \n",
            " 7   Issue                          18164 non-null  object \n",
            " 8   Art. No.                       9432 non-null   object \n",
            " 9   Page start                     22100 non-null  object \n",
            " 10  Page end                       21336 non-null  object \n",
            " 11  Page count                     21497 non-null  float64\n",
            " 12  Cited by                       31096 non-null  int64  \n",
            " 13  DOI                            27443 non-null  object \n",
            " 14  Link                           31096 non-null  object \n",
            " 15  Affiliations                   14793 non-null  object \n",
            " 16  Authors with affiliations      14793 non-null  object \n",
            " 17  Abstract                       14793 non-null  object \n",
            " 18  Author Keywords                12800 non-null  object \n",
            " 19  Index Keywords                 8964 non-null   object \n",
            " 20  Molecular Sequence Numbers     22 non-null     object \n",
            " 21  Chemicals/CAS                  1766 non-null   object \n",
            " 22  Tradenames                     181 non-null    object \n",
            " 23  Manufacturers                  97 non-null     object \n",
            " 24  Funding Details                3751 non-null   object \n",
            " 25  Funding Texts                  3707 non-null   object \n",
            " 26  References                     14479 non-null  object \n",
            " 27  Correspondence Address         12262 non-null  object \n",
            " 28  Editors                        1477 non-null   object \n",
            " 29  Publisher                      13566 non-null  object \n",
            " 30  Sponsors                       218 non-null    object \n",
            " 31  Conference name                2308 non-null   object \n",
            " 32  Conference date                2308 non-null   object \n",
            " 33  Conference location            2307 non-null   object \n",
            " 34  Conference code                2290 non-null   float64\n",
            " 35  ISSN                           13472 non-null  object \n",
            " 36  ISBN                           2140 non-null   object \n",
            " 37  CODEN                          3716 non-null   object \n",
            " 38  PubMed ID                      1961 non-null   float64\n",
            " 39  Language of Original Document  14793 non-null  object \n",
            " 40  Abbreviated Source Title       14792 non-null  object \n",
            " 41  Document Type                  31096 non-null  object \n",
            " 42  Publication Stage              31096 non-null  object \n",
            " 43  Open Access                    10998 non-null  object \n",
            " 44  Source                         31096 non-null  object \n",
            " 45  EID                            31096 non-null  object \n",
            "dtypes: float64(3), int64(2), object(41)\n",
            "memory usage: 10.9+ MB\n"
          ]
        }
      ],
      "source": [
        "dataset.info()"
      ]
    },
    {
      "cell_type": "markdown",
      "source": [
        "identify the unique columns"
      ],
      "metadata": {
        "id": "ulqGbxWAnwnP"
      }
    },
    {
      "cell_type": "code",
      "source": [
        "if dataset.duplicated().any():\n",
        "    print('yes')\n",
        "else:\n",
        "    print('no')\n"
      ],
      "metadata": {
        "colab": {
          "base_uri": "https://localhost:8080/"
        },
        "id": "20h1lXwdn1fZ",
        "outputId": "b57642e7-7c5c-4f40-8640-e636e8f29110"
      },
      "execution_count": null,
      "outputs": [
        {
          "output_type": "stream",
          "name": "stdout",
          "text": [
            "no\n"
          ]
        }
      ]
    },
    {
      "cell_type": "code",
      "source": [
        "dataset['EID'].duplicated().any()"
      ],
      "metadata": {
        "colab": {
          "base_uri": "https://localhost:8080/"
        },
        "id": "9056sKLurMFV",
        "outputId": "8e3f38b5-9f07-4ff5-c398-c184265dbe10"
      },
      "execution_count": null,
      "outputs": [
        {
          "output_type": "execute_result",
          "data": {
            "text/plain": [
              "False"
            ]
          },
          "metadata": {},
          "execution_count": 80
        }
      ]
    },
    {
      "cell_type": "code",
      "source": [
        "dataset['DOI'].duplicated().any()"
      ],
      "metadata": {
        "id": "38h9QIZMrsd9",
        "colab": {
          "base_uri": "https://localhost:8080/"
        },
        "outputId": "29fcfab0-8317-4d4a-86dd-d665f65f0efa"
      },
      "execution_count": null,
      "outputs": [
        {
          "output_type": "execute_result",
          "data": {
            "text/plain": [
              "True"
            ]
          },
          "metadata": {},
          "execution_count": 81
        }
      ]
    },
    {
      "cell_type": "code",
      "source": [
        "dataset['Author(s) ID'].duplicated().any()"
      ],
      "metadata": {
        "colab": {
          "base_uri": "https://localhost:8080/"
        },
        "id": "3rd9DDUrrxe4",
        "outputId": "c2d67802-8285-457d-e550-3985eb30c8c6"
      },
      "execution_count": null,
      "outputs": [
        {
          "output_type": "execute_result",
          "data": {
            "text/plain": [
              "True"
            ]
          },
          "metadata": {},
          "execution_count": 82
        }
      ]
    },
    {
      "cell_type": "markdown",
      "source": [
        "Check null values"
      ],
      "metadata": {
        "id": "n--MkBvcr8di"
      }
    },
    {
      "cell_type": "code",
      "source": [
        "dataset.isna().sum()"
      ],
      "metadata": {
        "colab": {
          "base_uri": "https://localhost:8080/",
          "height": 1000
        },
        "id": "ltJSdxc6r1d8",
        "outputId": "ad4402f8-da31-4241-cfac-75e36aad4f7d"
      },
      "execution_count": null,
      "outputs": [
        {
          "output_type": "execute_result",
          "data": {
            "text/plain": [
              "Authors                              0\n",
              "Author full names                    0\n",
              "Author(s) ID                         0\n",
              "Title                                1\n",
              "Year                                 0\n",
              "Source title                         0\n",
              "Volume                            4017\n",
              "Issue                            12932\n",
              "Art. No.                         21664\n",
              "Page start                        8996\n",
              "Page end                          9760\n",
              "Page count                        9599\n",
              "Cited by                             0\n",
              "DOI                               3653\n",
              "Link                                 0\n",
              "Affiliations                     16303\n",
              "Authors with affiliations        16303\n",
              "Abstract                         16303\n",
              "Author Keywords                  18296\n",
              "Index Keywords                   22132\n",
              "Molecular Sequence Numbers       31074\n",
              "Chemicals/CAS                    29330\n",
              "Tradenames                       30915\n",
              "Manufacturers                    30999\n",
              "Funding Details                  27345\n",
              "Funding Texts                    27389\n",
              "References                       16617\n",
              "Correspondence Address           18834\n",
              "Editors                          29619\n",
              "Publisher                        17530\n",
              "Sponsors                         30878\n",
              "Conference name                  28788\n",
              "Conference date                  28788\n",
              "Conference location              28789\n",
              "Conference code                  28806\n",
              "ISSN                             17624\n",
              "ISBN                             28956\n",
              "CODEN                            27380\n",
              "PubMed ID                        29135\n",
              "Language of Original Document    16303\n",
              "Abbreviated Source Title         16304\n",
              "Document Type                        0\n",
              "Publication Stage                    0\n",
              "Open Access                      20098\n",
              "Source                               0\n",
              "EID                                  0\n",
              "dtype: int64"
            ],
            "text/html": [
              "<div>\n",
              "<style scoped>\n",
              "    .dataframe tbody tr th:only-of-type {\n",
              "        vertical-align: middle;\n",
              "    }\n",
              "\n",
              "    .dataframe tbody tr th {\n",
              "        vertical-align: top;\n",
              "    }\n",
              "\n",
              "    .dataframe thead th {\n",
              "        text-align: right;\n",
              "    }\n",
              "</style>\n",
              "<table border=\"1\" class=\"dataframe\">\n",
              "  <thead>\n",
              "    <tr style=\"text-align: right;\">\n",
              "      <th></th>\n",
              "      <th>0</th>\n",
              "    </tr>\n",
              "  </thead>\n",
              "  <tbody>\n",
              "    <tr>\n",
              "      <th>Authors</th>\n",
              "      <td>0</td>\n",
              "    </tr>\n",
              "    <tr>\n",
              "      <th>Author full names</th>\n",
              "      <td>0</td>\n",
              "    </tr>\n",
              "    <tr>\n",
              "      <th>Author(s) ID</th>\n",
              "      <td>0</td>\n",
              "    </tr>\n",
              "    <tr>\n",
              "      <th>Title</th>\n",
              "      <td>1</td>\n",
              "    </tr>\n",
              "    <tr>\n",
              "      <th>Year</th>\n",
              "      <td>0</td>\n",
              "    </tr>\n",
              "    <tr>\n",
              "      <th>Source title</th>\n",
              "      <td>0</td>\n",
              "    </tr>\n",
              "    <tr>\n",
              "      <th>Volume</th>\n",
              "      <td>4017</td>\n",
              "    </tr>\n",
              "    <tr>\n",
              "      <th>Issue</th>\n",
              "      <td>12932</td>\n",
              "    </tr>\n",
              "    <tr>\n",
              "      <th>Art. No.</th>\n",
              "      <td>21664</td>\n",
              "    </tr>\n",
              "    <tr>\n",
              "      <th>Page start</th>\n",
              "      <td>8996</td>\n",
              "    </tr>\n",
              "    <tr>\n",
              "      <th>Page end</th>\n",
              "      <td>9760</td>\n",
              "    </tr>\n",
              "    <tr>\n",
              "      <th>Page count</th>\n",
              "      <td>9599</td>\n",
              "    </tr>\n",
              "    <tr>\n",
              "      <th>Cited by</th>\n",
              "      <td>0</td>\n",
              "    </tr>\n",
              "    <tr>\n",
              "      <th>DOI</th>\n",
              "      <td>3653</td>\n",
              "    </tr>\n",
              "    <tr>\n",
              "      <th>Link</th>\n",
              "      <td>0</td>\n",
              "    </tr>\n",
              "    <tr>\n",
              "      <th>Affiliations</th>\n",
              "      <td>16303</td>\n",
              "    </tr>\n",
              "    <tr>\n",
              "      <th>Authors with affiliations</th>\n",
              "      <td>16303</td>\n",
              "    </tr>\n",
              "    <tr>\n",
              "      <th>Abstract</th>\n",
              "      <td>16303</td>\n",
              "    </tr>\n",
              "    <tr>\n",
              "      <th>Author Keywords</th>\n",
              "      <td>18296</td>\n",
              "    </tr>\n",
              "    <tr>\n",
              "      <th>Index Keywords</th>\n",
              "      <td>22132</td>\n",
              "    </tr>\n",
              "    <tr>\n",
              "      <th>Molecular Sequence Numbers</th>\n",
              "      <td>31074</td>\n",
              "    </tr>\n",
              "    <tr>\n",
              "      <th>Chemicals/CAS</th>\n",
              "      <td>29330</td>\n",
              "    </tr>\n",
              "    <tr>\n",
              "      <th>Tradenames</th>\n",
              "      <td>30915</td>\n",
              "    </tr>\n",
              "    <tr>\n",
              "      <th>Manufacturers</th>\n",
              "      <td>30999</td>\n",
              "    </tr>\n",
              "    <tr>\n",
              "      <th>Funding Details</th>\n",
              "      <td>27345</td>\n",
              "    </tr>\n",
              "    <tr>\n",
              "      <th>Funding Texts</th>\n",
              "      <td>27389</td>\n",
              "    </tr>\n",
              "    <tr>\n",
              "      <th>References</th>\n",
              "      <td>16617</td>\n",
              "    </tr>\n",
              "    <tr>\n",
              "      <th>Correspondence Address</th>\n",
              "      <td>18834</td>\n",
              "    </tr>\n",
              "    <tr>\n",
              "      <th>Editors</th>\n",
              "      <td>29619</td>\n",
              "    </tr>\n",
              "    <tr>\n",
              "      <th>Publisher</th>\n",
              "      <td>17530</td>\n",
              "    </tr>\n",
              "    <tr>\n",
              "      <th>Sponsors</th>\n",
              "      <td>30878</td>\n",
              "    </tr>\n",
              "    <tr>\n",
              "      <th>Conference name</th>\n",
              "      <td>28788</td>\n",
              "    </tr>\n",
              "    <tr>\n",
              "      <th>Conference date</th>\n",
              "      <td>28788</td>\n",
              "    </tr>\n",
              "    <tr>\n",
              "      <th>Conference location</th>\n",
              "      <td>28789</td>\n",
              "    </tr>\n",
              "    <tr>\n",
              "      <th>Conference code</th>\n",
              "      <td>28806</td>\n",
              "    </tr>\n",
              "    <tr>\n",
              "      <th>ISSN</th>\n",
              "      <td>17624</td>\n",
              "    </tr>\n",
              "    <tr>\n",
              "      <th>ISBN</th>\n",
              "      <td>28956</td>\n",
              "    </tr>\n",
              "    <tr>\n",
              "      <th>CODEN</th>\n",
              "      <td>27380</td>\n",
              "    </tr>\n",
              "    <tr>\n",
              "      <th>PubMed ID</th>\n",
              "      <td>29135</td>\n",
              "    </tr>\n",
              "    <tr>\n",
              "      <th>Language of Original Document</th>\n",
              "      <td>16303</td>\n",
              "    </tr>\n",
              "    <tr>\n",
              "      <th>Abbreviated Source Title</th>\n",
              "      <td>16304</td>\n",
              "    </tr>\n",
              "    <tr>\n",
              "      <th>Document Type</th>\n",
              "      <td>0</td>\n",
              "    </tr>\n",
              "    <tr>\n",
              "      <th>Publication Stage</th>\n",
              "      <td>0</td>\n",
              "    </tr>\n",
              "    <tr>\n",
              "      <th>Open Access</th>\n",
              "      <td>20098</td>\n",
              "    </tr>\n",
              "    <tr>\n",
              "      <th>Source</th>\n",
              "      <td>0</td>\n",
              "    </tr>\n",
              "    <tr>\n",
              "      <th>EID</th>\n",
              "      <td>0</td>\n",
              "    </tr>\n",
              "  </tbody>\n",
              "</table>\n",
              "</div><br><label><b>dtype:</b> int64</label>"
            ]
          },
          "metadata": {},
          "execution_count": 83
        }
      ]
    },
    {
      "cell_type": "code",
      "source": [
        "dataset.columns"
      ],
      "metadata": {
        "colab": {
          "base_uri": "https://localhost:8080/"
        },
        "id": "IKDc-StqejER",
        "outputId": "c227b024-5503-47c3-bb47-4aa25099817d"
      },
      "execution_count": null,
      "outputs": [
        {
          "output_type": "execute_result",
          "data": {
            "text/plain": [
              "Index(['Authors', 'Author full names', 'Author(s) ID', 'Title', 'Year',\n",
              "       'Source title', 'Volume', 'Issue', 'Art. No.', 'Page start', 'Page end',\n",
              "       'Page count', 'Cited by', 'DOI', 'Link', 'Affiliations',\n",
              "       'Authors with affiliations', 'Abstract', 'Author Keywords',\n",
              "       'Index Keywords', 'Molecular Sequence Numbers', 'Chemicals/CAS',\n",
              "       'Tradenames', 'Manufacturers', 'Funding Details', 'Funding Texts',\n",
              "       'References', 'Correspondence Address', 'Editors', 'Publisher',\n",
              "       'Sponsors', 'Conference name', 'Conference date', 'Conference location',\n",
              "       'Conference code', 'ISSN', 'ISBN', 'CODEN', 'PubMed ID',\n",
              "       'Language of Original Document', 'Abbreviated Source Title',\n",
              "       'Document Type', 'Publication Stage', 'Open Access', 'Source', 'EID'],\n",
              "      dtype='object')"
            ]
          },
          "metadata": {},
          "execution_count": 84
        }
      ]
    },
    {
      "cell_type": "markdown",
      "source": [
        "## **DATA MODELING**"
      ],
      "metadata": {
        "id": "79--WnSkejnM"
      }
    },
    {
      "cell_type": "markdown",
      "source": [
        "#### 1. **Exctract data to create dimension table 'publication'**\n",
        "\n",
        "\n"
      ],
      "metadata": {
        "id": "e9yOfGxEeSxW"
      }
    },
    {
      "cell_type": "code",
      "source": [
        "# Select the columns for the Publication table\n",
        "publication_df = dataset[['EID', 'Title', 'Year', 'Volume', 'Issue', 'Art. No.',\n",
        "                          'Page start', 'Page end', 'Page count', 'Cited by', 'DOI', 'Link',\n",
        "                          'Abstract', 'Index Keywords', 'Molecular Sequence Numbers', 'Chemicals/CAS',\n",
        "                          'Tradenames', 'Manufacturers', 'Funding Details', 'Funding Texts',\n",
        "                          'References', 'Correspondence Address', 'Editors', 'Sponsors',\n",
        "                          'Conference name', 'Conference date', 'Conference location', 'Conference code',\n",
        "                          'ISBN', 'CODEN', 'PubMed ID', 'Language of Original Document',\n",
        "                          'Abbreviated Source Title', 'Document Type', 'Publication Stage',\n",
        "                          'Open Access', 'Source']]\n",
        "\n",
        "# Rename columns to follow consistent naming conventions\n",
        "publication_df.columns = ['publication_id', 'title', 'year', 'volume', 'issue', 'art_no',\n",
        "                          'page_start', 'page_end', 'page_count', 'cited_by', 'doi', 'link',\n",
        "                          'abstract', 'index_keywords', 'molecular_sequence_numbers', 'chemicals_cas',\n",
        "                          'tradenames', 'manufacturers', 'funding_details', 'funding_texts',\n",
        "                          'references', 'correspondence_address', 'editors', 'sponsors',\n",
        "                          'conference_name', 'conference_date', 'conference_location', 'conference_code',\n",
        "                          'isbn', 'coden', 'pubmed_id', 'language_of_original_document',\n",
        "                          'abbreviated_source_title', 'document_type', 'publication_stage',\n",
        "                          'open_access', 'source']\n",
        "\n",
        "# Save the publication table to a CSV file\n",
        "publication_df.to_csv('publication_table.csv', index=False)\n"
      ],
      "metadata": {
        "id": "z_w5mSPRr_yY"
      },
      "execution_count": null,
      "outputs": []
    },
    {
      "cell_type": "markdown",
      "source": [
        "#### **2**. **Exctract data to create dimension table 'source'**"
      ],
      "metadata": {
        "id": "WEQYs1fjkePJ"
      }
    },
    {
      "cell_type": "markdown",
      "source": [
        "Identify the different sources"
      ],
      "metadata": {
        "id": "rHdChm1AlJXy"
      }
    },
    {
      "cell_type": "code",
      "source": [
        "# Get unique source titles\n",
        "unique_source_titles = dataset['Source title'].unique()\n",
        "\n",
        "# Display the unique source titles\n",
        "print(unique_source_titles)\n",
        "print(len(unique_source_titles))"
      ],
      "metadata": {
        "colab": {
          "base_uri": "https://localhost:8080/"
        },
        "id": "WylzllGJlPhF",
        "outputId": "df6ec9ff-5efb-45ea-c785-1cbee413d3ac"
      },
      "execution_count": null,
      "outputs": [
        {
          "output_type": "stream",
          "name": "stdout",
          "text": [
            "['Frontiers in Microbiology' 'International Journal of Climatology'\n",
            " 'Solid State Communications' ... 'Laser and Photonics Reviews'\n",
            " 'European Journal of Soil Biology' 'Laterality']\n",
            "6695\n"
          ]
        }
      ]
    },
    {
      "cell_type": "code",
      "source": [
        "# Count occurrences of each unique source title\n",
        "source_title_counts = dataset['Source title'].value_counts()\n",
        "\n",
        "# Display the counts\n",
        "print(source_title_counts)\n"
      ],
      "metadata": {
        "colab": {
          "base_uri": "https://localhost:8080/"
        },
        "id": "Szdws8Relskc",
        "outputId": "1f99e029-445a-44b1-fb02-39cb235ec966"
      },
      "execution_count": null,
      "outputs": [
        {
          "output_type": "stream",
          "name": "stdout",
          "text": [
            "Source title\n",
            "Pan African Medical Journal                                                                1421\n",
            "Journal of Materials and Environmental Science                                              723\n",
            "Lecture Notes in Networks and Systems                                                       357\n",
            "Lecture Notes in Electrical Engineering                                                     270\n",
            "Journal of Theoretical and Applied Information Technology                                   259\n",
            "                                                                                           ... \n",
            "Advances in Experimental Medicine and Biology                                                 1\n",
            "Synthese Library                                                                              1\n",
            "2022 9th International Conference on Electrical and Electronics Engineering, ICEEE 2022       1\n",
            "IEEE Transactions on Instrumentation and Measurement                                          1\n",
            "Laterality                                                                                    1\n",
            "Name: count, Length: 6695, dtype: int64\n"
          ]
        }
      ]
    },
    {
      "cell_type": "code",
      "source": [
        "# Get unique ISSN\n",
        "unique_source_titles = dataset['ISSN'].unique()\n",
        "\n",
        "# Display the unique ISSN\n",
        "print(unique_source_titles)\n",
        "print(len(unique_source_titles))"
      ],
      "metadata": {
        "colab": {
          "base_uri": "https://localhost:8080/"
        },
        "id": "KRcff18_mEXV",
        "outputId": "cd491b30-c926-48b0-a3b5-166b3c3275ee"
      },
      "execution_count": null,
      "outputs": [
        {
          "output_type": "stream",
          "name": "stdout",
          "text": [
            "['1664302X' '08998418' '00381098' ... '15730530' '10970142' '13841076']\n",
            "4066\n"
          ]
        }
      ]
    },
    {
      "cell_type": "code",
      "source": [
        "# Get unique Publisher\n",
        "unique_source_titles = dataset['Publisher'].unique()\n",
        "\n",
        "# Display the unique Publisher\n",
        "print(unique_source_titles)\n",
        "print(len(unique_source_titles))"
      ],
      "metadata": {
        "colab": {
          "base_uri": "https://localhost:8080/"
        },
        "id": "IT_1vykVmPNq",
        "outputId": "60bf2145-5888-4c7a-8fb4-abbe51f7e812"
      },
      "execution_count": null,
      "outputs": [
        {
          "output_type": "stream",
          "name": "stdout",
          "text": [
            "['Frontiers Media S.A.' 'John Wiley and Sons Ltd' 'Elsevier Ltd' ...\n",
            " 'Springer Wien' 'Churchill Livingstone Inc.'\n",
            " 'Botanical Society of America Inc.']\n",
            "1088\n"
          ]
        }
      ]
    },
    {
      "cell_type": "code",
      "source": [
        "# Extract Source columns\n",
        "source_df = dataset[['Source title', 'Publisher', 'ISSN']].drop_duplicates().reset_index(drop=True)\n",
        "\n",
        "# Assign a unique ID to each source\n",
        "source_df['source_id'] = range(1, len(source_df) + 1)\n",
        "\n",
        "# Rename columns for consistency\n",
        "source_df.columns = ['source_title', 'publisher', 'issn', 'source_id']\n",
        "\n",
        "# Save the source table to a CSV file\n",
        "source_df.to_csv('source_table.csv', index=False)\n"
      ],
      "metadata": {
        "id": "zuBvt9VnklEP"
      },
      "execution_count": null,
      "outputs": []
    },
    {
      "cell_type": "markdown",
      "source": [
        "#### 3. **Exctract data to create dimension table 'author'**\n"
      ],
      "metadata": {
        "id": "qFeeJ9Vbrict"
      }
    },
    {
      "cell_type": "markdown",
      "source": [
        "Examine the **Author full names** column"
      ],
      "metadata": {
        "id": "RgOzJ_S-yXVJ"
      }
    },
    {
      "cell_type": "code",
      "source": [
        "dataset['Author full names'][0]"
      ],
      "metadata": {
        "colab": {
          "base_uri": "https://localhost:8080/",
          "height": 52
        },
        "id": "t5SWdmgLrji3",
        "outputId": "3b87f1b4-378d-4a0b-cd9d-8b2aba3c5151"
      },
      "execution_count": null,
      "outputs": [
        {
          "output_type": "execute_result",
          "data": {
            "text/plain": [
              "'Mghazli, Najoua (57194021105); Bruneel, Odile (6506229203); Zouagui, Rahma (57226548652); Hakkou, Rachid (24329115800); Sbabou, Laila (35744137500)'"
            ],
            "application/vnd.google.colaboratory.intrinsic+json": {
              "type": "string"
            }
          },
          "metadata": {},
          "execution_count": 11
        }
      ]
    },
    {
      "cell_type": "code",
      "source": [
        "dataset['Author full names'][1]"
      ],
      "metadata": {
        "colab": {
          "base_uri": "https://localhost:8080/",
          "height": 52
        },
        "id": "PrUje15_w9IE",
        "outputId": "64044f06-0129-4915-b677-7086f158377f"
      },
      "execution_count": null,
      "outputs": [
        {
          "output_type": "execute_result",
          "data": {
            "text/plain": [
              "'Khouakhi, Abdou (25959184500); Driouech, Fatima (24464321700); Slater, Louise (14030760900); Waine, Toby (6506621501); Chafki, Omar (57226872744); Chehbouni, Abdelghani (7006296776); Raji, Otmane (55023725100)'"
            ],
            "application/vnd.google.colaboratory.intrinsic+json": {
              "type": "string"
            }
          },
          "metadata": {},
          "execution_count": 12
        }
      ]
    },
    {
      "cell_type": "markdown",
      "source": [
        "We need to extract the author names along with their IDs from the Author full names column and populate the author dimension table\n",
        "for that we need exctracting information from 'Author full names' as author name and author ID."
      ],
      "metadata": {
        "id": "yS3fKjtKx9c3"
      }
    },
    {
      "cell_type": "code",
      "source": [
        "# Create an empty list to hold author data\n",
        "author_data = []\n",
        "\n",
        "# Iterate through each row in the dataset to extract authors\n",
        "for index, row in dataset.iterrows():\n",
        "    authors_string = row['Author full names']\n",
        "\n",
        "    # Split the authors by '; ' to get individual author entries\n",
        "    authors = authors_string.split('; ')\n",
        "\n",
        "    for author in authors:\n",
        "        # Split the author name and ID\n",
        "        if '(' in author and ')' in author:\n",
        "            name_id = author.split(' (')\n",
        "            name = name_id[0].strip()  # Get the author's name\n",
        "            author_id = name_id[1].replace(')', '').strip()  # Get the author's ID\n",
        "\n",
        "            # Append to the author data list\n",
        "            author_data.append({\n",
        "                'full_name': name,\n",
        "                'author_id_system': author_id\n",
        "            })\n",
        "\n",
        "# Create a DataFrame from the author data\n",
        "author_df = pd.DataFrame(author_data)\n",
        "\n",
        "# Drop duplicates to ensure each author is unique\n",
        "author_df = author_df.drop_duplicates(subset=['full_name', 'author_id_system']).reset_index(drop=True)\n",
        "\n",
        "# Add a unique author_id as a primary key\n",
        "author_df['author_id'] = author_df.index + 1  # Start IDs from 1\n",
        "\n",
        "# Save the author dimension table to a CSV file\n",
        "author_df.to_csv('author_table.csv', index=False)\n",
        "\n",
        "print(\"Author table created and saved as author_table.csv.\")\n"
      ],
      "metadata": {
        "colab": {
          "base_uri": "https://localhost:8080/"
        },
        "id": "zHQ_SXTvyN7A",
        "outputId": "3aaf50cc-70be-48e1-fd32-a96ac37c6510"
      },
      "execution_count": null,
      "outputs": [
        {
          "output_type": "stream",
          "name": "stdout",
          "text": [
            "Author table created and saved as author_table.csv.\n"
          ]
        }
      ]
    },
    {
      "cell_type": "markdown",
      "source": [
        "This the results"
      ],
      "metadata": {
        "id": "jeXe5LmYzRjx"
      }
    },
    {
      "cell_type": "code",
      "source": [
        "author_df"
      ],
      "metadata": {
        "colab": {
          "base_uri": "https://localhost:8080/",
          "height": 423
        },
        "id": "8PXuZcvfzGgZ",
        "outputId": "70d48f15-5ed0-4107-edbf-f98d47608e3b"
      },
      "execution_count": null,
      "outputs": [
        {
          "output_type": "execute_result",
          "data": {
            "text/plain": [
              "                       full_name author_id_system  author_id\n",
              "0                Mghazli, Najoua      57194021105          1\n",
              "1                 Bruneel, Odile       6506229203          2\n",
              "2                 Zouagui, Rahma      57226548652          3\n",
              "3                 Hakkou, Rachid      24329115800          4\n",
              "4                  Sbabou, Laila      35744137500          5\n",
              "...                          ...              ...        ...\n",
              "102706             Kabanda, M.M.      15834833000     102707\n",
              "102707          Picard, Delphine      55749293600     102708\n",
              "102708       Zarhbouch, Benaissa      35281362700     102709\n",
              "102709          Lamrini, Bouchra      12038918500     102710\n",
              "102710  Le Lann, Marie Véronique       6701598270     102711\n",
              "\n",
              "[102711 rows x 3 columns]"
            ],
            "text/html": [
              "\n",
              "  <div id=\"df-ca1e3b1d-5bd9-4998-8083-37a7cbc9b0e9\" class=\"colab-df-container\">\n",
              "    <div>\n",
              "<style scoped>\n",
              "    .dataframe tbody tr th:only-of-type {\n",
              "        vertical-align: middle;\n",
              "    }\n",
              "\n",
              "    .dataframe tbody tr th {\n",
              "        vertical-align: top;\n",
              "    }\n",
              "\n",
              "    .dataframe thead th {\n",
              "        text-align: right;\n",
              "    }\n",
              "</style>\n",
              "<table border=\"1\" class=\"dataframe\">\n",
              "  <thead>\n",
              "    <tr style=\"text-align: right;\">\n",
              "      <th></th>\n",
              "      <th>full_name</th>\n",
              "      <th>author_id_system</th>\n",
              "      <th>author_id</th>\n",
              "    </tr>\n",
              "  </thead>\n",
              "  <tbody>\n",
              "    <tr>\n",
              "      <th>0</th>\n",
              "      <td>Mghazli, Najoua</td>\n",
              "      <td>57194021105</td>\n",
              "      <td>1</td>\n",
              "    </tr>\n",
              "    <tr>\n",
              "      <th>1</th>\n",
              "      <td>Bruneel, Odile</td>\n",
              "      <td>6506229203</td>\n",
              "      <td>2</td>\n",
              "    </tr>\n",
              "    <tr>\n",
              "      <th>2</th>\n",
              "      <td>Zouagui, Rahma</td>\n",
              "      <td>57226548652</td>\n",
              "      <td>3</td>\n",
              "    </tr>\n",
              "    <tr>\n",
              "      <th>3</th>\n",
              "      <td>Hakkou, Rachid</td>\n",
              "      <td>24329115800</td>\n",
              "      <td>4</td>\n",
              "    </tr>\n",
              "    <tr>\n",
              "      <th>4</th>\n",
              "      <td>Sbabou, Laila</td>\n",
              "      <td>35744137500</td>\n",
              "      <td>5</td>\n",
              "    </tr>\n",
              "    <tr>\n",
              "      <th>...</th>\n",
              "      <td>...</td>\n",
              "      <td>...</td>\n",
              "      <td>...</td>\n",
              "    </tr>\n",
              "    <tr>\n",
              "      <th>102706</th>\n",
              "      <td>Kabanda, M.M.</td>\n",
              "      <td>15834833000</td>\n",
              "      <td>102707</td>\n",
              "    </tr>\n",
              "    <tr>\n",
              "      <th>102707</th>\n",
              "      <td>Picard, Delphine</td>\n",
              "      <td>55749293600</td>\n",
              "      <td>102708</td>\n",
              "    </tr>\n",
              "    <tr>\n",
              "      <th>102708</th>\n",
              "      <td>Zarhbouch, Benaissa</td>\n",
              "      <td>35281362700</td>\n",
              "      <td>102709</td>\n",
              "    </tr>\n",
              "    <tr>\n",
              "      <th>102709</th>\n",
              "      <td>Lamrini, Bouchra</td>\n",
              "      <td>12038918500</td>\n",
              "      <td>102710</td>\n",
              "    </tr>\n",
              "    <tr>\n",
              "      <th>102710</th>\n",
              "      <td>Le Lann, Marie Véronique</td>\n",
              "      <td>6701598270</td>\n",
              "      <td>102711</td>\n",
              "    </tr>\n",
              "  </tbody>\n",
              "</table>\n",
              "<p>102711 rows × 3 columns</p>\n",
              "</div>\n",
              "    <div class=\"colab-df-buttons\">\n",
              "\n",
              "  <div class=\"colab-df-container\">\n",
              "    <button class=\"colab-df-convert\" onclick=\"convertToInteractive('df-ca1e3b1d-5bd9-4998-8083-37a7cbc9b0e9')\"\n",
              "            title=\"Convert this dataframe to an interactive table.\"\n",
              "            style=\"display:none;\">\n",
              "\n",
              "  <svg xmlns=\"http://www.w3.org/2000/svg\" height=\"24px\" viewBox=\"0 -960 960 960\">\n",
              "    <path d=\"M120-120v-720h720v720H120Zm60-500h600v-160H180v160Zm220 220h160v-160H400v160Zm0 220h160v-160H400v160ZM180-400h160v-160H180v160Zm440 0h160v-160H620v160ZM180-180h160v-160H180v160Zm440 0h160v-160H620v160Z\"/>\n",
              "  </svg>\n",
              "    </button>\n",
              "\n",
              "  <style>\n",
              "    .colab-df-container {\n",
              "      display:flex;\n",
              "      gap: 12px;\n",
              "    }\n",
              "\n",
              "    .colab-df-convert {\n",
              "      background-color: #E8F0FE;\n",
              "      border: none;\n",
              "      border-radius: 50%;\n",
              "      cursor: pointer;\n",
              "      display: none;\n",
              "      fill: #1967D2;\n",
              "      height: 32px;\n",
              "      padding: 0 0 0 0;\n",
              "      width: 32px;\n",
              "    }\n",
              "\n",
              "    .colab-df-convert:hover {\n",
              "      background-color: #E2EBFA;\n",
              "      box-shadow: 0px 1px 2px rgba(60, 64, 67, 0.3), 0px 1px 3px 1px rgba(60, 64, 67, 0.15);\n",
              "      fill: #174EA6;\n",
              "    }\n",
              "\n",
              "    .colab-df-buttons div {\n",
              "      margin-bottom: 4px;\n",
              "    }\n",
              "\n",
              "    [theme=dark] .colab-df-convert {\n",
              "      background-color: #3B4455;\n",
              "      fill: #D2E3FC;\n",
              "    }\n",
              "\n",
              "    [theme=dark] .colab-df-convert:hover {\n",
              "      background-color: #434B5C;\n",
              "      box-shadow: 0px 1px 3px 1px rgba(0, 0, 0, 0.15);\n",
              "      filter: drop-shadow(0px 1px 2px rgba(0, 0, 0, 0.3));\n",
              "      fill: #FFFFFF;\n",
              "    }\n",
              "  </style>\n",
              "\n",
              "    <script>\n",
              "      const buttonEl =\n",
              "        document.querySelector('#df-ca1e3b1d-5bd9-4998-8083-37a7cbc9b0e9 button.colab-df-convert');\n",
              "      buttonEl.style.display =\n",
              "        google.colab.kernel.accessAllowed ? 'block' : 'none';\n",
              "\n",
              "      async function convertToInteractive(key) {\n",
              "        const element = document.querySelector('#df-ca1e3b1d-5bd9-4998-8083-37a7cbc9b0e9');\n",
              "        const dataTable =\n",
              "          await google.colab.kernel.invokeFunction('convertToInteractive',\n",
              "                                                    [key], {});\n",
              "        if (!dataTable) return;\n",
              "\n",
              "        const docLinkHtml = 'Like what you see? Visit the ' +\n",
              "          '<a target=\"_blank\" href=https://colab.research.google.com/notebooks/data_table.ipynb>data table notebook</a>'\n",
              "          + ' to learn more about interactive tables.';\n",
              "        element.innerHTML = '';\n",
              "        dataTable['output_type'] = 'display_data';\n",
              "        await google.colab.output.renderOutput(dataTable, element);\n",
              "        const docLink = document.createElement('div');\n",
              "        docLink.innerHTML = docLinkHtml;\n",
              "        element.appendChild(docLink);\n",
              "      }\n",
              "    </script>\n",
              "  </div>\n",
              "\n",
              "\n",
              "<div id=\"df-495958dd-fe32-4156-9cb8-7531adb395a0\">\n",
              "  <button class=\"colab-df-quickchart\" onclick=\"quickchart('df-495958dd-fe32-4156-9cb8-7531adb395a0')\"\n",
              "            title=\"Suggest charts\"\n",
              "            style=\"display:none;\">\n",
              "\n",
              "<svg xmlns=\"http://www.w3.org/2000/svg\" height=\"24px\"viewBox=\"0 0 24 24\"\n",
              "     width=\"24px\">\n",
              "    <g>\n",
              "        <path d=\"M19 3H5c-1.1 0-2 .9-2 2v14c0 1.1.9 2 2 2h14c1.1 0 2-.9 2-2V5c0-1.1-.9-2-2-2zM9 17H7v-7h2v7zm4 0h-2V7h2v10zm4 0h-2v-4h2v4z\"/>\n",
              "    </g>\n",
              "</svg>\n",
              "  </button>\n",
              "\n",
              "<style>\n",
              "  .colab-df-quickchart {\n",
              "      --bg-color: #E8F0FE;\n",
              "      --fill-color: #1967D2;\n",
              "      --hover-bg-color: #E2EBFA;\n",
              "      --hover-fill-color: #174EA6;\n",
              "      --disabled-fill-color: #AAA;\n",
              "      --disabled-bg-color: #DDD;\n",
              "  }\n",
              "\n",
              "  [theme=dark] .colab-df-quickchart {\n",
              "      --bg-color: #3B4455;\n",
              "      --fill-color: #D2E3FC;\n",
              "      --hover-bg-color: #434B5C;\n",
              "      --hover-fill-color: #FFFFFF;\n",
              "      --disabled-bg-color: #3B4455;\n",
              "      --disabled-fill-color: #666;\n",
              "  }\n",
              "\n",
              "  .colab-df-quickchart {\n",
              "    background-color: var(--bg-color);\n",
              "    border: none;\n",
              "    border-radius: 50%;\n",
              "    cursor: pointer;\n",
              "    display: none;\n",
              "    fill: var(--fill-color);\n",
              "    height: 32px;\n",
              "    padding: 0;\n",
              "    width: 32px;\n",
              "  }\n",
              "\n",
              "  .colab-df-quickchart:hover {\n",
              "    background-color: var(--hover-bg-color);\n",
              "    box-shadow: 0 1px 2px rgba(60, 64, 67, 0.3), 0 1px 3px 1px rgba(60, 64, 67, 0.15);\n",
              "    fill: var(--button-hover-fill-color);\n",
              "  }\n",
              "\n",
              "  .colab-df-quickchart-complete:disabled,\n",
              "  .colab-df-quickchart-complete:disabled:hover {\n",
              "    background-color: var(--disabled-bg-color);\n",
              "    fill: var(--disabled-fill-color);\n",
              "    box-shadow: none;\n",
              "  }\n",
              "\n",
              "  .colab-df-spinner {\n",
              "    border: 2px solid var(--fill-color);\n",
              "    border-color: transparent;\n",
              "    border-bottom-color: var(--fill-color);\n",
              "    animation:\n",
              "      spin 1s steps(1) infinite;\n",
              "  }\n",
              "\n",
              "  @keyframes spin {\n",
              "    0% {\n",
              "      border-color: transparent;\n",
              "      border-bottom-color: var(--fill-color);\n",
              "      border-left-color: var(--fill-color);\n",
              "    }\n",
              "    20% {\n",
              "      border-color: transparent;\n",
              "      border-left-color: var(--fill-color);\n",
              "      border-top-color: var(--fill-color);\n",
              "    }\n",
              "    30% {\n",
              "      border-color: transparent;\n",
              "      border-left-color: var(--fill-color);\n",
              "      border-top-color: var(--fill-color);\n",
              "      border-right-color: var(--fill-color);\n",
              "    }\n",
              "    40% {\n",
              "      border-color: transparent;\n",
              "      border-right-color: var(--fill-color);\n",
              "      border-top-color: var(--fill-color);\n",
              "    }\n",
              "    60% {\n",
              "      border-color: transparent;\n",
              "      border-right-color: var(--fill-color);\n",
              "    }\n",
              "    80% {\n",
              "      border-color: transparent;\n",
              "      border-right-color: var(--fill-color);\n",
              "      border-bottom-color: var(--fill-color);\n",
              "    }\n",
              "    90% {\n",
              "      border-color: transparent;\n",
              "      border-bottom-color: var(--fill-color);\n",
              "    }\n",
              "  }\n",
              "</style>\n",
              "\n",
              "  <script>\n",
              "    async function quickchart(key) {\n",
              "      const quickchartButtonEl =\n",
              "        document.querySelector('#' + key + ' button');\n",
              "      quickchartButtonEl.disabled = true;  // To prevent multiple clicks.\n",
              "      quickchartButtonEl.classList.add('colab-df-spinner');\n",
              "      try {\n",
              "        const charts = await google.colab.kernel.invokeFunction(\n",
              "            'suggestCharts', [key], {});\n",
              "      } catch (error) {\n",
              "        console.error('Error during call to suggestCharts:', error);\n",
              "      }\n",
              "      quickchartButtonEl.classList.remove('colab-df-spinner');\n",
              "      quickchartButtonEl.classList.add('colab-df-quickchart-complete');\n",
              "    }\n",
              "    (() => {\n",
              "      let quickchartButtonEl =\n",
              "        document.querySelector('#df-495958dd-fe32-4156-9cb8-7531adb395a0 button');\n",
              "      quickchartButtonEl.style.display =\n",
              "        google.colab.kernel.accessAllowed ? 'block' : 'none';\n",
              "    })();\n",
              "  </script>\n",
              "</div>\n",
              "\n",
              "  <div id=\"id_212ed0a4-b4e2-460b-854c-8e2ebbdc48d8\">\n",
              "    <style>\n",
              "      .colab-df-generate {\n",
              "        background-color: #E8F0FE;\n",
              "        border: none;\n",
              "        border-radius: 50%;\n",
              "        cursor: pointer;\n",
              "        display: none;\n",
              "        fill: #1967D2;\n",
              "        height: 32px;\n",
              "        padding: 0 0 0 0;\n",
              "        width: 32px;\n",
              "      }\n",
              "\n",
              "      .colab-df-generate:hover {\n",
              "        background-color: #E2EBFA;\n",
              "        box-shadow: 0px 1px 2px rgba(60, 64, 67, 0.3), 0px 1px 3px 1px rgba(60, 64, 67, 0.15);\n",
              "        fill: #174EA6;\n",
              "      }\n",
              "\n",
              "      [theme=dark] .colab-df-generate {\n",
              "        background-color: #3B4455;\n",
              "        fill: #D2E3FC;\n",
              "      }\n",
              "\n",
              "      [theme=dark] .colab-df-generate:hover {\n",
              "        background-color: #434B5C;\n",
              "        box-shadow: 0px 1px 3px 1px rgba(0, 0, 0, 0.15);\n",
              "        filter: drop-shadow(0px 1px 2px rgba(0, 0, 0, 0.3));\n",
              "        fill: #FFFFFF;\n",
              "      }\n",
              "    </style>\n",
              "    <button class=\"colab-df-generate\" onclick=\"generateWithVariable('author_df')\"\n",
              "            title=\"Generate code using this dataframe.\"\n",
              "            style=\"display:none;\">\n",
              "\n",
              "  <svg xmlns=\"http://www.w3.org/2000/svg\" height=\"24px\"viewBox=\"0 0 24 24\"\n",
              "       width=\"24px\">\n",
              "    <path d=\"M7,19H8.4L18.45,9,17,7.55,7,17.6ZM5,21V16.75L18.45,3.32a2,2,0,0,1,2.83,0l1.4,1.43a1.91,1.91,0,0,1,.58,1.4,1.91,1.91,0,0,1-.58,1.4L9.25,21ZM18.45,9,17,7.55Zm-12,3A5.31,5.31,0,0,0,4.9,8.1,5.31,5.31,0,0,0,1,6.5,5.31,5.31,0,0,0,4.9,4.9,5.31,5.31,0,0,0,6.5,1,5.31,5.31,0,0,0,8.1,4.9,5.31,5.31,0,0,0,12,6.5,5.46,5.46,0,0,0,6.5,12Z\"/>\n",
              "  </svg>\n",
              "    </button>\n",
              "    <script>\n",
              "      (() => {\n",
              "      const buttonEl =\n",
              "        document.querySelector('#id_212ed0a4-b4e2-460b-854c-8e2ebbdc48d8 button.colab-df-generate');\n",
              "      buttonEl.style.display =\n",
              "        google.colab.kernel.accessAllowed ? 'block' : 'none';\n",
              "\n",
              "      buttonEl.onclick = () => {\n",
              "        google.colab.notebook.generateWithVariable('author_df');\n",
              "      }\n",
              "      })();\n",
              "    </script>\n",
              "  </div>\n",
              "\n",
              "    </div>\n",
              "  </div>\n"
            ],
            "application/vnd.google.colaboratory.intrinsic+json": {
              "type": "dataframe",
              "variable_name": "author_df"
            }
          },
          "metadata": {},
          "execution_count": 94
        }
      ]
    },
    {
      "cell_type": "code",
      "source": [
        "author_df.isna().sum()"
      ],
      "metadata": {
        "colab": {
          "base_uri": "https://localhost:8080/",
          "height": 178
        },
        "id": "0jvtpdaN4Vfi",
        "outputId": "fa273fcf-2ff1-437c-b2e5-d7406b417165"
      },
      "execution_count": null,
      "outputs": [
        {
          "output_type": "execute_result",
          "data": {
            "text/plain": [
              "full_name           0\n",
              "author_id_system    0\n",
              "author_id           0\n",
              "dtype: int64"
            ],
            "text/html": [
              "<div>\n",
              "<style scoped>\n",
              "    .dataframe tbody tr th:only-of-type {\n",
              "        vertical-align: middle;\n",
              "    }\n",
              "\n",
              "    .dataframe tbody tr th {\n",
              "        vertical-align: top;\n",
              "    }\n",
              "\n",
              "    .dataframe thead th {\n",
              "        text-align: right;\n",
              "    }\n",
              "</style>\n",
              "<table border=\"1\" class=\"dataframe\">\n",
              "  <thead>\n",
              "    <tr style=\"text-align: right;\">\n",
              "      <th></th>\n",
              "      <th>0</th>\n",
              "    </tr>\n",
              "  </thead>\n",
              "  <tbody>\n",
              "    <tr>\n",
              "      <th>full_name</th>\n",
              "      <td>0</td>\n",
              "    </tr>\n",
              "    <tr>\n",
              "      <th>author_id_system</th>\n",
              "      <td>0</td>\n",
              "    </tr>\n",
              "    <tr>\n",
              "      <th>author_id</th>\n",
              "      <td>0</td>\n",
              "    </tr>\n",
              "  </tbody>\n",
              "</table>\n",
              "</div><br><label><b>dtype:</b> int64</label>"
            ]
          },
          "metadata": {},
          "execution_count": 95
        }
      ]
    },
    {
      "cell_type": "markdown",
      "source": [
        "we need know if the author id is unique or not"
      ],
      "metadata": {
        "id": "TQmC-V7jzUav"
      }
    },
    {
      "cell_type": "code",
      "source": [
        "author_df['author_id_system'].duplicated().any()"
      ],
      "metadata": {
        "colab": {
          "base_uri": "https://localhost:8080/"
        },
        "id": "hNzT5G3FzQax",
        "outputId": "7366199a-d09d-4ae6-a139-0eaaa4a0cd4f"
      },
      "execution_count": null,
      "outputs": [
        {
          "output_type": "execute_result",
          "data": {
            "text/plain": [
              "True"
            ]
          },
          "metadata": {},
          "execution_count": 96
        }
      ]
    },
    {
      "cell_type": "code",
      "source": [
        "author_df['full_name'].duplicated().any()"
      ],
      "metadata": {
        "colab": {
          "base_uri": "https://localhost:8080/"
        },
        "id": "25yJgxQFz32F",
        "outputId": "a6343040-8b15-4fc1-c5a9-093b3a2f7380"
      },
      "execution_count": null,
      "outputs": [
        {
          "output_type": "execute_result",
          "data": {
            "text/plain": [
              "True"
            ]
          },
          "metadata": {},
          "execution_count": 97
        }
      ]
    },
    {
      "cell_type": "markdown",
      "source": [
        "We can clearly see that the both columns contain duplicate values"
      ],
      "metadata": {
        "id": "231EznUZ3yT7"
      }
    },
    {
      "cell_type": "code",
      "source": [
        "# Create a function to get duplicates for each column\n",
        "def get_duplicates(df):\n",
        "    duplicates_dict = {}\n",
        "    for column in df.columns:\n",
        "        # Find duplicated values in the column\n",
        "        duplicated_values = df[df[column].duplicated()][column].unique()\n",
        "        if len(duplicated_values) > 0:\n",
        "            duplicates_dict[column] = duplicated_values.tolist()\n",
        "    return duplicates_dict\n",
        "\n",
        "# Get duplicates in the author_df DataFrame\n",
        "duplicates = get_duplicates(author_df)\n",
        "\n",
        "# Convert the duplicates dictionary to a DataFrame for easier visualization\n",
        "duplicates_df = pd.DataFrame(dict([(k, pd.Series(v)) for k, v in duplicates.items()]))\n",
        "print(duplicates_df)\n"
      ],
      "metadata": {
        "id": "aWEX0M8A0Cwi",
        "colab": {
          "base_uri": "https://localhost:8080/"
        },
        "outputId": "eb658510-f6ee-4b22-ca26-a17b1e9c94c7"
      },
      "execution_count": null,
      "outputs": [
        {
          "output_type": "stream",
          "name": "stdout",
          "text": [
            "            full_name author_id_system\n",
            "0       Kumar, Naveen       8230280600\n",
            "1         Naamane, S.       7003544702\n",
            "2          Mounir, H.      55867997200\n",
            "3           Taibi, M.       6602649274\n",
            "4      Zarrouk, Tarik      56275916700\n",
            "...               ...              ...\n",
            "13930             NaN      35073500200\n",
            "13931             NaN      57193916806\n",
            "13932             NaN      55622126400\n",
            "13933             NaN      55174411100\n",
            "13934             NaN      55935912100\n",
            "\n",
            "[13935 rows x 2 columns]\n"
          ]
        }
      ]
    },
    {
      "cell_type": "code",
      "source": [
        "duplicates_df.isna().sum()"
      ],
      "metadata": {
        "colab": {
          "base_uri": "https://localhost:8080/",
          "height": 146
        },
        "id": "Yhps1rR98vgY",
        "outputId": "d6443735-8e2f-4ca6-b0a9-febd9c1c2366"
      },
      "execution_count": null,
      "outputs": [
        {
          "output_type": "execute_result",
          "data": {
            "text/plain": [
              "full_name           11956\n",
              "author_id_system        0\n",
              "dtype: int64"
            ],
            "text/html": [
              "<div>\n",
              "<style scoped>\n",
              "    .dataframe tbody tr th:only-of-type {\n",
              "        vertical-align: middle;\n",
              "    }\n",
              "\n",
              "    .dataframe tbody tr th {\n",
              "        vertical-align: top;\n",
              "    }\n",
              "\n",
              "    .dataframe thead th {\n",
              "        text-align: right;\n",
              "    }\n",
              "</style>\n",
              "<table border=\"1\" class=\"dataframe\">\n",
              "  <thead>\n",
              "    <tr style=\"text-align: right;\">\n",
              "      <th></th>\n",
              "      <th>0</th>\n",
              "    </tr>\n",
              "  </thead>\n",
              "  <tbody>\n",
              "    <tr>\n",
              "      <th>full_name</th>\n",
              "      <td>11956</td>\n",
              "    </tr>\n",
              "    <tr>\n",
              "      <th>author_id_system</th>\n",
              "      <td>0</td>\n",
              "    </tr>\n",
              "  </tbody>\n",
              "</table>\n",
              "</div><br><label><b>dtype:</b> int64</label>"
            ]
          },
          "metadata": {},
          "execution_count": 99
        }
      ]
    },
    {
      "cell_type": "markdown",
      "source": [
        " The presence of duplicate values in the columns author dimension table  may produce beacuse  there are multiple **Authors per Publication**,\n",
        "means each publication can have multiple authors.\n",
        "\n",
        "If the same author contributes to different publications or is listed multiple times for the same publication, their names will appear as duplicates in the author table.\n",
        "\n",
        "Or for example some authors have multiple IDs because they belong to diffrent universities or department"
      ],
      "metadata": {
        "id": "hh5WWGyf-Qnd"
      }
    },
    {
      "cell_type": "markdown",
      "source": [
        "#### 4. **Exctract data to create dimension table 'Affiliation'**\n"
      ],
      "metadata": {
        "id": "dcx3LmxSAPvz"
      }
    },
    {
      "cell_type": "markdown",
      "source": [
        "At this stage we want to exctract information about affiliations and create the affiliation dimention table"
      ],
      "metadata": {
        "id": "JNTSMGmuA8jz"
      }
    },
    {
      "cell_type": "code",
      "source": [
        "dataset[['Affiliations',\t'Authors with affiliations'\t]].isna().sum()"
      ],
      "metadata": {
        "colab": {
          "base_uri": "https://localhost:8080/",
          "height": 146
        },
        "id": "_9FoTOItBc6B",
        "outputId": "be9dba13-22e4-4a10-d3f3-19fcd7c4709a"
      },
      "execution_count": null,
      "outputs": [
        {
          "output_type": "execute_result",
          "data": {
            "text/plain": [
              "Affiliations                 16303\n",
              "Authors with affiliations    16303\n",
              "dtype: int64"
            ],
            "text/html": [
              "<div>\n",
              "<style scoped>\n",
              "    .dataframe tbody tr th:only-of-type {\n",
              "        vertical-align: middle;\n",
              "    }\n",
              "\n",
              "    .dataframe tbody tr th {\n",
              "        vertical-align: top;\n",
              "    }\n",
              "\n",
              "    .dataframe thead th {\n",
              "        text-align: right;\n",
              "    }\n",
              "</style>\n",
              "<table border=\"1\" class=\"dataframe\">\n",
              "  <thead>\n",
              "    <tr style=\"text-align: right;\">\n",
              "      <th></th>\n",
              "      <th>0</th>\n",
              "    </tr>\n",
              "  </thead>\n",
              "  <tbody>\n",
              "    <tr>\n",
              "      <th>Affiliations</th>\n",
              "      <td>16303</td>\n",
              "    </tr>\n",
              "    <tr>\n",
              "      <th>Authors with affiliations</th>\n",
              "      <td>16303</td>\n",
              "    </tr>\n",
              "  </tbody>\n",
              "</table>\n",
              "</div><br><label><b>dtype:</b> int64</label>"
            ]
          },
          "metadata": {},
          "execution_count": 102
        }
      ]
    },
    {
      "cell_type": "code",
      "source": [
        "16303/len(dataset)*100\n"
      ],
      "metadata": {
        "colab": {
          "base_uri": "https://localhost:8080/"
        },
        "id": "RQRqIuqd3tbZ",
        "outputId": "dd35a78c-08f8-4e13-b1bf-f665cf9be025"
      },
      "execution_count": null,
      "outputs": [
        {
          "output_type": "execute_result",
          "data": {
            "text/plain": [
              "52.42796501157705"
            ]
          },
          "metadata": {},
          "execution_count": 104
        }
      ]
    },
    {
      "cell_type": "code",
      "source": [
        "dataset['Affiliations'][0]"
      ],
      "metadata": {
        "colab": {
          "base_uri": "https://localhost:8080/",
          "height": 104
        },
        "id": "qaPcJ5mo8492",
        "outputId": "b8d20c49-9076-485b-9bd2-2d250e9ce890"
      },
      "execution_count": null,
      "outputs": [
        {
          "output_type": "execute_result",
          "data": {
            "text/plain": [
              "'Center of Research Plants and Microbial Biotechnologies, Biodiversity and Environment, Team of Microbiology and Molecular Biology, Faculty of Sciences, Mohammed V University in Rabat, Rabat, Morocco; HSM, University of Montpellier, CNRS, IRD, Montpellier, France; Laboratoire des Matériaux Innovants, Energie et Développement Durable (IMED)_Laboratory, Faculty of Science and Technology, Cadi Ayyad University, Marrakesh, Morocco; Geology & Sustainable Mining Institute (GSMI), Mohammed VI Polytechnic University (UM6P), Ben Guerir, Morocco'"
            ],
            "application/vnd.google.colaboratory.intrinsic+json": {
              "type": "string"
            }
          },
          "metadata": {},
          "execution_count": 105
        }
      ]
    },
    {
      "cell_type": "code",
      "source": [
        "dataset['Affiliations'][1]"
      ],
      "metadata": {
        "colab": {
          "base_uri": "https://localhost:8080/",
          "height": 87
        },
        "id": "HOKPoLPgCCRX",
        "outputId": "b8d66de6-c004-4951-98f1-a51d181acb98"
      },
      "execution_count": null,
      "outputs": [
        {
          "output_type": "execute_result",
          "data": {
            "text/plain": [
              "'School of Water, Energy and Environment, Centre for Environmental and Agricultural Informatics, Cranfield University, Cranfield, United Kingdom; Mohammed VI Polytechnic University, Benguerir, Morocco; School of Geography and the Environment, University of Oxford, Oxford, United Kingdom; Direction Générale de la Météorologie, Casablanca, Morocco'"
            ],
            "application/vnd.google.colaboratory.intrinsic+json": {
              "type": "string"
            }
          },
          "metadata": {},
          "execution_count": 106
        }
      ]
    },
    {
      "cell_type": "code",
      "source": [
        "dataset['Affiliations'][3]"
      ],
      "metadata": {
        "colab": {
          "base_uri": "https://localhost:8080/",
          "height": 87
        },
        "id": "-aKgeYnuCHyS",
        "outputId": "8cb3d204-278e-4311-fe83-c3236d613c18"
      },
      "execution_count": null,
      "outputs": [
        {
          "output_type": "execute_result",
          "data": {
            "text/plain": [
              "'LPNAMME, Laser Physics Group, Department of Physics, Faculty of Sciences, Chouaïb Doukkali University, El Jadida, P. B 20, 24000, Morocco; Hassan First University of Settat, École Nationale des Sciences Appliquées, LISA, Berrechid, 26100, Morocco; Department of General Requirements, University of Technology and Applied Sciences, Sur, 411, Oman'"
            ],
            "application/vnd.google.colaboratory.intrinsic+json": {
              "type": "string"
            }
          },
          "metadata": {},
          "execution_count": 107
        }
      ]
    },
    {
      "cell_type": "code",
      "source": [
        "dataset['Affiliations'][5]"
      ],
      "metadata": {
        "colab": {
          "base_uri": "https://localhost:8080/",
          "height": 139
        },
        "id": "jl4IRLRgCJ3R",
        "outputId": "b7cc7cde-9f96-44a9-9e6f-8bdff1929dca"
      },
      "execution_count": null,
      "outputs": [
        {
          "output_type": "execute_result",
          "data": {
            "text/plain": [
              "\"University of Ghana School of Public Health, Ghana; University of Sheffield, United Kingdom; Department of Family and Consumer Sciences, University of Ghana, Ghana; West African Health Organisation, Burkina Faso; African Population and Health Research Center, Kenya; Centre for Food Policy, United Kingdom; Faculty of Science and Technology, Cheikh Anta Diop University of Dakar (UCAD), Senegal; University of Montreal, Canada; International Agency for Research on Cancer (IARC), France; Mohammed VI University of Health Sciences', Faculty of Medicine, Casablanca, Morocco; Montpellier Interdisciplinary centre on Sustainable Agri-food systems, French National Institute of Research for Sustainable Development (IRD), Montpellier, France\""
            ],
            "application/vnd.google.colaboratory.intrinsic+json": {
              "type": "string"
            }
          },
          "metadata": {},
          "execution_count": 115
        }
      ]
    },
    {
      "cell_type": "code",
      "source": [],
      "metadata": {
        "id": "LGCCEHjN6l6Q"
      },
      "execution_count": null,
      "outputs": []
    },
    {
      "cell_type": "code",
      "source": [
        "dataset['Affiliations'][5000]"
      ],
      "metadata": {
        "colab": {
          "base_uri": "https://localhost:8080/",
          "height": 52
        },
        "id": "roRhQsvaCNk-",
        "outputId": "705dd023-c50c-4a2c-f523-5f50d3b0b88e"
      },
      "execution_count": null,
      "outputs": [
        {
          "output_type": "execute_result",
          "data": {
            "text/plain": [
              "'Service de Gynécologie-Obstetrique, Hôpital Militaire d’Instruction Mohammed V, Rabat, Morocco; Faculté de Médecine et de Pharmacie, Rabat, Morocco'"
            ],
            "application/vnd.google.colaboratory.intrinsic+json": {
              "type": "string"
            }
          },
          "metadata": {},
          "execution_count": 116
        }
      ]
    },
    {
      "cell_type": "markdown",
      "source": [
        "I need to know how many affiliations exist in the data"
      ],
      "metadata": {
        "id": "rkASsbsMCbOI"
      }
    },
    {
      "cell_type": "code",
      "source": [
        "affiliations = dataset['Affiliations'].unique()"
      ],
      "metadata": {
        "id": "1aVFbXjICPqX"
      },
      "execution_count": null,
      "outputs": []
    },
    {
      "cell_type": "code",
      "source": [
        "affiliations"
      ],
      "metadata": {
        "colab": {
          "base_uri": "https://localhost:8080/"
        },
        "id": "G0cVndxjCtdv",
        "outputId": "f4f3a4e0-efbc-49c2-d02c-5028eb915126"
      },
      "execution_count": null,
      "outputs": [
        {
          "output_type": "execute_result",
          "data": {
            "text/plain": [
              "array(['Center of Research Plants and Microbial Biotechnologies, Biodiversity and Environment, Team of Microbiology and Molecular Biology, Faculty of Sciences, Mohammed V University in Rabat, Rabat, Morocco; HSM, University of Montpellier, CNRS, IRD, Montpellier, France; Laboratoire des Matériaux Innovants, Energie et Développement Durable (IMED)_Laboratory, Faculty of Science and Technology, Cadi Ayyad University, Marrakesh, Morocco; Geology & Sustainable Mining Institute (GSMI), Mohammed VI Polytechnic University (UM6P), Ben Guerir, Morocco',\n",
              "       'School of Water, Energy and Environment, Centre for Environmental and Agricultural Informatics, Cranfield University, Cranfield, United Kingdom; Mohammed VI Polytechnic University, Benguerir, Morocco; School of Geography and the Environment, University of Oxford, Oxford, United Kingdom; Direction Générale de la Météorologie, Casablanca, Morocco',\n",
              "       'LMPGI, High School of Technology, Hassan II University of Casablanca, Morocco; CEDoc, National High School of Electricity and Mechanics (ENSEM), Hassan II University of Casablanca, Morocco; LPMAT, Faculty of Sciences Ain Chock, Hassan II University of Casablanca, Morocco',\n",
              "       ...,\n",
              "       \"Corrodys, Centre de Corrosion Marine et Biologique, 50120 Equeurdreville - Hainneville, 55 rue Beuzeville, BP 9, France; Laboratoire d'Electrochimie et de Chimie Analytique, Université Cadi Ayyad, Faculté des Sciences Semlalia, Marrakech, BP 2390, Morocco; École Nationale Supérieure d'Ingénieurs, Caen UMR 6507 CNRS, 14050 Caen Cedex, Bd Maréchal Juin, France; Laboratoire d'Environnement, d'Electrochimie et de Réactivité aux interfaces, Faculté des Sciences et Techniques, Errachidia, BP 509 Boutalamine, Morocco\",\n",
              "       'Ecole Supérieure Roi Fahd de Traduction, Tangier, BP 410, Morocco',\n",
              "       nan], dtype=object)"
            ]
          },
          "metadata": {},
          "execution_count": 118
        }
      ]
    },
    {
      "cell_type": "code",
      "source": [
        "len(affiliations)"
      ],
      "metadata": {
        "colab": {
          "base_uri": "https://localhost:8080/"
        },
        "id": "bCzrlu4yCuX0",
        "outputId": "3c3f7ba8-0ac3-4276-e62f-57c86806a463"
      },
      "execution_count": null,
      "outputs": [
        {
          "output_type": "execute_result",
          "data": {
            "text/plain": [
              "14185"
            ]
          },
          "metadata": {},
          "execution_count": 119
        }
      ]
    },
    {
      "cell_type": "code",
      "source": [
        "Authors_affiliations = dataset['Authors with affiliations'].unique()"
      ],
      "metadata": {
        "id": "-kB9jo2CCyhT"
      },
      "execution_count": null,
      "outputs": []
    },
    {
      "cell_type": "code",
      "source": [
        "Authors_affiliations"
      ],
      "metadata": {
        "colab": {
          "base_uri": "https://localhost:8080/"
        },
        "id": "GohLVNVREWKu",
        "outputId": "bbbec052-cc9e-4135-8e4d-b8a3127b2a0c"
      },
      "execution_count": null,
      "outputs": [
        {
          "output_type": "execute_result",
          "data": {
            "text/plain": [
              "array(['Mghazli N., Center of Research Plants and Microbial Biotechnologies, Biodiversity and Environment, Team of Microbiology and Molecular Biology, Faculty of Sciences, Mohammed V University in Rabat, Rabat, Morocco, HSM, University of Montpellier, CNRS, IRD, Montpellier, France; Bruneel O., HSM, University of Montpellier, CNRS, IRD, Montpellier, France; Zouagui R., Center of Research Plants and Microbial Biotechnologies, Biodiversity and Environment, Team of Microbiology and Molecular Biology, Faculty of Sciences, Mohammed V University in Rabat, Rabat, Morocco; Hakkou R., Laboratoire des Matériaux Innovants, Energie et Développement Durable (IMED)_Laboratory, Faculty of Science and Technology, Cadi Ayyad University, Marrakesh, Morocco, Geology & Sustainable Mining Institute (GSMI), Mohammed VI Polytechnic University (UM6P), Ben Guerir, Morocco; Sbabou L., Center of Research Plants and Microbial Biotechnologies, Biodiversity and Environment, Team of Microbiology and Molecular Biology, Faculty of Sciences, Mohammed V University in Rabat, Rabat, Morocco',\n",
              "       'Khouakhi A., School of Water, Energy and Environment, Centre for Environmental and Agricultural Informatics, Cranfield University, Cranfield, United Kingdom; Driouech F., Mohammed VI Polytechnic University, Benguerir, Morocco; Slater L., School of Geography and the Environment, University of Oxford, Oxford, United Kingdom; Waine T., School of Water, Energy and Environment, Centre for Environmental and Agricultural Informatics, Cranfield University, Cranfield, United Kingdom; Chafki O., Direction Générale de la Météorologie, Casablanca, Morocco; Chehbouni A., Mohammed VI Polytechnic University, Benguerir, Morocco; Raji O., Mohammed VI Polytechnic University, Benguerir, Morocco',\n",
              "       'El Oujihi O., LMPGI, High School of Technology, Hassan II University of Casablanca, Morocco, CEDoc, National High School of Electricity and Mechanics (ENSEM), Hassan II University of Casablanca, Morocco; Tizliouine A., LMPGI, High School of Technology, Hassan II University of Casablanca, Morocco; Elouafi A., LPMAT, Faculty of Sciences Ain Chock, Hassan II University of Casablanca, Morocco; Salhi H., LMPGI, High School of Technology, Hassan II University of Casablanca, Morocco; Omari L.H., LPMAT, Faculty of Sciences Ain Chock, Hassan II University of Casablanca, Morocco',\n",
              "       ...,\n",
              "       \"Amar H., Corrodys, Centre de Corrosion Marine et Biologique, 50120 Equeurdreville - Hainneville, 55 rue Beuzeville, BP 9, France; Benzakour J., Laboratoire d'Electrochimie et de Chimie Analytique, Université Cadi Ayyad, Faculté des Sciences Semlalia, Marrakech, BP 2390, Morocco; Derja A., Laboratoire d'Electrochimie et de Chimie Analytique, Université Cadi Ayyad, Faculté des Sciences Semlalia, Marrakech, BP 2390, Morocco; Villemin D., École Nationale Supérieure d'Ingénieurs, Caen UMR 6507 CNRS, 14050 Caen Cedex, Bd Maréchal Juin, France; Moreau B., École Nationale Supérieure d'Ingénieurs, Caen UMR 6507 CNRS, 14050 Caen Cedex, Bd Maréchal Juin, France; Braisaz T., Corrodys, Centre de Corrosion Marine et Biologique, 50120 Equeurdreville - Hainneville, 55 rue Beuzeville, BP 9, France; Tounsi A., Laboratoire d'Environnement, d'Electrochimie et de Réactivité aux interfaces, Faculté des Sciences et Techniques, Errachidia, BP 509 Boutalamine, Morocco\",\n",
              "       'Davies E.E., Ecole Supérieure Roi Fahd de Traduction, Tangier, BP 410, Morocco; Bentahila A., Ecole Supérieure Roi Fahd de Traduction, Tangier, BP 410, Morocco',\n",
              "       nan], dtype=object)"
            ]
          },
          "metadata": {},
          "execution_count": 121
        }
      ]
    },
    {
      "cell_type": "code",
      "source": [
        "len(Authors_affiliations)"
      ],
      "metadata": {
        "colab": {
          "base_uri": "https://localhost:8080/"
        },
        "id": "FqVu6deaEXIp",
        "outputId": "87630acf-1797-410d-cee3-41098f32e021"
      },
      "execution_count": null,
      "outputs": [
        {
          "output_type": "execute_result",
          "data": {
            "text/plain": [
              "14633"
            ]
          },
          "metadata": {},
          "execution_count": 122
        }
      ]
    },
    {
      "cell_type": "code",
      "source": [
        "dataset['Authors with affiliations'][0]"
      ],
      "metadata": {
        "colab": {
          "base_uri": "https://localhost:8080/",
          "height": 191
        },
        "id": "2meNF-yrEeDW",
        "outputId": "e33cbf0b-1692-432f-fb6f-7f3a7d86b403"
      },
      "execution_count": null,
      "outputs": [
        {
          "output_type": "execute_result",
          "data": {
            "text/plain": [
              "'Mghazli N., Center of Research Plants and Microbial Biotechnologies, Biodiversity and Environment, Team of Microbiology and Molecular Biology, Faculty of Sciences, Mohammed V University in Rabat, Rabat, Morocco, HSM, University of Montpellier, CNRS, IRD, Montpellier, France; Bruneel O., HSM, University of Montpellier, CNRS, IRD, Montpellier, France; Zouagui R., Center of Research Plants and Microbial Biotechnologies, Biodiversity and Environment, Team of Microbiology and Molecular Biology, Faculty of Sciences, Mohammed V University in Rabat, Rabat, Morocco; Hakkou R., Laboratoire des Matériaux Innovants, Energie et Développement Durable (IMED)_Laboratory, Faculty of Science and Technology, Cadi Ayyad University, Marrakesh, Morocco, Geology & Sustainable Mining Institute (GSMI), Mohammed VI Polytechnic University (UM6P), Ben Guerir, Morocco; Sbabou L., Center of Research Plants and Microbial Biotechnologies, Biodiversity and Environment, Team of Microbiology and Molecular Biology, Faculty of Sciences, Mohammed V University in Rabat, Rabat, Morocco'"
            ],
            "application/vnd.google.colaboratory.intrinsic+json": {
              "type": "string"
            }
          },
          "metadata": {},
          "execution_count": 123
        }
      ]
    },
    {
      "cell_type": "code",
      "source": [
        "dataset['Authors with affiliations'][1]"
      ],
      "metadata": {
        "colab": {
          "base_uri": "https://localhost:8080/",
          "height": 139
        },
        "id": "gNhkof3aGZyB",
        "outputId": "5893b97c-0a43-4000-d0c4-56600d4a41ff"
      },
      "execution_count": null,
      "outputs": [
        {
          "output_type": "execute_result",
          "data": {
            "text/plain": [
              "'Khouakhi A., School of Water, Energy and Environment, Centre for Environmental and Agricultural Informatics, Cranfield University, Cranfield, United Kingdom; Driouech F., Mohammed VI Polytechnic University, Benguerir, Morocco; Slater L., School of Geography and the Environment, University of Oxford, Oxford, United Kingdom; Waine T., School of Water, Energy and Environment, Centre for Environmental and Agricultural Informatics, Cranfield University, Cranfield, United Kingdom; Chafki O., Direction Générale de la Météorologie, Casablanca, Morocco; Chehbouni A., Mohammed VI Polytechnic University, Benguerir, Morocco; Raji O., Mohammed VI Polytechnic University, Benguerir, Morocco'"
            ],
            "application/vnd.google.colaboratory.intrinsic+json": {
              "type": "string"
            }
          },
          "metadata": {},
          "execution_count": 124
        }
      ]
    },
    {
      "cell_type": "code",
      "source": [
        "dataset['Authors with affiliations'][3]"
      ],
      "metadata": {
        "colab": {
          "base_uri": "https://localhost:8080/",
          "height": 104
        },
        "id": "8nzjFcMfGim5",
        "outputId": "daa6669c-dfd6-4dc6-84a9-fecafc6212f8"
      },
      "execution_count": null,
      "outputs": [
        {
          "output_type": "execute_result",
          "data": {
            "text/plain": [
              "'Belafhal A., LPNAMME, Laser Physics Group, Department of Physics, Faculty of Sciences, Chouaïb Doukkali University, El Jadida, P. B 20, 24000, Morocco; Benzehoua H., LPNAMME, Laser Physics Group, Department of Physics, Faculty of Sciences, Chouaïb Doukkali University, El Jadida, P. B 20, 24000, Morocco; Balhamri A., Hassan First University of Settat, École Nationale des Sciences Appliquées, LISA, Berrechid, 26100, Morocco; Usman T., Department of General Requirements, University of Technology and Applied Sciences, Sur, 411, Oman'"
            ],
            "application/vnd.google.colaboratory.intrinsic+json": {
              "type": "string"
            }
          },
          "metadata": {},
          "execution_count": 125
        }
      ]
    },
    {
      "cell_type": "code",
      "source": [
        "# Replace NaN with an empty string and ensure all values are strings\n",
        "dataset['Affiliations'] = dataset['Affiliations'].fillna('').astype(str)\n",
        "dataset['Authors with affiliations'] = dataset['Authors with affiliations'].fillna('').astype(str)\n"
      ],
      "metadata": {
        "id": "jj3BmFR_AZ4N"
      },
      "execution_count": null,
      "outputs": []
    },
    {
      "cell_type": "code",
      "source": [
        "# Step 1: Create a mapping for affiliations to authors\n",
        "affiliation_author_map = {}\n",
        "\n",
        "# Process each row in the dataset\n",
        "for index, row in dataset.iterrows():\n",
        "    affiliations = row['Affiliations'].split('; ')\n",
        "    authors = row['Authors with affiliations'].split('; ')\n",
        "\n",
        "    for author in authors:\n",
        "        # For each author, extract their name and affiliation\n",
        "        author_name = author.split(',')[0].strip()  # Extract the author's name\n",
        "        for affiliation in affiliations:\n",
        "            affiliation = affiliation.strip()  # Clean up whitespace\n",
        "            if affiliation not in affiliation_author_map:\n",
        "                affiliation_author_map[affiliation] = []\n",
        "            affiliation_author_map[affiliation].append(author_name)  # Append the author to the affiliation\n",
        "\n",
        "# Step 2: Collect the data in a list instead of using append\n",
        "affiliation_author_data = []\n",
        "\n",
        "for affiliation, authors in affiliation_author_map.items():\n",
        "    for author in authors:\n",
        "        affiliation_author_data.append({\n",
        "            'affiliation': affiliation,\n",
        "            'author': author\n",
        "        })\n",
        "\n",
        "# Convert the list to a DataFrame\n",
        "affiliation_authors_df = pd.DataFrame(affiliation_author_data)\n",
        "\n",
        "# Step 3: Add an ID column for the affiliations\n",
        "affiliation_authors_df['affiliation_id'] = affiliation_authors_df['affiliation'].factorize()[0] + 1  # Unique IDs starting from 1\n",
        "\n",
        "# Display the results\n",
        "print(\"Affiliations and their associated authors with IDs:\")\n",
        "print(affiliation_authors_df)"
      ],
      "metadata": {
        "colab": {
          "base_uri": "https://localhost:8080/"
        },
        "id": "VYjQoWJjYEO1",
        "outputId": "1f5a9ce3-c7c0-4267-bc46-7319ce5a4d32"
      },
      "execution_count": null,
      "outputs": [
        {
          "output_type": "stream",
          "name": "stdout",
          "text": [
            "Affiliations and their associated authors with IDs:\n",
            "                                               affiliation      author  \\\n",
            "0        Center of Research Plants and Microbial Biotec...  Mghazli N.   \n",
            "1        Center of Research Plants and Microbial Biotec...  Bruneel O.   \n",
            "2        Center of Research Plants and Microbial Biotec...  Zouagui R.   \n",
            "3        Center of Research Plants and Microbial Biotec...   Hakkou R.   \n",
            "4        Center of Research Plants and Microbial Biotec...   Sbabou L.   \n",
            "...                                                    ...         ...   \n",
            "7882773                                                                  \n",
            "7882774                                                                  \n",
            "7882775                                                                  \n",
            "7882776                                                                  \n",
            "7882777                                                                  \n",
            "\n",
            "         affiliation_id  \n",
            "0                     1  \n",
            "1                     1  \n",
            "2                     1  \n",
            "3                     1  \n",
            "4                     1  \n",
            "...                 ...  \n",
            "7882773           47001  \n",
            "7882774           47001  \n",
            "7882775           47001  \n",
            "7882776           47001  \n",
            "7882777           47001  \n",
            "\n",
            "[7882778 rows x 3 columns]\n"
          ]
        }
      ]
    },
    {
      "cell_type": "code",
      "source": [
        "affiliation_authors_df.to_csv('/content/drive/MyDrive/affiliation-author.csv', index=False)"
      ],
      "metadata": {
        "id": "ruA1_D_mZUyo"
      },
      "execution_count": null,
      "outputs": []
    }
  ],
  "metadata": {
    "colab": {
      "provenance": [],
      "gpuType": "T4"
    },
    "kernelspec": {
      "display_name": "Python 3",
      "name": "python3"
    },
    "language_info": {
      "name": "python"
    }
  },
  "nbformat": 4,
  "nbformat_minor": 0
}